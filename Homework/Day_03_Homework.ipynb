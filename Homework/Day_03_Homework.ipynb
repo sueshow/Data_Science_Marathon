{
 "cells": [
  {
   "cell_type": "markdown",
   "metadata": {
    "id": "rY2oyzUo2wKZ"
   },
   "source": [
    "* 作業目標：<br>\n",
    "  嘗試練習log的函式並應用<br>"
   ]
  },
  {
   "cell_type": "markdown",
   "metadata": {},
   "source": [
    "* 作業重點：<br>\n",
    "  學員需要複習log的轉換方式<br>\n",
    "  熟悉運用指數函數以及對數函數"
   ]
  },
  {
   "cell_type": "markdown",
   "metadata": {},
   "source": [
    "* 投影片：<br>\n",
    "  正常的人耳能夠聽到最微弱的聲音叫作「聽覺閾」為 20 個微巴斯卡 (縮寫為 μPa) ，以聲壓 20μPa 定義為 0 分貝，表示 V0 為 20μPa，其餘聲壓為 V1(微巴斯卡)，如將 V1 帶入 200μPa，V0 為 20μPa，可以得到 GdB = 20*log10(200/20) = 20GdB。"
   ]
  },
  {
   "cell_type": "markdown",
   "metadata": {
    "id": "Esjhs7zz2y95"
   },
   "source": [
    "* 題目：<br>\n",
    "  * 【基本題】\n",
    "     1. 【簡答題】請比較 np.zeros 和 np.empty 產生出來的陣列有何差異？為什麼要設計兩種方法？\n",
    "     2. 在不用「整數亂數方法」的限制下，如何將包含小數的轉換整數？請將給定的 a 陣列當中的元素變成去掉小數變成整數。\n",
    "     3. 承上題，怎樣可以限制整數的範圍介於 m - n 之間？請將給定的 a 陣列當中的元素的範圍調整成 m - n 之間。\n",
    "  * 【進階題】\n",
    "     * 題目：\n",
    "```\n",
    "name_list = ['小明','小華','小菁','小美','小張','John','Mark','Tom']\n",
    "sex_list = ['boy','boy','girl','girl','boy','boy','boy','boy']\n",
    "weight_list = [67.5,75.3,50.1,45.5,80.8,90.4,78.4,70.7]\n",
    "rank_list = [8,1,5,4,7,6,2,3]\n",
    "myopia_list = [True,True,False,False,True,True,False,False]\n",
    "```\n",
    "\n",
    "     1. 將上列list依照['name', 'sex', 'weight', 'rank', 'myopia']順序擺入array，並且資料型態順序擺入[Unicode,Unicode,float,int,boolean]<br>\n",
    "     2. 呈上題，將array中體重(weight)數據集取出算出全部平均體重\n",
    "     3. 呈上題，進一步算出男生(sex欄位是boy)平均體重、女生(sex欄位是girl)平均體重"
   ]
  },
  {
   "cell_type": "code",
   "execution_count": 10,
   "metadata": {
    "id": "SKVoN9E82yQi"
   },
   "outputs": [
    {
     "name": "stdout",
     "output_type": "stream",
     "text": [
      "NumPy 版本:  1.16.5\n"
     ]
    }
   ],
   "source": [
    "import numpy as np \n",
    "print( 'NumPy 版本: ', np.__version__ )"
   ]
  },
  {
   "cell_type": "markdown",
   "metadata": {},
   "source": [
    "* 【基本題】"
   ]
  },
  {
   "cell_type": "code",
   "execution_count": 21,
   "metadata": {},
   "outputs": [
    {
     "name": "stdout",
     "output_type": "stream",
     "text": [
      "a: [[0. 0. 0. 0. 0. 0.]\n",
      " [0. 0. 0. 0. 0. 0.]\n",
      " [0. 0. 0. 0. 0. 0.]\n",
      " [0. 0. 0. 0. 0. 0.]] ；型態:  float64\n",
      "b: [[6.23042070e-307 1.89146896e-307 1.37961302e-306 1.05699242e-307\n",
      "  8.01097889e-307]\n",
      " [1.78020169e-306 7.56601165e-307 1.02359984e-306 1.33510679e-306\n",
      "  2.22522597e-306]\n",
      " [8.01097889e-307 1.60220800e-306 7.56601165e-307 2.22522596e-306\n",
      "  3.91786943e-317]] ；型態:  float64\n"
     ]
    }
   ],
   "source": [
    "#1.【簡答題】請比較 np.zeros 和 np.empty 產生出來的陣列有何差異？為什麼要設計兩種方法？\n",
    "a = np.zeros((4,6))\n",
    "b = np.empty((3,5))\n",
    "\n",
    "print('a:', a, '；型態: ', a.dtype)\n",
    "print('b:', b, '；型態: ', b.dtype)"
   ]
  },
  {
   "cell_type": "markdown",
   "metadata": {},
   "source": [
    "* zero 是建立0的數值\n",
    "* empty是建立很接近0的數值，可以隨意更改"
   ]
  },
  {
   "cell_type": "code",
   "execution_count": 16,
   "metadata": {},
   "outputs": [
    {
     "name": "stdout",
     "output_type": "stream",
     "text": [
      "a: [[0.71901795 0.50063139 0.99253038]\n",
      " [0.97398425 0.9583742  0.38505516]]\n",
      "b: [[0 0 0]\n",
      " [0 0 0]]\n"
     ]
    }
   ],
   "source": [
    "#2.在不用「整數亂數方法」的限制下，如何將包含小數的轉換整數？請將給定的 a 陣列當中的元素變成去掉小數變成整數。\n",
    "a = np.random.rand(2, 3)\n",
    "b = np.array(a, dtype=int)\n",
    "\n",
    "print('a:', a)\n",
    "print('b:', b)"
   ]
  },
  {
   "cell_type": "code",
   "execution_count": 18,
   "metadata": {},
   "outputs": [
    {
     "name": "stdout",
     "output_type": "stream",
     "text": [
      "h: [[0.4391379  0.79634134 0.35339042 0.09361332 0.51685039 0.64710896]\n",
      " [0.57914855 0.63066508 0.36117116 0.61629972 0.13755617 0.35169669]\n",
      " [0.46117545 0.38812637 0.80957012 0.99447445 0.08278509 0.70689762]\n",
      " [0.80062965 0.67561636 0.16040649 0.2829395  0.03167335 0.5986419 ]]\n",
      "i: [[34.39137897 37.96341344 33.53390416 30.9361332  35.16850391 36.4710896 ]\n",
      " [35.79148546 36.30665085 33.61171156 36.16299718 31.37556167 33.51696685]\n",
      " [34.61175451 33.88126366 38.09570116 39.94474454 30.8278509  37.06897619]\n",
      " [38.00629648 36.7561636  31.60406495 32.829395   30.31673352 35.98641902]]\n"
     ]
    }
   ],
   "source": [
    "#3.承上題，怎樣可以限制整數的範圍介於 m - n 之間？請將給定的 a 陣列當中的元素的範圍調整成 m - n 之間。\n",
    "m = 30\n",
    "n = 40\n",
    "\n",
    "h = np.random.rand (4,6)\n",
    "print ('h:', h)\n",
    "i = m+h*(n-m)\n",
    "print ('i:', i)"
   ]
  },
  {
   "cell_type": "markdown",
   "metadata": {},
   "source": [
    "* 【進階題】"
   ]
  },
  {
   "cell_type": "code",
   "execution_count": 22,
   "metadata": {},
   "outputs": [],
   "source": [
    "name_list = ['小明', '小華', '小菁', '小美', '小張', 'John', 'Mark', 'Tom']\n",
    "sex_list = ['boy', 'boy', 'girl', 'girl', 'boy', 'boy', 'boy', 'boy']\n",
    "weight_list = [67.5, 75.3, 50.1, 45.5, 80.8, 90.4, 78.4, 70.7]\n",
    "rank_list = [8, 1, 5, 4, 7, 6, 2, 3]\n",
    "myopia_list = [True, True, False, False, True, True, False, False]"
   ]
  },
  {
   "cell_type": "code",
   "execution_count": 26,
   "metadata": {},
   "outputs": [
    {
     "name": "stdout",
     "output_type": "stream",
     "text": [
      "[('小明', 'boy', 67.5, 8,  True) ('小華', 'boy', 75.3, 1,  True)\n",
      " ('小菁', 'girl', 50.1, 5, False) ('小美', 'girl', 45.5, 4, False)\n",
      " ('小張', 'boy', 80.8, 7,  True) ('John', 'boy', 90.4, 6,  True)\n",
      " ('Mark', 'boy', 78.4, 2, False) ('Tom', 'boy', 70.7, 3, False)]\n"
     ]
    }
   ],
   "source": [
    "#1.將上列list依照['name', 'sex', 'weight', 'rank', 'myopia']順序擺入array，並且資料型態順序擺入[Unicode,Unicode,float,int,boolean]\n",
    "dt = np.dtype({'names':('name', 'sex', 'weight', 'rank', 'myopia'), 'formats':('U10', 'U6', np.float_, np.int_, np.bool_)})\n",
    "a = np.zeros(8,dtype=dt)\n",
    "a['name'] = name_list\n",
    "a['sex'] = sex_list\n",
    "a['weight'] = weight_list\n",
    "a['rank'] = rank_list\n",
    "a['myopia'] = myopia_list\n",
    "\n",
    "print(a)"
   ]
  },
  {
   "cell_type": "code",
   "execution_count": 25,
   "metadata": {},
   "outputs": [
    {
     "data": {
      "text/plain": [
       "69.8375"
      ]
     },
     "execution_count": 25,
     "metadata": {},
     "output_type": "execute_result"
    }
   ],
   "source": [
    "#2.呈上題，將array中體重(weight)數據集取出算出全部平均體重\n",
    "np.average(a['weight'])"
   ]
  },
  {
   "cell_type": "code",
   "execution_count": 27,
   "metadata": {},
   "outputs": [
    {
     "name": "stdout",
     "output_type": "stream",
     "text": [
      "77.18333333333332\n",
      "47.8\n"
     ]
    }
   ],
   "source": [
    "#3.呈上題，進一步算出男生(sex欄位是boy)平均體重、女生(sex欄位是girl)平均體重\n",
    "\n",
    "boy_index = np.where(a['sex']=='boy')[0]\n",
    "boy_mean = np.mean(a['weight'][boy_index])\n",
    "\n",
    "\n",
    "girl_index = np.where(a['sex']=='girl')[0]\n",
    "girl_mean = np.mean(a['weight'][girl_index])\n",
    "\n",
    "print(boy_mean)\n",
    "print(girl_mean)"
   ]
  },
  {
   "cell_type": "code",
   "execution_count": null,
   "metadata": {},
   "outputs": [],
   "source": []
  },
  {
   "cell_type": "code",
   "execution_count": 2,
   "metadata": {
    "id": "knBzIEbisYO_"
   },
   "outputs": [
    {
     "name": "stdout",
     "output_type": "stream",
     "text": [
      "分貝為 60.0\n"
     ]
    }
   ],
   "source": [
    "#1.正常的談話的聲壓為20000微巴斯卡，請問多少分貝?\n",
    "#請寫下程式\n",
    "V1 = 20000\n",
    "V0 = 20\n",
    "a = 20 * np.log10( V1/V0 )\n",
    "print( '分貝為', a )"
   ]
  },
  {
   "cell_type": "code",
   "execution_count": 5,
   "metadata": {
    "id": "5Vknqg8esbl_"
   },
   "outputs": [
    {
     "name": "stdout",
     "output_type": "stream",
     "text": [
      "30分貝為50分貝的 0.09999999999999999 倍\n"
     ]
    }
   ],
   "source": [
    "#2.30分貝的聲壓會是50分貝的幾倍?\n",
    "#公式移項過後可以得到 V1 = ?\n",
    "#請寫下程式\n",
    "V1 = 10**(30/20)*20\n",
    "V2 = 10**(50/20)*20\n",
    "print( '30分貝為50分貝的', V1/V2, '倍')"
   ]
  },
  {
   "cell_type": "code",
   "execution_count": null,
   "metadata": {
    "id": "LjGnv4Q-1t7u"
   },
   "outputs": [],
   "source": []
  }
 ],
 "metadata": {
  "colab": {
   "authorship_tag": "ABX9TyNuy8nFyZsCqfcHKKs2ys9H",
   "collapsed_sections": [],
   "name": "作業_Hong題目.ipynb",
   "provenance": []
  },
  "kernelspec": {
   "display_name": "Python 3",
   "language": "python",
   "name": "python3"
  },
  "language_info": {
   "codemirror_mode": {
    "name": "ipython",
    "version": 3
   },
   "file_extension": ".py",
   "mimetype": "text/x-python",
   "name": "python",
   "nbconvert_exporter": "python",
   "pygments_lexer": "ipython3",
   "version": "3.7.4"
  }
 },
 "nbformat": 4,
 "nbformat_minor": 1
}
