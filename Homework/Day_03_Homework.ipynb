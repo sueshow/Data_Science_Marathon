{
 "cells": [
  {
   "cell_type": "markdown",
   "metadata": {
    "id": "rY2oyzUo2wKZ"
   },
   "source": [
    "* 作業目標：<br>\n",
    "  嘗試練習log的函式並應用<br>"
   ]
  },
  {
   "cell_type": "markdown",
   "metadata": {},
   "source": [
    "* 作業重點：<br>\n",
    "  學員需要複習log的轉換方式<br>\n",
    "  熟悉運用指數函數以及對數函數"
   ]
  },
  {
   "cell_type": "markdown",
   "metadata": {},
   "source": [
    "* 投影片：<br>\n",
    "  正常的人耳能夠聽到最微弱的聲音叫作「聽覺閾」為 20 個微巴斯卡 (縮寫為 μPa) ，以聲壓 20μPa 定義為 0 分貝，表示 V0 為 20μPa，其餘聲壓為 V1(微巴斯卡)，如將 V1 帶入 200μPa，V0 為 20μPa，可以得到 GdB = 20*log10(200/20) = 20GdB。"
   ]
  },
  {
   "cell_type": "markdown",
   "metadata": {
    "id": "Esjhs7zz2y95"
   },
   "source": [
    "* 題目：<br>\n",
    "  * 【基本題03】\n",
    "     1. 【簡答題】請比較 np.zeros 和 np.empty 產生出來的陣列有何差異？為什麼要設計兩種方法？\n",
    "     2. 在不用「整數亂數方法」的限制下，如何將包含小數的轉換整數？請將給定的 a 陣列當中的元素變成去掉小數變成整數。\n",
    "     3. 承上題，怎樣可以限制整數的範圍介於 m - n 之間？請將給定的 a 陣列當中的元素的範圍調整成 m - n 之間。\n",
    "  * 【進階題03】\n",
    "     * 題目：\n",
    "```\n",
    "name_list = ['小明','小華','小菁','小美','小張','John','Mark','Tom']\n",
    "sex_list = ['boy','boy','girl','girl','boy','boy','boy','boy']\n",
    "weight_list = [67.5,75.3,50.1,45.5,80.8,90.4,78.4,70.7]\n",
    "rank_list = [8,1,5,4,7,6,2,3]\n",
    "myopia_list = [True,True,False,False,True,True,False,False]\n",
    "```\n",
    "\n",
    "     1. 將上列list依照['name', 'sex', 'weight', 'rank', 'myopia']順序擺入array，並且資料型態順序擺入[Unicode,Unicode,float,int,boolean]<br>\n",
    "     2. 呈上題，將array中體重(weight)數據集取出算出全部平均體重\n",
    "     3. 呈上題，進一步算出男生(sex欄位是boy)平均體重、女生(sex欄位是girl)平均體重\n",
    "<br>\n",
    "\n",
    "  * 【基本題04】\n",
    "     1. 【簡答題】 請問下列程式碼，運算結果分別為何？\n",
    "```\n",
    "a = np.array( [20,30,40,50] )\n",
    "b = np.array( [1,2,3,4] ) \n",
    "c = 1\n",
    "d = np.array( [1] )\n",
    "e = np.array( [1,2] ) \n",
    "```\n",
    "     2. 如何在不用迴圈的情況下計算 (A+B)*(-A/2) ？那用迴圈怎麼做？\n",
    "     3. 請問如何計算「1x6 的單位矩陣」和「6x1 的單位矩陣」的內積和外積？"
   ]
  },
  {
   "cell_type": "code",
   "execution_count": 1,
   "metadata": {
    "id": "SKVoN9E82yQi"
   },
   "outputs": [
    {
     "name": "stdout",
     "output_type": "stream",
     "text": [
      "NumPy 版本:  1.16.5\n"
     ]
    }
   ],
   "source": [
    "import numpy as np \n",
    "print( 'NumPy 版本: ', np.__version__ )"
   ]
  },
  {
   "cell_type": "markdown",
   "metadata": {},
   "source": [
    "* 【基本題03】"
   ]
  },
  {
   "cell_type": "code",
   "execution_count": 2,
   "metadata": {},
   "outputs": [
    {
     "name": "stdout",
     "output_type": "stream",
     "text": [
      "a: [[0. 0. 0. 0. 0. 0.]\n",
      " [0. 0. 0. 0. 0. 0.]\n",
      " [0. 0. 0. 0. 0. 0.]\n",
      " [0. 0. 0. 0. 0. 0.]] ；型態:  float64\n",
      "b: [[0. 0. 0. 0. 0.]\n",
      " [0. 0. 0. 0. 0.]\n",
      " [0. 0. 0. 0. 0.]] ；型態:  float64\n"
     ]
    }
   ],
   "source": [
    "#1.【簡答題】請比較 np.zeros 和 np.empty 產生出來的陣列有何差異？為什麼要設計兩種方法？\n",
    "a = np.zeros((4,6))\n",
    "b = np.empty((3,5))\n",
    "\n",
    "print('a:', a, '；型態: ', a.dtype)\n",
    "print('b:', b, '；型態: ', b.dtype)"
   ]
  },
  {
   "cell_type": "markdown",
   "metadata": {},
   "source": [
    "* zero 是建立0的數值\n",
    "* empty是建立很接近0的數值，可以隨意更改"
   ]
  },
  {
   "cell_type": "code",
   "execution_count": 3,
   "metadata": {},
   "outputs": [
    {
     "name": "stdout",
     "output_type": "stream",
     "text": [
      "a: [[0.74216626 0.57789493 0.15212402]\n",
      " [0.19199639 0.06889187 0.65994599]]\n",
      "b: [[74 57 15]\n",
      " [19  6 65]]\n"
     ]
    }
   ],
   "source": [
    "#2.在不用「整數亂數方法」的限制下，如何將包含小數的轉換整數？請將給定的 a 陣列當中的元素變成去掉小數變成整數。\n",
    "a = np.random.rand(2, 3)\n",
    "b = np.array(a*100, dtype=int)\n",
    "\n",
    "print('a:', a)\n",
    "print('b:', b)"
   ]
  },
  {
   "cell_type": "code",
   "execution_count": 4,
   "metadata": {},
   "outputs": [
    {
     "name": "stdout",
     "output_type": "stream",
     "text": [
      "h: [[0.28483277 0.64745271 0.12185712 0.84190888 0.36556227 0.64626978]\n",
      " [0.73666979 0.03040925 0.54891763 0.54129429 0.23843187 0.71593309]\n",
      " [0.42170747 0.09816278 0.93224761 0.27024169 0.5619348  0.06830843]\n",
      " [0.04622285 0.74103914 0.74741621 0.50979769 0.73286546 0.20829019]]\n",
      "i: [[32.84832775 36.47452713 31.21857116 38.41908881 33.65562271 36.46269777]\n",
      " [37.36669787 30.30409251 35.48917633 35.41294291 32.38431867 37.15933093]\n",
      " [34.21707473 30.98162783 39.32247609 32.70241688 35.61934797 30.68308426]\n",
      " [30.46222846 37.41039139 37.47416211 35.09797685 37.32865463 32.08290194]]\n"
     ]
    }
   ],
   "source": [
    "#3.承上題，怎樣可以限制整數的範圍介於 m - n 之間？請將給定的 a 陣列當中的元素的範圍調整成 m - n 之間。\n",
    "m = 30\n",
    "n = 40\n",
    "\n",
    "h = np.random.rand(4,6)\n",
    "print ('h:', h)\n",
    "i = m+h*(n-m)\n",
    "print ('i:', i)"
   ]
  },
  {
   "cell_type": "markdown",
   "metadata": {},
   "source": [
    "* 【進階題03】"
   ]
  },
  {
   "cell_type": "code",
   "execution_count": 5,
   "metadata": {},
   "outputs": [],
   "source": [
    "name_list = ['小明', '小華', '小菁', '小美', '小張', 'John', 'Mark', 'Tom']\n",
    "sex_list = ['boy', 'boy', 'girl', 'girl', 'boy', 'boy', 'boy', 'boy']\n",
    "weight_list = [67.5, 75.3, 50.1, 45.5, 80.8, 90.4, 78.4, 70.7]\n",
    "rank_list = [8, 1, 5, 4, 7, 6, 2, 3]\n",
    "myopia_list = [True, True, False, False, True, True, False, False]"
   ]
  },
  {
   "cell_type": "code",
   "execution_count": 6,
   "metadata": {},
   "outputs": [
    {
     "name": "stdout",
     "output_type": "stream",
     "text": [
      "[('小明', 'boy', 67.5, 8,  True) ('小華', 'boy', 75.3, 1,  True)\n",
      " ('小菁', 'girl', 50.1, 5, False) ('小美', 'girl', 45.5, 4, False)\n",
      " ('小張', 'boy', 80.8, 7,  True) ('John', 'boy', 90.4, 6,  True)\n",
      " ('Mark', 'boy', 78.4, 2, False) ('Tom', 'boy', 70.7, 3, False)]\n"
     ]
    }
   ],
   "source": [
    "#1.將上列list依照['name', 'sex', 'weight', 'rank', 'myopia']順序擺入array，並且資料型態順序擺入[Unicode,Unicode,float,int,boolean]\n",
    "dt = np.dtype({'names':('name', 'sex', 'weight', 'rank', 'myopia'), 'formats':('U10', 'U6', np.float_, np.int_, np.bool_)})\n",
    "a = np.zeros(8,dtype=dt)\n",
    "a['name'] = name_list\n",
    "a['sex'] = sex_list\n",
    "a['weight'] = weight_list\n",
    "a['rank'] = rank_list\n",
    "a['myopia'] = myopia_list\n",
    "\n",
    "print(a)"
   ]
  },
  {
   "cell_type": "code",
   "execution_count": 7,
   "metadata": {},
   "outputs": [
    {
     "data": {
      "text/plain": [
       "69.8375"
      ]
     },
     "execution_count": 7,
     "metadata": {},
     "output_type": "execute_result"
    }
   ],
   "source": [
    "#2.呈上題，將array中體重(weight)數據集取出算出全部平均體重\n",
    "np.average(a['weight'])"
   ]
  },
  {
   "cell_type": "code",
   "execution_count": null,
   "metadata": {},
   "outputs": [],
   "source": []
  }
 ],
 "metadata": {
  "colab": {
   "authorship_tag": "ABX9TyNuy8nFyZsCqfcHKKs2ys9H",
   "collapsed_sections": [],
   "name": "作業_Hong題目.ipynb",
   "provenance": []
  },
  "kernelspec": {
   "display_name": "Python 3",
   "language": "python",
   "name": "python3"
  },
  "language_info": {
   "codemirror_mode": {
    "name": "ipython",
    "version": 3
   },
   "file_extension": ".py",
   "mimetype": "text/x-python",
   "name": "python",
   "nbconvert_exporter": "python",
   "pygments_lexer": "ipython3",
   "version": "3.7.4"
  }
 },
 "nbformat": 4,
 "nbformat_minor": 1
}
