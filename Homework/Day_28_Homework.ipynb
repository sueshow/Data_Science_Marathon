{
 "cells": [
  {
   "cell_type": "markdown",
   "metadata": {},
   "source": [
    "* 重點：\n",
    "  * 今天學到2種分配，包含 :     \n",
    "    * 離散均勻分配 ( Discrete Uniform Distribution )   \n",
    "    * 伯努利分配 ( Bernoulli Distribution )   \n",
    "* 題目：\n",
    "  * 機率可以怎麼用？\n",
    "    * 丟一個銅板，丟了100次，出現正面 50 次的機率有多大。"
   ]
  },
  {
   "cell_type": "code",
   "execution_count": 1,
   "metadata": {},
   "outputs": [],
   "source": [
    "# library\n",
    "import numpy as np\n",
    "import pandas as pd\n",
    "from scipy import stats\n",
    "import math\n",
    "import statistics\n",
    "import matplotlib.pyplot as plt"
   ]
  },
  {
   "cell_type": "markdown",
   "metadata": {},
   "source": [
    "* 丟一個銅板，丟了100次，出現正面 50 次的機率有多大。\n",
    "  (提示: 先想是哪一種分配，然後透過 python 語法進行計算)"
   ]
  },
  {
   "cell_type": "code",
   "execution_count": 2,
   "metadata": {},
   "outputs": [
    {
     "name": "stdout",
     "output_type": "stream",
     "text": [
      "7.96%\n"
     ]
    }
   ],
   "source": [
    "# 二項分佈( Bermoulli Distribution )\n",
    "p = 0.5  # 假設銅板出現正面的機率為 50%\n",
    "n = 100  # 重複 100 次伯努利實驗( Bernoulli trial ) \n",
    "r = 50   # 計算出現 50 次正面\n",
    "\n",
    "# 二項分佈的機率質量函數( probability mass function )\n",
    "probs = stats.binom.pmf(r, n, p)\n",
    "print( '{:.2%}'.format( probs ) )"
   ]
  },
  {
   "cell_type": "code",
   "execution_count": 3,
   "metadata": {},
   "outputs": [
    {
     "data": {
      "image/png": "[encoded data removed]",
      "text/plain": [
       "<Figure size 720x360 with 1 Axes>"
      ]
     },
     "metadata": {
      "needs_background": "light"
     },
     "output_type": "display_data"
    }
   ],
   "source": [
    "p = 0.5                # 假設銅板出現正面的機率為 50%\n",
    "n = 100                # 重複 100 次伯努利實驗( Bernoulli trial ) \n",
    "r = np.arange(0,101)   # 出現正面的可能總次數\n",
    "\n",
    "plt.figure( figsize=(10,5) )\n",
    "plt.bar( r, stats.binom.pmf(r, n, p) )\n",
    "plt.ylabel( 'P(X=x)' )\n",
    "plt.xlabel( 'x' )\n",
    "plt.title( 'Binomial(n=100,p=0.5)' )\n",
    "plt.show( )"
   ]
  }
 ],
 "metadata": {
  "colab": {
   "name": "Day33.YOLO 細節理解 - 網路輸出的後處理_HW.ipynb",
   "provenance": []
  },
  "kernelspec": {
   "display_name": "Python 3",
   "language": "python",
   "name": "python3"
  },
  "language_info": {
   "codemirror_mode": {
    "name": "ipython",
    "version": 3
   },
   "file_extension": ".py",
   "mimetype": "text/x-python",
   "name": "python",
   "nbconvert_exporter": "python",
   "pygments_lexer": "ipython3",
   "version": "3.8.5"
  }
 },
 "nbformat": 4,
 "nbformat_minor": 1
}
