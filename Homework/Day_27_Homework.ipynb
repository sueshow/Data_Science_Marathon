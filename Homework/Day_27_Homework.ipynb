{
 "cells": [
  {
   "cell_type": "markdown",
   "metadata": {},
   "source": [
    "* 作業：<br>\n",
    "  今天學到不同統計量之間特性，試著分析男生女生身高資料，  \n",
    "  試著回答下面的問題：<br>\n",
    "  Q1: 試著用今天所教的內容，如何描述這兩組資料的樣態？   \n",
    "  Q2: 請問男生和女生在平均身高上誰比較高？   \n",
    "  Q3: 請問第二題的答案和日常生活中觀察的一致嗎? 如果不一致，你覺得原因可能為何？\n",
    "  <br>\n",
    "  上述問題透過  python 語法進行運算，並將上述答案填寫在 Google 表單<br>\n",
    "  \n",
    "* [google 表單](https://docs.google.com/forms/d/e/1FAIpQLSdDzwpeJl8YLPwZaW8pBZvtuXY9kIbbZLqxcXyzFaoraV5JEA/viewform)"
   ]
  },
  {
   "cell_type": "code",
   "execution_count": 1,
   "metadata": {
    "colab": {
     "base_uri": "https://localhost:8080/",
     "height": 34
    },
    "colab_type": "code",
    "executionInfo": {
     "elapsed": 1558,
     "status": "ok",
     "timestamp": 1578021044012,
     "user": {
      "displayName": "Mora chen",
      "photoUrl": "https://lh3.googleusercontent.com/a-/AAuE7mB40f7sDArbZ5_DYq02nNcnLD0Ryaf7AhsASSQeLQ=s64",
      "userId": "03171203089166907199"
     },
     "user_tz": -480
    },
    "id": "yz28_IgkYdBW",
    "outputId": "a12f486c-18b3-4fb5-d06c-f162aebd9444"
   },
   "outputs": [],
   "source": [
    "# library\n",
    "import numpy as np\n",
    "import pandas as pd\n",
    "from scipy import stats\n",
    "import math\n",
    "import statistics\n",
    "import matplotlib.pyplot as plt\n",
    "import seaborn as sns"
   ]
  },
  {
   "cell_type": "code",
   "execution_count": 2,
   "metadata": {},
   "outputs": [],
   "source": [
    "## 輸入資料\n",
    "boys = pd.Series( [164, 176, 169, 169, 165, 175, 159, 151, 144, 160, 183, 165, 156, 170, 164, 173, 165, 163, 177, 171] )\n",
    "girls= pd.Series( [169, 183, 170, 168, 182, 170, 173, 185, 151, 156, 162, 169, 162, 181, 159, 154, 167, 175, 170, 160] )"
   ]
  },
  {
   "cell_type": "code",
   "execution_count": 3,
   "metadata": {},
   "outputs": [
    {
     "name": "stdout",
     "output_type": "stream",
     "text": [
      "Boys :\n",
      "Mean(平均值) =  165.95\n",
      "Standard Deviation(標準差) =  9.213691185575838\n",
      "Minimum(最小值) =  144.0\n",
      "25th percentile =  162.25\n",
      "50th percentile(中位數) =  165.0\n",
      "75th percentile =  171.5\n",
      "Maximum(最大值) =  183.0\n",
      "Range(全距) =  39.0\n",
      "Variance(變異數) =  84.89210526315789\n",
      "Skewness(偏度) =  -0.47132127317376954\n",
      "Kurtosis(峰度) =  0.19395882957876331\n",
      "\n",
      "Girls :\n",
      "Mean(平均值) =  168.3\n",
      "Standard Deviation(標準差) =  9.766214587465353\n",
      "Minimum(最小值) =  151.0\n",
      "25th percentile =  161.5\n",
      "50th percentile(中位數) =  169.0\n",
      "75th percentile =  173.5\n",
      "Maximum(最大值) =  185.0\n",
      "Range(全距) =  34.0\n",
      "Variance(變異數) =  95.37894736842104\n",
      "Skewness(偏度) =  0.05985321129365068\n",
      "Kurtosis(峰度) =  -0.8203607083948947\n",
      "\n"
     ]
    }
   ],
   "source": [
    "# Q1: 試著用今天所教的內容，如何描述這兩組資料的樣態?\n",
    "# 暗示: 分別計算男生和女生的統計量\n",
    "# Ans: 女生的資料分布較男生集中；平均身高女生較男生高；女生身高的中位數亦較男生高。\n",
    "\n",
    "for sex, data in zip( ['Boys', 'Girls'], [boys, girls] ):\n",
    "    print( sex, ':' )\n",
    "    print( 'Mean(平均值) = ', data.describe()[1] )\n",
    "    print( 'Standard Deviation(標準差) = ', data.describe()[2] )\n",
    "    print( 'Minimum(最小值) = ', data.describe()[3] )\n",
    "    print( '25th percentile = ', data.describe()[4] )\n",
    "    print( '50th percentile(中位數) = ', data.describe()[5] )\n",
    "    print( '75th percentile = ', data.describe()[6] )\n",
    "    print( 'Maximum(最大值) = ', data.describe()[7] )\n",
    "    print( 'Range(全距) = ', data.describe()[7]-data.describe()[3] )\n",
    "    print( 'Variance(變異數) = ', np.var( data, ddof=1 ) )\n",
    "    print( 'Skewness(偏度) = ', stats.skew( data ) )\n",
    "    print( 'Kurtosis(峰度) = ', stats.kurtosis( data ) )\n",
    "    print( '' )    "
   ]
  },
  {
   "cell_type": "code",
   "execution_count": 4,
   "metadata": {},
   "outputs": [
    {
     "data": {
      "image/png": "[encoded data removed]",
      "text/plain": [
       "<Figure size 720x360 with 1 Axes>"
      ]
     },
     "metadata": {},
     "output_type": "display_data"
    }
   ],
   "source": [
    "plt.style.use( 'ggplot' ) \n",
    "plt.figure( figsize=(10,5) )\n",
    "sns.histplot( boys, kde=True, color='blue', label='Boys' )\n",
    "sns.histplot( girls, kde=True, color='green', label='Girls' )\n",
    "plt.title( 'Height' )\n",
    "plt.legend( )\n",
    "plt.show( )"
   ]
  },
  {
   "cell_type": "code",
   "execution_count": 5,
   "metadata": {},
   "outputs": [
    {
     "name": "stdout",
     "output_type": "stream",
     "text": [
      "Boys :\n",
      "Mean(平均值) =  165.95\n",
      "\n",
      "Girls :\n",
      "Mean(平均值) =  168.3\n",
      "\n"
     ]
    }
   ],
   "source": [
    "# Q2: 請問男生和女生在平均身高上誰比較高? \n",
    "# Ans: 女生\n",
    "\n",
    "for sex, data in zip( ['Boys','Girls'], [boys,girls] ):\n",
    "    print( sex, ':' )\n",
    "    print( 'Mean(平均值) = ', data.describe()[1] )\n",
    "    print()"
   ]
  },
  {
   "cell_type": "code",
   "execution_count": 6,
   "metadata": {},
   "outputs": [],
   "source": [
    "# Q3: 請問第二題的答案和日常生活中觀察的一致嗎? 如果不一致，你覺得原因可能為何? \n",
    "# Ans: 不一致；可能是因為樣本抽樣上的偏差所導致。"
   ]
  },
  {
   "cell_type": "code",
   "execution_count": null,
   "metadata": {},
   "outputs": [],
   "source": []
  }
 ],
 "metadata": {
  "colab": {
   "name": "Day33.YOLO 細節理解 - 網路輸出的後處理_HW.ipynb",
   "provenance": []
  },
  "kernelspec": {
   "display_name": "Python 3",
   "language": "python",
   "name": "python3"
  },
  "language_info": {
   "codemirror_mode": {
    "name": "ipython",
    "version": 3
   },
   "file_extension": ".py",
   "mimetype": "text/x-python",
   "name": "python",
   "nbconvert_exporter": "python",
   "pygments_lexer": "ipython3",
   "version": "3.8.5"
  }
 },
 "nbformat": 4,
 "nbformat_minor": 1
}
