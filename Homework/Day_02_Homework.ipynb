{
 "cells": [
  {
   "cell_type": "markdown",
   "metadata": {
    "id": "CcQnaVToJoMC"
   },
   "source": [
    "* 作業目標：\n",
    "  * 熟悉陣列維度轉換，並且會擷取需要資料"
   ]
  },
  {
   "cell_type": "markdown",
   "metadata": {},
   "source": [
    "* 作業重點：\n",
    "  * 使用reshap須注意order用法\n",
    "  * where可以運用邏輯條件擷取資料"
   ]
  },
  {
   "cell_type": "markdown",
   "metadata": {
    "id": "JKtCM_7rJqUp"
   },
   "source": [
    "* 題目：\n",
    "  * 【基本題02】\n",
    "     1. 【簡答題】 請問 type(...) 跟 a.dtype 這兩個語法有什麼不同？\n",
    "    \n",
    "     ```\n",
    "        print('type(a): ', type(a))\n",
    "        print('a.dtype: ', a.dtype)\n",
    "     ```\n",
    "     \n",
    "     2. 請撰寫一個判斷 a 的元素是否等於指定資料型態的函式\n",
    "     3. 【簡答題】 承上題，請判斷下列三種寫法為何不正確？\n",
    "  * 【進階題02】\n",
    "     1. 將下列陣列(array1)，轉成維度為(5X6)的array，順序按列填充。(hint:order=\"F\")\n",
    "     2. 呈上題的array，找出被6除餘1的數的索引\n",
    "     \n",
    "     ```\n",
    "        def is_dtype(a, t):\n",
    "            return a.dtype is t\n",
    "\n",
    "        def is_dtype(a, t):\n",
    "            return type(a) == np.dtype(t)\n",
    "\n",
    "        def is_dtype(a, t):\n",
    "            return type(a) is np.dtype(t)\n",
    "     ```"
   ]
  },
  {
   "cell_type": "code",
   "execution_count": 2,
   "metadata": {
    "id": "9U3itXkFKqV4"
   },
   "outputs": [
    {
     "name": "stdout",
     "output_type": "stream",
     "text": [
      "NumPy 版本:  1.16.5\n"
     ]
    }
   ],
   "source": [
    "import numpy as np\n",
    "print( 'NumPy 版本: ', np.__version__ )"
   ]
  },
  {
   "cell_type": "markdown",
   "metadata": {},
   "source": [
    "* 【基本題02】"
   ]
  },
  {
   "cell_type": "code",
   "execution_count": 21,
   "metadata": {},
   "outputs": [
    {
     "name": "stdout",
     "output_type": "stream",
     "text": [
      "[ 2  4  6  8 10]\n",
      "type(a):  <class 'numpy.ndarray'>\n",
      "a.dtype:  int64\n",
      "type() 是檢查變數的型態，而不是元素的型態\n"
     ]
    }
   ],
   "source": [
    "#1. 【簡答題】 請問 type(...) 跟 a.dtype 這兩個語法有什麼不同？\n",
    "a = np.linspace(2, 10, num=5, endpoint=True, dtype='int64')\n",
    "print(a)\n",
    "print('type(a): ', type(a))\n",
    "print('a.dtype: ', a.dtype)"
   ]
  },
  {
   "cell_type": "markdown",
   "metadata": {},
   "source": [
    "* type()：回傳變數(a)的型態\n",
    "* dtype()：回傳陣列(a)中的元素型態"
   ]
  },
  {
   "cell_type": "code",
   "execution_count": 17,
   "metadata": {},
   "outputs": [
    {
     "name": "stdout",
     "output_type": "stream",
     "text": [
      "[ 2  4  6  8 10]\n",
      "True\n"
     ]
    }
   ],
   "source": [
    "#2. 請撰寫一個判斷 a 的元素是否等於指定資料型態的函式\n",
    "def is_dtype(a, t):\n",
    "    return a.dtype is np.dtype(t)\n",
    "#a = np.random.randint(10, size=6)\n",
    "print(a)\n",
    "print(is_dtype(a, 'int64'))"
   ]
  },
  {
   "cell_type": "code",
   "execution_count": 20,
   "metadata": {},
   "outputs": [
    {
     "name": "stdout",
     "output_type": "stream",
     "text": [
      "is 相對 == 更嚴格，一定要型態正確才會回傳 True\n"
     ]
    }
   ],
   "source": [
    "#3. 【簡答題】 承上題，請判斷下列三種寫法為何不正確？\n",
    "def is_dtype01(a, t):   #1\n",
    "    return a.dtype is t\n",
    "\n",
    "def is_dtype02(a, t):\n",
    "    return a.dtype is np.dtype(t)\n",
    "\n",
    "def is_dtype03(a, t):\n",
    "    return a.dtype == np.dtype(t)\n",
    "\n",
    "def is_dtype04(a, t):\n",
    "    return type(a) is t\n",
    "\n",
    "def is_dtype05(a, t):   #2\n",
    "    return type(a) == np.dtype(t)\n",
    "\n",
    "def is_dtype06(a, t):   #3\n",
    "    return type(a) is np.dtype(t)"
   ]
  },
  {
   "cell_type": "code",
   "execution_count": 19,
   "metadata": {},
   "outputs": [
    {
     "name": "stdout",
     "output_type": "stream",
     "text": [
      "False\n",
      "True\n",
      "True\n",
      "False\n",
      "False\n",
      "False\n"
     ]
    }
   ],
   "source": [
    "print(is_dtype01(a, 'int64')) \n",
    "print(is_dtype02(a, 'int64'))\n",
    "print(is_dtype03(a, 'int64')) \n",
    "print(is_dtype04(a, 'int64')) \n",
    "print(is_dtype05(a, 'int64'))\n",
    "print(is_dtype06(a, 'int64')) "
   ]
  },
  {
   "cell_type": "code",
   "execution_count": 22,
   "metadata": {},
   "outputs": [
    {
     "name": "stdout",
     "output_type": "stream",
     "text": [
      "type() 是檢查變數的型態，而不是元素的型態\n",
      "is 相對 == 更嚴格，一定要型態正確才會回傳 True\n"
     ]
    }
   ],
   "source": [
    "print('type() 是檢查變數的型態，而不是元素的型態')\n",
    "print('is 相對 == 更嚴格，一定要型態正確才會回傳 True')"
   ]
  },
  {
   "cell_type": "markdown",
   "metadata": {},
   "source": [
    "* is 相對 == 更為嚴格，一定要全部正確才會回傳True"
   ]
  },
  {
   "cell_type": "markdown",
   "metadata": {},
   "source": [
    "* 【進階題02】"
   ]
  },
  {
   "cell_type": "code",
   "execution_count": 9,
   "metadata": {
    "id": "kLjyVid_JpIC"
   },
   "outputs": [
    {
     "data": {
      "text/plain": [
       "array([[ 0,  5, 10, 15, 20, 25],\n",
       "       [ 1,  6, 11, 16, 21, 26],\n",
       "       [ 2,  7, 12, 17, 22, 27],\n",
       "       [ 3,  8, 13, 18, 23, 28],\n",
       "       [ 4,  9, 14, 19, 24, 29]])"
      ]
     },
     "execution_count": 9,
     "metadata": {},
     "output_type": "execute_result"
    }
   ],
   "source": [
    "#1.將下列清單(list1)，轉成維度為(5X6)的array，順序按列填充。(hint:order=\"F\")\n",
    "array1 = np.array(range(30))\n",
    "array1.reshape((5, 6), order='F')"
   ]
  },
  {
   "cell_type": "code",
   "execution_count": 8,
   "metadata": {
    "id": "X1PZ16iqXWOe"
   },
   "outputs": [
    {
     "data": {
      "text/plain": [
       "(array([ 1,  7, 13, 19, 25], dtype=int64),)"
      ]
     },
     "execution_count": 8,
     "metadata": {},
     "output_type": "execute_result"
    }
   ],
   "source": [
    "#2.呈上題的array，找出被6除餘1的數的索引\n",
    "np.where( array1%6==1 )"
   ]
  },
  {
   "cell_type": "code",
   "execution_count": null,
   "metadata": {
    "id": "XvRQhJxNxRPd"
   },
   "outputs": [],
   "source": []
  }
 ],
 "metadata": {
  "colab": {
   "collapsed_sections": [],
   "name": "作業_題目Hong.ipynb",
   "provenance": []
  },
  "kernelspec": {
   "display_name": "Python 3",
   "language": "python",
   "name": "python3"
  },
  "language_info": {
   "codemirror_mode": {
    "name": "ipython",
    "version": 3
   },
   "file_extension": ".py",
   "mimetype": "text/x-python",
   "name": "python",
   "nbconvert_exporter": "python",
   "pygments_lexer": "ipython3",
   "version": "3.8.5"
  }
 },
 "nbformat": 4,
 "nbformat_minor": 1
}
