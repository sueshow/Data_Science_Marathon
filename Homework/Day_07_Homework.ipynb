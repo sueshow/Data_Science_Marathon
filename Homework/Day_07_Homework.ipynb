{
 "cells": [
  {
   "cell_type": "markdown",
   "metadata": {
    "id": "GLhLqOtlj1fc"
   },
   "source": [
    "* 作業目標：\n",
    "  * 活用矩陣運算，實做線性代數"
   ]
  },
  {
   "cell_type": "markdown",
   "metadata": {},
   "source": [
    "* 作業重點：\n",
    "  * 線性代數公式應用\n",
    "  * 矩陣相乘維度需要對好，例如:2X3矩陣乘上3X5矩陣得到2X5矩陣"
   ]
  },
  {
   "cell_type": "markdown",
   "metadata": {
    "id": "Rq6NRNxLj4w1"
   },
   "source": [
    "* 題目:<br>\n",
    "  * 【基礎題】\n",
    "     1. 請比較對一個 100 x 100 * 100 的陣列，使用不同方法對每一個元素 +1 的時間比較。\n",
    "     2. 如何從一個陣列中，找出出現頻率最高的數值與位置？\n",
    "     3. 如何利用 list(...) 實現 a.tolist() 的效果？試著用程式實作。\n",
    "  * 【進階題】\n",
    "  ```\n",
    "  array1 = np.array([[10, 8], [3, 5]]) <br>\n",
    "  ```\n",
    "     1. 運用上列array計算反矩陣，乘上原矩陣，並觀察是否為單位矩陣?\n",
    "     2. 運用上列array計算特徵值、特徵向量?\n",
    "     3. 運用上列array計算SVD?"
   ]
  },
  {
   "cell_type": "code",
   "execution_count": 1,
   "metadata": {},
   "outputs": [
    {
     "name": "stdout",
     "output_type": "stream",
     "text": [
      "NumPy 版本:  1.19.2\n"
     ]
    }
   ],
   "source": [
    "import numpy as np\n",
    "print( 'NumPy 版本: ', np.__version__ )"
   ]
  },
  {
   "cell_type": "code",
   "execution_count": 23,
   "metadata": {},
   "outputs": [],
   "source": [
    "import random\n",
    "import timeit"
   ]
  },
  {
   "cell_type": "markdown",
   "metadata": {},
   "source": [
    "【基礎題】"
   ]
  },
  {
   "cell_type": "code",
   "execution_count": 41,
   "metadata": {},
   "outputs": [
    {
     "data": {
      "text/plain": [
       "array([[[6, 2, 1, ..., 9, 0, 7],\n",
       "        [2, 0, 2, ..., 1, 0, 2],\n",
       "        [8, 8, 8, ..., 5, 4, 0],\n",
       "        ...,\n",
       "        [3, 6, 3, ..., 1, 8, 6],\n",
       "        [3, 2, 1, ..., 7, 5, 4],\n",
       "        [4, 7, 8, ..., 5, 6, 7]],\n",
       "\n",
       "       [[1, 1, 5, ..., 7, 9, 6],\n",
       "        [6, 5, 9, ..., 3, 0, 5],\n",
       "        [7, 3, 5, ..., 6, 5, 0],\n",
       "        ...,\n",
       "        [4, 0, 2, ..., 7, 3, 6],\n",
       "        [7, 5, 6, ..., 4, 4, 0],\n",
       "        [8, 7, 7, ..., 4, 0, 3]],\n",
       "\n",
       "       [[9, 1, 3, ..., 6, 5, 3],\n",
       "        [4, 1, 7, ..., 8, 6, 4],\n",
       "        [4, 8, 7, ..., 3, 3, 8],\n",
       "        ...,\n",
       "        [5, 1, 6, ..., 3, 7, 2],\n",
       "        [6, 9, 3, ..., 9, 1, 0],\n",
       "        [8, 8, 5, ..., 3, 2, 9]],\n",
       "\n",
       "       ...,\n",
       "\n",
       "       [[0, 5, 7, ..., 7, 0, 2],\n",
       "        [4, 0, 9, ..., 6, 9, 5],\n",
       "        [4, 7, 8, ..., 3, 7, 8],\n",
       "        ...,\n",
       "        [3, 7, 0, ..., 7, 8, 4],\n",
       "        [7, 8, 9, ..., 9, 8, 5],\n",
       "        [4, 3, 6, ..., 7, 7, 3]],\n",
       "\n",
       "       [[3, 9, 0, ..., 5, 9, 7],\n",
       "        [5, 2, 3, ..., 2, 3, 2],\n",
       "        [8, 9, 7, ..., 9, 1, 0],\n",
       "        ...,\n",
       "        [5, 1, 5, ..., 4, 4, 4],\n",
       "        [1, 1, 4, ..., 3, 7, 3],\n",
       "        [4, 6, 7, ..., 3, 7, 5]],\n",
       "\n",
       "       [[6, 4, 1, ..., 7, 8, 6],\n",
       "        [4, 9, 3, ..., 4, 1, 9],\n",
       "        [5, 2, 7, ..., 4, 8, 9],\n",
       "        ...,\n",
       "        [2, 5, 4, ..., 3, 4, 9],\n",
       "        [7, 3, 4, ..., 0, 7, 4],\n",
       "        [1, 6, 0, ..., 3, 1, 0]]])"
      ]
     },
     "execution_count": 41,
     "metadata": {},
     "output_type": "execute_result"
    }
   ],
   "source": [
    "#1.請比較對一個 1000 x 100 x 100 的陣列，使用不同方法對每一個元素 +1 的時間比較。\n",
    "random.seed(99)\n",
    "Z = np.random.randint(0, 10, 1000000).reshape(100, 100, 100)\n",
    "Z"
   ]
  },
  {
   "cell_type": "code",
   "execution_count": 42,
   "metadata": {},
   "outputs": [
    {
     "name": "stdout",
     "output_type": "stream",
     "text": [
      "82.9 ns ± 86.3 ns per loop (mean ± std. dev. of 7 runs, 10 loops each)\n"
     ]
    },
    {
     "data": {
      "text/plain": [
       "array([[[ 7,  3,  2, ..., 10,  1,  8],\n",
       "        [ 3,  1,  3, ...,  2,  1,  3],\n",
       "        [ 9,  9,  9, ...,  6,  5,  1],\n",
       "        ...,\n",
       "        [ 4,  7,  4, ...,  2,  9,  7],\n",
       "        [ 4,  3,  2, ...,  8,  6,  5],\n",
       "        [ 5,  8,  9, ...,  6,  7,  8]],\n",
       "\n",
       "       [[ 2,  2,  6, ...,  8, 10,  7],\n",
       "        [ 7,  6, 10, ...,  4,  1,  6],\n",
       "        [ 8,  4,  6, ...,  7,  6,  1],\n",
       "        ...,\n",
       "        [ 5,  1,  3, ...,  8,  4,  7],\n",
       "        [ 8,  6,  7, ...,  5,  5,  1],\n",
       "        [ 9,  8,  8, ...,  5,  1,  4]],\n",
       "\n",
       "       [[10,  2,  4, ...,  7,  6,  4],\n",
       "        [ 5,  2,  8, ...,  9,  7,  5],\n",
       "        [ 5,  9,  8, ...,  4,  4,  9],\n",
       "        ...,\n",
       "        [ 6,  2,  7, ...,  4,  8,  3],\n",
       "        [ 7, 10,  4, ..., 10,  2,  1],\n",
       "        [ 9,  9,  6, ...,  4,  3, 10]],\n",
       "\n",
       "       ...,\n",
       "\n",
       "       [[ 1,  6,  8, ...,  8,  1,  3],\n",
       "        [ 5,  1, 10, ...,  7, 10,  6],\n",
       "        [ 5,  8,  9, ...,  4,  8,  9],\n",
       "        ...,\n",
       "        [ 4,  8,  1, ...,  8,  9,  5],\n",
       "        [ 8,  9, 10, ..., 10,  9,  6],\n",
       "        [ 5,  4,  7, ...,  8,  8,  4]],\n",
       "\n",
       "       [[ 4, 10,  1, ...,  6, 10,  8],\n",
       "        [ 6,  3,  4, ...,  3,  4,  3],\n",
       "        [ 9, 10,  8, ..., 10,  2,  1],\n",
       "        ...,\n",
       "        [ 6,  2,  6, ...,  5,  5,  5],\n",
       "        [ 2,  2,  5, ...,  4,  8,  4],\n",
       "        [ 5,  7,  8, ...,  4,  8,  6]],\n",
       "\n",
       "       [[ 7,  5,  2, ...,  8,  9,  7],\n",
       "        [ 5, 10,  4, ...,  5,  2, 10],\n",
       "        [ 6,  3,  8, ...,  5,  9, 10],\n",
       "        ...,\n",
       "        [ 3,  6,  5, ...,  4,  5, 10],\n",
       "        [ 8,  4,  5, ...,  1,  8,  5],\n",
       "        [ 2,  7,  1, ...,  4,  2,  1]]])"
      ]
     },
     "execution_count": 42,
     "metadata": {},
     "output_type": "execute_result"
    }
   ],
   "source": [
    "%timeit -n 10 a = 2\n",
    "\n",
    "Z + 1"
   ]
  },
  {
   "cell_type": "code",
   "execution_count": 43,
   "metadata": {},
   "outputs": [
    {
     "name": "stdout",
     "output_type": "stream",
     "text": [
      "37.1 ns ± 10.3 ns per loop (mean ± std. dev. of 7 runs, 10 loops each)\n"
     ]
    },
    {
     "data": {
      "text/plain": [
       "array([[[ 7,  3,  2, ..., 10,  1,  8],\n",
       "        [ 3,  1,  3, ...,  2,  1,  3],\n",
       "        [ 9,  9,  9, ...,  6,  5,  1],\n",
       "        ...,\n",
       "        [ 4,  7,  4, ...,  2,  9,  7],\n",
       "        [ 4,  3,  2, ...,  8,  6,  5],\n",
       "        [ 5,  8,  9, ...,  6,  7,  8]],\n",
       "\n",
       "       [[ 2,  2,  6, ...,  8, 10,  7],\n",
       "        [ 7,  6, 10, ...,  4,  1,  6],\n",
       "        [ 8,  4,  6, ...,  7,  6,  1],\n",
       "        ...,\n",
       "        [ 5,  1,  3, ...,  8,  4,  7],\n",
       "        [ 8,  6,  7, ...,  5,  5,  1],\n",
       "        [ 9,  8,  8, ...,  5,  1,  4]],\n",
       "\n",
       "       [[10,  2,  4, ...,  7,  6,  4],\n",
       "        [ 5,  2,  8, ...,  9,  7,  5],\n",
       "        [ 5,  9,  8, ...,  4,  4,  9],\n",
       "        ...,\n",
       "        [ 6,  2,  7, ...,  4,  8,  3],\n",
       "        [ 7, 10,  4, ..., 10,  2,  1],\n",
       "        [ 9,  9,  6, ...,  4,  3, 10]],\n",
       "\n",
       "       ...,\n",
       "\n",
       "       [[ 1,  6,  8, ...,  8,  1,  3],\n",
       "        [ 5,  1, 10, ...,  7, 10,  6],\n",
       "        [ 5,  8,  9, ...,  4,  8,  9],\n",
       "        ...,\n",
       "        [ 4,  8,  1, ...,  8,  9,  5],\n",
       "        [ 8,  9, 10, ..., 10,  9,  6],\n",
       "        [ 5,  4,  7, ...,  8,  8,  4]],\n",
       "\n",
       "       [[ 4, 10,  1, ...,  6, 10,  8],\n",
       "        [ 6,  3,  4, ...,  3,  4,  3],\n",
       "        [ 9, 10,  8, ..., 10,  2,  1],\n",
       "        ...,\n",
       "        [ 6,  2,  6, ...,  5,  5,  5],\n",
       "        [ 2,  2,  5, ...,  4,  8,  4],\n",
       "        [ 5,  7,  8, ...,  4,  8,  6]],\n",
       "\n",
       "       [[ 7,  5,  2, ...,  8,  9,  7],\n",
       "        [ 5, 10,  4, ...,  5,  2, 10],\n",
       "        [ 6,  3,  8, ...,  5,  9, 10],\n",
       "        ...,\n",
       "        [ 3,  6,  5, ...,  4,  5, 10],\n",
       "        [ 8,  4,  5, ...,  1,  8,  5],\n",
       "        [ 2,  7,  1, ...,  4,  2,  1]]])"
      ]
     },
     "execution_count": 43,
     "metadata": {},
     "output_type": "execute_result"
    }
   ],
   "source": [
    "for row in Z:\n",
    "    for num in row:\n",
    "        num += 1\n",
    "\n",
    "%timeit -n 10 a = 2\n",
    "Z"
   ]
  },
  {
   "cell_type": "code",
   "execution_count": 44,
   "metadata": {},
   "outputs": [
    {
     "name": "stdout",
     "output_type": "stream",
     "text": [
      "47.1 ns ± 13.9 ns per loop (mean ± std. dev. of 7 runs, 10 loops each)\n"
     ]
    }
   ],
   "source": [
    "%timeit -n 10 a = 2\n",
    "\n",
    "# type(np.array(np.nditer(Z)))\n",
    "for d in np.array(np.nditer(Z)):\n",
    "    d += 1"
   ]
  },
  {
   "cell_type": "code",
   "execution_count": 45,
   "metadata": {},
   "outputs": [
    {
     "name": "stdout",
     "output_type": "stream",
     "text": [
      "47.1 ns ± 13.9 ns per loop (mean ± std. dev. of 7 runs, 10 loops each)\n"
     ]
    },
    {
     "data": {
      "text/plain": [
       "array([[[ 8,  4,  3, ..., 11,  2,  9],\n",
       "        [ 4,  2,  4, ...,  3,  2,  4],\n",
       "        [10, 10, 10, ...,  7,  6,  2],\n",
       "        ...,\n",
       "        [ 5,  8,  5, ...,  3, 10,  8],\n",
       "        [ 5,  4,  3, ...,  9,  7,  6],\n",
       "        [ 6,  9, 10, ...,  7,  8,  9]],\n",
       "\n",
       "       [[ 3,  3,  7, ...,  9, 11,  8],\n",
       "        [ 8,  7, 11, ...,  5,  2,  7],\n",
       "        [ 9,  5,  7, ...,  8,  7,  2],\n",
       "        ...,\n",
       "        [ 6,  2,  4, ...,  9,  5,  8],\n",
       "        [ 9,  7,  8, ...,  6,  6,  2],\n",
       "        [10,  9,  9, ...,  6,  2,  5]],\n",
       "\n",
       "       [[11,  3,  5, ...,  8,  7,  5],\n",
       "        [ 6,  3,  9, ..., 10,  8,  6],\n",
       "        [ 6, 10,  9, ...,  5,  5, 10],\n",
       "        ...,\n",
       "        [ 7,  3,  8, ...,  5,  9,  4],\n",
       "        [ 8, 11,  5, ..., 11,  3,  2],\n",
       "        [10, 10,  7, ...,  5,  4, 11]],\n",
       "\n",
       "       ...,\n",
       "\n",
       "       [[ 2,  7,  9, ...,  9,  2,  4],\n",
       "        [ 6,  2, 11, ...,  8, 11,  7],\n",
       "        [ 6,  9, 10, ...,  5,  9, 10],\n",
       "        ...,\n",
       "        [ 5,  9,  2, ...,  9, 10,  6],\n",
       "        [ 9, 10, 11, ..., 11, 10,  7],\n",
       "        [ 6,  5,  8, ...,  9,  9,  5]],\n",
       "\n",
       "       [[ 5, 11,  2, ...,  7, 11,  9],\n",
       "        [ 7,  4,  5, ...,  4,  5,  4],\n",
       "        [10, 11,  9, ..., 11,  3,  2],\n",
       "        ...,\n",
       "        [ 7,  3,  7, ...,  6,  6,  6],\n",
       "        [ 3,  3,  6, ...,  5,  9,  5],\n",
       "        [ 6,  8,  9, ...,  5,  9,  7]],\n",
       "\n",
       "       [[ 8,  6,  3, ...,  9, 10,  8],\n",
       "        [ 6, 11,  5, ...,  6,  3, 11],\n",
       "        [ 7,  4,  9, ...,  6, 10, 11],\n",
       "        ...,\n",
       "        [ 4,  7,  6, ...,  5,  6, 11],\n",
       "        [ 9,  5,  6, ...,  2,  9,  6],\n",
       "        [ 3,  8,  2, ...,  5,  3,  2]]])"
      ]
     },
     "execution_count": 45,
     "metadata": {},
     "output_type": "execute_result"
    }
   ],
   "source": [
    "global Z\n",
    "def plus_one():\n",
    "    z1 = Z + 1\n",
    "    return z1\n",
    "\n",
    "%timeit -n 10 a = 2\n",
    "plus_one()"
   ]
  },
  {
   "cell_type": "code",
   "execution_count": 47,
   "metadata": {},
   "outputs": [
    {
     "name": "stdout",
     "output_type": "stream",
     "text": [
      "[2 6 3 3 6 6 5 9 0 9 9 3 9 2 8 2 4 0 8 8 3 5 6 3 5 0 5 8 7 9 4 8 2 0 6 1 5\n",
      " 6 3 0 9 1 1 1 1 8 8 3 0 5]\n"
     ]
    }
   ],
   "source": [
    "# 2.如何從一個陣列中，找出出現頻率最高的數值與位置？\n",
    "Z = np.random.randint(0,10,50)\n",
    "print(Z)"
   ]
  },
  {
   "cell_type": "code",
   "execution_count": 50,
   "metadata": {},
   "outputs": [
    {
     "name": "stdout",
     "output_type": "stream",
     "text": [
      "頻率最高的數值: 9\n",
      "頻率最高的數值的次數: 6\n",
      "頻率最高的數值的位置: [ 7  9 10 12 29 40]\n"
     ]
    }
   ],
   "source": [
    "# rint = np.argmax(np.bincount(Z))\n",
    "uni, con = np.unique(Z, return_counts=True)\n",
    "print('頻率最高的數值:', np.max(uni))\n",
    "print('頻率最高的數值的次數:', con[np.argmax(uni)])\n",
    "# from standard answer: \"to find ALL the indexes\"\n",
    "print('頻率最高的數值的位置:', np.where(Z == np.max(uni))[0])"
   ]
  },
  {
   "cell_type": "code",
   "execution_count": 46,
   "metadata": {},
   "outputs": [
    {
     "name": "stdout",
     "output_type": "stream",
     "text": [
      "[0, 8, 3, 8, 1, 1]\n",
      "[0, 8, 3, 8, 1, 1]\n",
      "====================\n",
      "[[6, 0, 3, 8], [0, 2, 9, 4], [0, 0, 8, 0]]\n",
      "[array([6, 0, 3, 8]), array([0, 2, 9, 4]), array([0, 0, 8, 0])]\n",
      "====================\n",
      "[[[3, 3], [7, 3], [2, 7]], [[9, 0], [3, 0], [8, 9]]]\n",
      "[array([[3, 3],\n",
      "       [7, 3],\n",
      "       [2, 7]]), array([[9, 0],\n",
      "       [3, 0],\n",
      "       [8, 9]])]\n"
     ]
    }
   ],
   "source": [
    "# 3.如何利用 list(...) 實現 a.tolist() 的效果？試著用程式實作。\n",
    "a = np.random.randint(10, size=6) \n",
    "\n",
    "print(a.tolist())\n",
    "print(list(a))\n",
    "print('='*20)\n",
    "\n",
    "b = np.random.randint(10, size=(3,4)) \n",
    "\n",
    "print(b.tolist())\n",
    "print(list(b))\n",
    "print('='*20)\n",
    "\n",
    "c = np.random.randint(10, size=(2,3,2)) \n",
    "\n",
    "print(c.tolist())\n",
    "print(list(c))"
   ]
  },
  {
   "cell_type": "code",
   "execution_count": 52,
   "metadata": {},
   "outputs": [
    {
     "data": {
      "text/plain": [
       "[[[3, 3], [7, 3], [2, 7]], [[9, 0], [3, 0], [8, 9]]]"
      ]
     },
     "execution_count": 52,
     "metadata": {},
     "output_type": "execute_result"
    }
   ],
   "source": [
    "tolist_01 = lambda arr: list(map(tolist_01, arr)) if isinstance(arr, np.ndarray) else arr \n",
    "#isinstance is faster than type()\n",
    "tolist_01(c)"
   ]
  },
  {
   "cell_type": "code",
   "execution_count": 54,
   "metadata": {},
   "outputs": [
    {
     "data": {
      "text/plain": [
       "[[[3, 3], [7, 3], [2, 7]], [[9, 0], [3, 0], [8, 9]]]"
      ]
     },
     "execution_count": 54,
     "metadata": {},
     "output_type": "execute_result"
    }
   ],
   "source": [
    "def tolist_02(arr):\n",
    "    if (isinstance(arr, np.ndarray)):\n",
    "        return(list(map(tolist_02, arr)))        \n",
    "    else:\n",
    "        return(arr)\n",
    "\n",
    "tolist_02(c)"
   ]
  },
  {
   "cell_type": "code",
   "execution_count": 56,
   "metadata": {},
   "outputs": [
    {
     "data": {
      "text/plain": [
       "[[[3, 3], [7, 3], [2, 7]], [[9, 0], [3, 0], [8, 9]]]"
      ]
     },
     "execution_count": 56,
     "metadata": {},
     "output_type": "execute_result"
    }
   ],
   "source": [
    "def tolist_03(iterable):\n",
    "    if type(iterable) != np.ndarray:\n",
    "        return iterable\n",
    "    \n",
    "    temp_list = []\n",
    "    \n",
    "    for row in iterable:\n",
    "        temp_list.append(tolist_03(row))\n",
    "    return temp_list\n",
    "\n",
    "tolist_03(c)"
   ]
  },
  {
   "cell_type": "markdown",
   "metadata": {},
   "source": [
    "【進階題】"
   ]
  },
  {
   "cell_type": "code",
   "execution_count": 2,
   "metadata": {
    "id": "QT4ntMV1kR1c"
   },
   "outputs": [
    {
     "name": "stdout",
     "output_type": "stream",
     "text": [
      "反矩陣 = \n",
      " [[ 0.19230769 -0.30769231]\n",
      " [-0.11538462  0.38461538]]\n"
     ]
    }
   ],
   "source": [
    "#1.運用上列array計算反矩陣，乘上原矩陣，並觀察是否為單位矩陣?\n",
    "array1 = np.array([[10, 8], [3, 5]])\n",
    "\n",
    "inv_array1 = np.linalg.inv( array1 )\n",
    "print( '反矩陣 = \\n', inv_array1 )"
   ]
  },
  {
   "cell_type": "code",
   "execution_count": 3,
   "metadata": {},
   "outputs": [
    {
     "name": "stdout",
     "output_type": "stream",
     "text": [
      "[[1. 0.]\n",
      " [0. 1.]]\n",
      "[[1. 0.]\n",
      " [0. 1.]]\n"
     ]
    }
   ],
   "source": [
    "print( inv_array1 @ array1 )\n",
    "print( array1 @ inv_array1 )"
   ]
  },
  {
   "cell_type": "code",
   "execution_count": 4,
   "metadata": {
    "id": "9f7cVxwwk-y9"
   },
   "outputs": [
    {
     "name": "stdout",
     "output_type": "stream",
     "text": [
      "特徵值= [13.  2.] \n",
      "\n",
      "特徵向量= \n",
      " [[ 0.93632918 -0.70710678]\n",
      " [ 0.35112344  0.70710678]]\n"
     ]
    }
   ],
   "source": [
    "#2.運用上列array計算特徵值、特徵向量?\n",
    "w, v = np.linalg.eig(array1)\n",
    "\n",
    "print( '特徵值=', w, '\\n' )\n",
    "print( '特徵向量= \\n', v )"
   ]
  },
  {
   "cell_type": "code",
   "execution_count": 5,
   "metadata": {
    "id": "OHSs5etxnL8D"
   },
   "outputs": [
    {
     "data": {
      "text/plain": [
       "(array([[-0.91663818, -0.39971796],\n",
       "        [-0.39971796,  0.91663818]]),\n",
       " array([13.94721714,  1.86417116]),\n",
       " array([[-0.74319741, -0.6690722 ],\n",
       "        [-0.6690722 ,  0.74319741]]))"
      ]
     },
     "execution_count": 5,
     "metadata": {},
     "output_type": "execute_result"
    }
   ],
   "source": [
    "#3. 運用上列array計算SVD?\n",
    "np.linalg.svd(array1)"
   ]
  },
  {
   "cell_type": "code",
   "execution_count": null,
   "metadata": {
    "id": "5BaVZFRvpXZo"
   },
   "outputs": [],
   "source": []
  }
 ],
 "metadata": {
  "colab": {
   "collapsed_sections": [],
   "name": "作業Hong題目.ipynb",
   "provenance": []
  },
  "kernelspec": {
   "display_name": "Python 3",
   "language": "python",
   "name": "python3"
  },
  "language_info": {
   "codemirror_mode": {
    "name": "ipython",
    "version": 3
   },
   "file_extension": ".py",
   "mimetype": "text/x-python",
   "name": "python",
   "nbconvert_exporter": "python",
   "pygments_lexer": "ipython3",
   "version": "3.8.5"
  }
 },
 "nbformat": 4,
 "nbformat_minor": 1
}
