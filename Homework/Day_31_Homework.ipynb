{
 "cells": [
  {
   "cell_type": "markdown",
   "metadata": {},
   "source": [
    "* 作業：\n",
    "  * 電影院裡通常都是成對情侶一起去看，假設電影院中有100 個人裡面，有 90 名男性和 10 名女性。在這 10 名女性裡，有一半的人有長髮(5 人)，另一半有短髮(5人)；在 90 名男性當中，81 個人有短髮，9個人有長髮\n",
    "    * Q1：所以根據這個情況條件下。你會預測照片中的長髮是男性或女性？ (直覺回答)\n",
    "    * Q2：以下圖資料，計算當你看到長髮時，是女生的機率？\n",
    "    * Q3：你的決策因為男生女生比例不同 (先驗分配不同)，決策有沒有改變？\n",
    "\n",
    "![Image](Day_30_Image.png)"
   ]
  },
  {
   "cell_type": "markdown",
   "metadata": {},
   "source": [
    "* Q1: 所以根據這個情況條件下，你會預測照片中的長髮是男性或女性(直覺回答)?  "
   ]
  },
  {
   "cell_type": "markdown",
   "metadata": {},
   "source": [
    "* Ans: 男生"
   ]
  },
  {
   "cell_type": "markdown",
   "metadata": {},
   "source": [
    "* Q2: 以上圖資料，計算當你看到長髮時，是女生的機率?  "
   ]
  },
  {
   "cell_type": "markdown",
   "metadata": {},
   "source": [
    "* Ans：<br>\n",
    "  根據貝式定理( Bayes Theorem )，我們可得\n",
    "    $$ P(女生|長髮)=\\frac{\\frac{5}{100}}{\\frac{14}{100}}\\approx 0.3571 $$"
   ]
  },
  {
   "cell_type": "markdown",
   "metadata": {},
   "source": [
    "## 貝式定理（Bayes Theorem）\n",
    "$$ P(A|B)=\\frac{P(A \\cap B)}{P(B)}=\\frac{P(B|A) \\times P(A)}{P(B|A) \\times P(A) + P(B|A^c) \\times P(A^c)} $$"
   ]
  },
  {
   "cell_type": "code",
   "execution_count": 1,
   "metadata": {},
   "outputs": [
    {
     "name": "stdout",
     "output_type": "stream",
     "text": [
      "P(女生|長髮) = 35.71%\n"
     ]
    }
   ],
   "source": [
    "def bayes_theorem( p_a, p_b_given_a, p_b_given_not_a ):\n",
    "    # calculate P(not A)\n",
    "    p_not_a = 1 - p_a\n",
    "    # calculate P(B)\n",
    "    p_b = p_b_given_a * p_a + p_b_given_not_a * p_not_a\n",
    "    # calculate P(A|B)\n",
    "    p_a_given_b = (p_b_given_a * p_a) / p_b\n",
    "    return p_a_given_b\n",
    "\n",
    "\n",
    "# P(A): P(女生)\n",
    "p_a = 10/100\n",
    "\n",
    "# P(B|A): P(長髮|女生)\n",
    "p_b_given_a = 5/10\n",
    "\n",
    "# P(B|not A): P(長髮|男生)\n",
    "p_b_given_not_a = 9/90\n",
    "\n",
    "# calculate P(A|B): P(女生|長髮)\n",
    "result = bayes_theorem( p_a , p_b_given_a, p_b_given_not_a )\n",
    "\n",
    "# P(女生|長髮)\n",
    "print( 'P(女生|長髮) =', '{:.2%}'.format(result) )"
   ]
  },
  {
   "cell_type": "markdown",
   "metadata": {},
   "source": [
    "* Q3:你的決策因為男生女生比例不同(先驗分配不同)，和投影片的結果相比，決策有沒有改變？"
   ]
  },
  {
   "cell_type": "markdown",
   "metadata": {},
   "source": [
    "* Ans: 有改變"
   ]
  },
  {
   "cell_type": "code",
   "execution_count": null,
   "metadata": {},
   "outputs": [],
   "source": []
  }
 ],
 "metadata": {
  "colab": {
   "name": "Day33.YOLO 細節理解 - 網路輸出的後處理_HW.ipynb",
   "provenance": []
  },
  "kernelspec": {
   "display_name": "Python 3",
   "language": "python",
   "name": "python3"
  },
  "language_info": {
   "codemirror_mode": {
    "name": "ipython",
    "version": 3
   },
   "file_extension": ".py",
   "mimetype": "text/x-python",
   "name": "python",
   "nbconvert_exporter": "python",
   "pygments_lexer": "ipython3",
   "version": "3.8.5"
  }
 },
 "nbformat": 4,
 "nbformat_minor": 1
}
