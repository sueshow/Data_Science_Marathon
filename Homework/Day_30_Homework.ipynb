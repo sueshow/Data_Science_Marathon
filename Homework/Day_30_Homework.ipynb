{
 "cells": [
  {
   "cell_type": "markdown",
   "metadata": {},
   "source": [
    "* 目標：\n",
    "  * 熟悉連續型分配的語法\n",
    "  * 怎麼透過 python 語法進行常態分配的機率運算"
   ]
  },
  {
   "cell_type": "markdown",
   "metadata": {},
   "source": [
    "* 題目：\n",
    "  * 基礎\n",
    "    * Q1：計算標準常態分配，小於 1 的機率有多大？\n",
    "    * Q2：計算標準常態分配，大於1，小於 -1 的機率有多大？\n",
    "    * Q3：X~N(2,4)，x 服從常態分配，平均數為2，變異數為 4，計算 X 小於 6 的機率有多大?\n",
    "  * 進階\n",
    "    * 計算 X~N(2,4)，小於 3 的機率有多大？"
   ]
  },
  {
   "cell_type": "code",
   "execution_count": 1,
   "metadata": {
    "colab": {
     "base_uri": "https://localhost:8080/",
     "height": 34
    },
    "colab_type": "code",
    "executionInfo": {
     "elapsed": 1558,
     "status": "ok",
     "timestamp": 1578021044012,
     "user": {
      "displayName": "Mora chen",
      "photoUrl": "https://lh3.googleusercontent.com/a-/AAuE7mB40f7sDArbZ5_DYq02nNcnLD0Ryaf7AhsASSQeLQ=s64",
      "userId": "03171203089166907199"
     },
     "user_tz": -480
    },
    "id": "yz28_IgkYdBW",
    "outputId": "a12f486c-18b3-4fb5-d06c-f162aebd9444"
   },
   "outputs": [],
   "source": [
    "# library\n",
    "import numpy as np\n",
    "import pandas as pd\n",
    "from scipy import stats\n",
    "import math\n",
    "import statistics\n",
    "import seaborn as sns\n",
    "import matplotlib.pyplot as plt"
   ]
  },
  {
   "cell_type": "markdown",
   "metadata": {},
   "source": [
    "【基本題】"
   ]
  },
  {
   "cell_type": "markdown",
   "metadata": {},
   "source": [
    "* Q1: 計算標準常態分配，小於1的機率有多大?\n",
    "![](Day_29_Image_Q1.png)"
   ]
  },
  {
   "cell_type": "code",
   "execution_count": 2,
   "metadata": {},
   "outputs": [
    {
     "name": "stdout",
     "output_type": "stream",
     "text": [
      "P(Z<1) = 0.8413447460685429\n"
     ]
    }
   ],
   "source": [
    "mu = 0     # 平均值\n",
    "sigma = 1  # 標準差\n",
    "\n",
    "prob = stats.norm.cdf( 1, mu, sigma )\n",
    "print( 'P(Z<1) =', prob )"
   ]
  },
  {
   "cell_type": "markdown",
   "metadata": {},
   "source": [
    "* Q2: 計算標準常態分配，大於1，小於 -1 的機率有多大?\n",
    "![](Day_29_Image_Q2.png)"
   ]
  },
  {
   "cell_type": "code",
   "execution_count": 3,
   "metadata": {},
   "outputs": [
    {
     "name": "stdout",
     "output_type": "stream",
     "text": [
      "P(Z<-1 or Z>1) = 0.31731050786291415\n"
     ]
    }
   ],
   "source": [
    "mu = 0     # 平均值\n",
    "sigma = 1  # 標準差\n",
    "\n",
    "prod = 2*stats.norm.cdf( -1, mu, sigma )\n",
    "print( 'P(Z<-1 or Z>1) =', prod )"
   ]
  },
  {
   "cell_type": "markdown",
   "metadata": {},
   "source": [
    "* Q3: X~N(2,4)，x 服從常態分配，平均數為2、變異數為 4。計算 X小於 6 的機率有多大?\n",
    "\n",
    "  - Hint: [Standardizing](https://www.mathsisfun.com/data/standard-normal-distribution.html)"
   ]
  },
  {
   "cell_type": "code",
   "execution_count": 4,
   "metadata": {},
   "outputs": [
    {
     "name": "stdout",
     "output_type": "stream",
     "text": [
      "P(X<6) = P(Z<2) =  0.9772498680518208\n"
     ]
    }
   ],
   "source": [
    "mu = 0     # 平均值\n",
    "sigma = 1  # 標準差\n",
    "\n",
    "prod = stats.norm.cdf( (6-2)/math.sqrt(4), mu, sigma )\n",
    "print( 'P(X<6) = P(Z<2) = ', prod )"
   ]
  },
  {
   "cell_type": "markdown",
   "metadata": {},
   "source": [
    "【進階題】"
   ]
  },
  {
   "cell_type": "markdown",
   "metadata": {},
   "source": [
    "* 計算 X~N(2,4)，小於 3 的機率有多大？"
   ]
  },
  {
   "cell_type": "code",
   "execution_count": 5,
   "metadata": {},
   "outputs": [
    {
     "name": "stdout",
     "output_type": "stream",
     "text": [
      "P(X<3) = P(Z<1/2) =  0.6914624612740131\n"
     ]
    }
   ],
   "source": [
    "mu = 0     # 平均值\n",
    "sigma = 1  # 標準差\n",
    "\n",
    "prod = stats.norm.cdf( (3-2)/math.sqrt(4), mu, sigma )\n",
    "print( 'P(X<3) = P(Z<1/2) = ', prod )"
   ]
  },
  {
   "cell_type": "code",
   "execution_count": null,
   "metadata": {},
   "outputs": [],
   "source": []
  }
 ],
 "metadata": {
  "colab": {
   "name": "Day33.YOLO 細節理解 - 網路輸出的後處理_HW.ipynb",
   "provenance": []
  },
  "kernelspec": {
   "display_name": "Python 3",
   "language": "python",
   "name": "python3"
  },
  "language_info": {
   "codemirror_mode": {
    "name": "ipython",
    "version": 3
   },
   "file_extension": ".py",
   "mimetype": "text/x-python",
   "name": "python",
   "nbconvert_exporter": "python",
   "pygments_lexer": "ipython3",
   "version": "3.8.5"
  }
 },
 "nbformat": 4,
 "nbformat_minor": 1
}
