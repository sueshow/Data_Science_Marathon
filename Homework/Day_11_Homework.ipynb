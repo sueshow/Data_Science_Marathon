{
 "cells": [
  {
   "cell_type": "markdown",
   "metadata": {
    "id": "FkeqfrdQEuUu"
   },
   "source": [
    "* 作業目標：\n",
    "  * 運用編碼處理類別資料<br>\n",
    "  * 補缺失值"
   ]
  },
  {
   "cell_type": "markdown",
   "metadata": {
    "id": "KQnEzEUWSn-6"
   },
   "source": [
    "* 作業重點：\n",
    "  * 類別編碼有多種方法，需分辨使用方法與時機\n",
    "  * 補缺失值須因應情境決定如何補值"
   ]
  },
  {
   "cell_type": "markdown",
   "metadata": {
    "id": "QqR61iXKExtj"
   },
   "source": [
    "* 題目 :\n",
    "  * 【基本11】\n",
    "     1. 根據題目給的 DataFrame 完成下列操作：\n",
    "        - 計算每個不同種類 animal 的 age 的平均數\n",
    "        - 計算每個不同種類 animal 的 age 的平均數\n",
    "        - 將資料依照 Age 欄位由小到大排序，再依照 visits 欄位由大到小排序\n",
    "        - 將 priority 欄位中的 yes 和 no 字串，換成是布林值 的 True 和 False\n",
    "     2. 一個包含兩個欄位的 DataFrame，將每個數字減去\n",
    "        1) 該欄位的平均數\n",
    "        2) 該筆資料平均數\n",
    "     3. 承上題，請問：\n",
    "        1) 哪一比的資料總合最小\n",
    "        2) 哪一欄位的資料總合最小\n",
    "  * 【進階11-1】\n",
    "     1. 對以下成績資料做分析\n",
    "        - 6 號學生(student_id=6) 3 科平均分數為何？\n",
    "        - 6 號學生 3 科平均分數是否有贏過班上一半的同學？\n",
    "        - 由於班上同學成績不好，所以學校統一加分，加分方式為開根號乘以十，請問 6 號同學 3 科成績分別是？\n",
    "        - 承上題，加分後各科班平均變多少？\n",
    "```\n",
    "score_df = pd.DataFrame([[1,56,66,70], [2,90,45,34], [3,45,32,55], [4,70,77,89], [5,56,80,70], [6,60,54,55], [7,45,70,79], [8,34,77,76], [9,25,87,60], [10,88,40,43]],columns=['student_id','math_score','english_score','chinese_score'])\n",
    "```\n",
    "\n",
    "  * 【進階11-2】\n",
    "     1. 將以下問卷資料的職業(Profession)欄位缺失值填入字串'others'，更進一步將字串做編碼。\n",
    "     2. 此時用什麼方式做編碼比較適合?為什麼?"
   ]
  },
  {
   "cell_type": "code",
   "execution_count": 1,
   "metadata": {
    "scrolled": true
   },
   "outputs": [
    {
     "name": "stdout",
     "output_type": "stream",
     "text": [
      "Numpy 版本:  1.19.2\n",
      "Pandas 版本:  1.1.3\n"
     ]
    }
   ],
   "source": [
    "import numpy as np\n",
    "import pandas as pd\n",
    "print( 'Numpy 版本: ', np.__version__ )\n",
    "print( 'Pandas 版本: ', pd.__version__ )"
   ]
  },
  {
   "cell_type": "markdown",
   "metadata": {},
   "source": [
    "* 【基礎11】"
   ]
  },
  {
   "cell_type": "code",
   "execution_count": 2,
   "metadata": {
    "scrolled": false
   },
   "outputs": [
    {
     "data": {
      "text/html": [
       "<div>\n",
       "<style scoped>\n",
       "    .dataframe tbody tr th:only-of-type {\n",
       "        vertical-align: middle;\n",
       "    }\n",
       "\n",
       "    .dataframe tbody tr th {\n",
       "        vertical-align: top;\n",
       "    }\n",
       "\n",
       "    .dataframe thead th {\n",
       "        text-align: right;\n",
       "    }\n",
       "</style>\n",
       "<table border=\"1\" class=\"dataframe\">\n",
       "  <thead>\n",
       "    <tr style=\"text-align: right;\">\n",
       "      <th></th>\n",
       "      <th>animal</th>\n",
       "      <th>age</th>\n",
       "      <th>visits</th>\n",
       "      <th>priority</th>\n",
       "    </tr>\n",
       "  </thead>\n",
       "  <tbody>\n",
       "    <tr>\n",
       "      <th>a</th>\n",
       "      <td>cat</td>\n",
       "      <td>2.5</td>\n",
       "      <td>1</td>\n",
       "      <td>yes</td>\n",
       "    </tr>\n",
       "    <tr>\n",
       "      <th>b</th>\n",
       "      <td>cat</td>\n",
       "      <td>3.0</td>\n",
       "      <td>3</td>\n",
       "      <td>yes</td>\n",
       "    </tr>\n",
       "    <tr>\n",
       "      <th>c</th>\n",
       "      <td>snake</td>\n",
       "      <td>0.5</td>\n",
       "      <td>2</td>\n",
       "      <td>no</td>\n",
       "    </tr>\n",
       "    <tr>\n",
       "      <th>d</th>\n",
       "      <td>dog</td>\n",
       "      <td>NaN</td>\n",
       "      <td>3</td>\n",
       "      <td>yes</td>\n",
       "    </tr>\n",
       "    <tr>\n",
       "      <th>e</th>\n",
       "      <td>dog</td>\n",
       "      <td>5.0</td>\n",
       "      <td>2</td>\n",
       "      <td>no</td>\n",
       "    </tr>\n",
       "    <tr>\n",
       "      <th>f</th>\n",
       "      <td>cat</td>\n",
       "      <td>2.0</td>\n",
       "      <td>3</td>\n",
       "      <td>no</td>\n",
       "    </tr>\n",
       "    <tr>\n",
       "      <th>g</th>\n",
       "      <td>snake</td>\n",
       "      <td>4.5</td>\n",
       "      <td>1</td>\n",
       "      <td>no</td>\n",
       "    </tr>\n",
       "    <tr>\n",
       "      <th>h</th>\n",
       "      <td>cat</td>\n",
       "      <td>NaN</td>\n",
       "      <td>1</td>\n",
       "      <td>yes</td>\n",
       "    </tr>\n",
       "    <tr>\n",
       "      <th>i</th>\n",
       "      <td>dog</td>\n",
       "      <td>7.0</td>\n",
       "      <td>2</td>\n",
       "      <td>no</td>\n",
       "    </tr>\n",
       "    <tr>\n",
       "      <th>j</th>\n",
       "      <td>dog</td>\n",
       "      <td>3.0</td>\n",
       "      <td>1</td>\n",
       "      <td>no</td>\n",
       "    </tr>\n",
       "  </tbody>\n",
       "</table>\n",
       "</div>"
      ],
      "text/plain": [
       "  animal  age  visits priority\n",
       "a    cat  2.5       1      yes\n",
       "b    cat  3.0       3      yes\n",
       "c  snake  0.5       2       no\n",
       "d    dog  NaN       3      yes\n",
       "e    dog  5.0       2       no\n",
       "f    cat  2.0       3       no\n",
       "g  snake  4.5       1       no\n",
       "h    cat  NaN       1      yes\n",
       "i    dog  7.0       2       no\n",
       "j    dog  3.0       1       no"
      ]
     },
     "execution_count": 2,
     "metadata": {},
     "output_type": "execute_result"
    }
   ],
   "source": [
    "#1\n",
    "data = {\n",
    "    'animal': ['cat', 'cat', 'snake', 'dog', 'dog', 'cat', 'snake', 'cat', 'dog', 'dog'],\n",
    "    'age': [2.5, 3, 0.5, np.nan, 5, 2, 4.5, np.nan, 7, 3],\n",
    "    'visits': [1, 3, 2, 3, 2, 3, 1, 1, 2, 1],\n",
    "    'priority': ['yes', 'yes', 'no', 'yes', 'no', 'no', 'no', 'yes', 'no', 'no']\n",
    "}\n",
    "\n",
    "labels = ['a', 'b', 'c', 'd', 'e', 'f', 'g', 'h', 'i', 'j']\n",
    "df = pd.DataFrame(data, index=labels)\n",
    "df"
   ]
  },
  {
   "cell_type": "code",
   "execution_count": 3,
   "metadata": {
    "scrolled": true
   },
   "outputs": [
    {
     "name": "stdout",
     "output_type": "stream",
     "text": [
      "計算每個不同種類 animal 的 age 的平均數\n",
      "snake's average age is 2.5\n",
      "dog's average age is 5.0\n",
      "cat's average age is 2.5\n",
      "====================\n",
      "\n",
      "將資料依照 Age 欄位由小到大排序，再依照 visits 欄位由大到小排序\n",
      "  animal  age  visits priority\n",
      "c  snake  0.5       2       no\n",
      "f    cat  2.0       3       no\n",
      "a    cat  2.5       1      yes\n",
      "b    cat  3.0       3      yes\n",
      "j    dog  3.0       1       no\n",
      "g  snake  4.5       1       no\n",
      "e    dog  5.0       2       no\n",
      "i    dog  7.0       2       no\n",
      "d    dog  NaN       3      yes\n",
      "h    cat  NaN       1      yes\n",
      "====================\n",
      "\n",
      "將 priority 欄位中的 yes 和 no 字串，換成是布林值 的 True 和 False\n",
      "  animal  age  visits  priority\n",
      "a    cat  2.5       1      True\n",
      "b    cat  3.0       3      True\n",
      "c  snake  0.5       2     False\n",
      "d    dog  NaN       3      True\n",
      "e    dog  5.0       2     False\n",
      "f    cat  2.0       3     False\n",
      "g  snake  4.5       1     False\n",
      "h    cat  NaN       1      True\n",
      "i    dog  7.0       2     False\n",
      "j    dog  3.0       1     False\n"
     ]
    }
   ],
   "source": [
    "print('計算每個不同種類 animal 的 age 的平均數')\n",
    "for i in set(df['animal']):\n",
    "    print(f'{i}\\'s average age is', df[df['animal']==i]['age'].mean())\n",
    "\n",
    "print('='*20)\n",
    "print('\\n將資料依照 Age 欄位由小到大排序，再依照 visits 欄位由大到小排序')\n",
    "print(df.sort_values(by=['age', 'visits'], ascending=[True,False]))\n",
    "\n",
    "print('='*20)\n",
    "print('\\n將 priority 欄位中的 yes 和 no 字串，換成是布林值 的 True 和 False')\n",
    "df['priority'].replace({'yes':True, 'no':False}, inplace = True)\n",
    "print(df)"
   ]
  },
  {
   "cell_type": "code",
   "execution_count": 4,
   "metadata": {
    "scrolled": true
   },
   "outputs": [
    {
     "name": "stdout",
     "output_type": "stream",
     "text": [
      "計算每個不同種類 animal 的 age 的平均數\n",
      "animal\n",
      "cat      2.5\n",
      "dog      5.0\n",
      "snake    2.5\n",
      "Name: age, dtype: float64\n",
      "====================\n",
      "\n",
      "將資料依照 Age 欄位由小到大排序，再依照 visits 欄位由大到小排序\n",
      "  animal  age  visits  priority\n",
      "c  snake  0.5       2     False\n",
      "f    cat  2.0       3     False\n",
      "a    cat  2.5       1      True\n",
      "b    cat  3.0       3      True\n",
      "j    dog  3.0       1     False\n",
      "g  snake  4.5       1     False\n",
      "e    dog  5.0       2     False\n",
      "i    dog  7.0       2     False\n",
      "d    dog  NaN       3      True\n",
      "h    cat  NaN       1      True\n",
      "====================\n",
      "\n",
      "將 priority 欄位中的 yes 和 no 字串，換成是布林值 的 True 和 False\n",
      "  animal  age  visits  priority\n",
      "a    cat  2.5       1      True\n",
      "b    cat  3.0       3      True\n",
      "c  snake  0.5       2     False\n",
      "d    dog  NaN       3      True\n",
      "e    dog  5.0       2     False\n",
      "f    cat  2.0       3     False\n",
      "g  snake  4.5       1     False\n",
      "h    cat  NaN       1      True\n",
      "i    dog  7.0       2     False\n",
      "j    dog  3.0       1     False\n"
     ]
    }
   ],
   "source": [
    "## 瘦身寫法\n",
    "print('計算每個不同種類 animal 的 age 的平均數')\n",
    "a = df.groupby(['animal']).mean()\n",
    "print(a['age'])\n",
    "\n",
    "print('='*20)\n",
    "print('\\n將資料依照 Age 欄位由小到大排序，再依照 visits 欄位由大到小排序')\n",
    "print(df.sort_values(by=['age', 'visits'], ascending=[True,False]))\n",
    "\n",
    "print('='*20)\n",
    "print('\\n將 priority 欄位中的 yes 和 no 字串，換成是布林值 的 True 和 False')\n",
    "print(df.replace(['yes', 'no'], ['True', 'False']))"
   ]
  },
  {
   "cell_type": "code",
   "execution_count": 5,
   "metadata": {},
   "outputs": [
    {
     "name": "stdout",
     "output_type": "stream",
     "text": [
      "Over All Mean\n",
      "3.4375\n",
      "3.4375\n"
     ]
    }
   ],
   "source": [
    "print( 'Over All Mean' )\n",
    "print( df.age.mean() )\n",
    "print( df['age'].mean(axis=0) )"
   ]
  },
  {
   "cell_type": "code",
   "execution_count": 6,
   "metadata": {
    "scrolled": true
   },
   "outputs": [
    {
     "data": {
      "text/html": [
       "<div>\n",
       "<style scoped>\n",
       "    .dataframe tbody tr th:only-of-type {\n",
       "        vertical-align: middle;\n",
       "    }\n",
       "\n",
       "    .dataframe tbody tr th {\n",
       "        vertical-align: top;\n",
       "    }\n",
       "\n",
       "    .dataframe thead th {\n",
       "        text-align: right;\n",
       "    }\n",
       "</style>\n",
       "<table border=\"1\" class=\"dataframe\">\n",
       "  <thead>\n",
       "    <tr style=\"text-align: right;\">\n",
       "      <th></th>\n",
       "      <th>0</th>\n",
       "      <th>1</th>\n",
       "      <th>2</th>\n",
       "    </tr>\n",
       "  </thead>\n",
       "  <tbody>\n",
       "    <tr>\n",
       "      <th>0</th>\n",
       "      <td>0.971284</td>\n",
       "      <td>0.746441</td>\n",
       "      <td>0.359062</td>\n",
       "    </tr>\n",
       "    <tr>\n",
       "      <th>1</th>\n",
       "      <td>0.805622</td>\n",
       "      <td>0.372582</td>\n",
       "      <td>0.313344</td>\n",
       "    </tr>\n",
       "    <tr>\n",
       "      <th>2</th>\n",
       "      <td>0.161803</td>\n",
       "      <td>0.496830</td>\n",
       "      <td>0.696586</td>\n",
       "    </tr>\n",
       "    <tr>\n",
       "      <th>3</th>\n",
       "      <td>0.054895</td>\n",
       "      <td>0.021970</td>\n",
       "      <td>0.791641</td>\n",
       "    </tr>\n",
       "    <tr>\n",
       "      <th>4</th>\n",
       "      <td>0.477019</td>\n",
       "      <td>0.474193</td>\n",
       "      <td>0.416709</td>\n",
       "    </tr>\n",
       "  </tbody>\n",
       "</table>\n",
       "</div>"
      ],
      "text/plain": [
       "          0         1         2\n",
       "0  0.971284  0.746441  0.359062\n",
       "1  0.805622  0.372582  0.313344\n",
       "2  0.161803  0.496830  0.696586\n",
       "3  0.054895  0.021970  0.791641\n",
       "4  0.477019  0.474193  0.416709"
      ]
     },
     "execution_count": 6,
     "metadata": {},
     "output_type": "execute_result"
    }
   ],
   "source": [
    "#2\n",
    "df = pd.DataFrame(np.random.random(size=(5, 3)))\n",
    "df"
   ]
  },
  {
   "cell_type": "code",
   "execution_count": 8,
   "metadata": {},
   "outputs": [
    {
     "name": "stdout",
     "output_type": "stream",
     "text": [
      "該欄位的平均數\n",
      "column 0's average is 0.4941245973318854\n",
      "column 1's average is 0.4224034188767515\n",
      "column 2's average is 0.5154683061303176\n",
      "====================\n",
      "該筆資料平均數\n",
      "index 0's average is 0.6922624046063858\n",
      "index 1's average is 0.497182721269122\n",
      "index 2's average is 0.45173977657625725\n",
      "index 3's average is 0.289501742229117\n",
      "index 4's average is 0.4559738925507088\n"
     ]
    }
   ],
   "source": [
    "#  該欄位的平均數\n",
    "print('該欄位的平均數')\n",
    "for i in df.columns[:]:\n",
    "    print(f'column {i}\\'s average is {df[i].mean()}')\n",
    "\n",
    "print('='*20)\n",
    "print('該筆資料平均數')    \n",
    "for i in df.index[:]:\n",
    "    print(f'index {i}\\'s average is {df.loc[i].mean()}')"
   ]
  },
  {
   "cell_type": "code",
   "execution_count": 10,
   "metadata": {},
   "outputs": [
    {
     "name": "stdout",
     "output_type": "stream",
     "text": [
      "每個數字減去該欄位的平均數\n",
      "          0         1         2\n",
      "0  0.477159  0.324038 -0.156406\n",
      "1  0.311497 -0.049821 -0.202125\n",
      "2 -0.332321  0.074427  0.181117\n",
      "3 -0.439230 -0.400433  0.276172\n",
      "4 -0.017105  0.051790 -0.098759\n",
      "====================\n",
      "每個數字減去該筆資料平均數\n",
      "          0         1         2\n",
      "0  0.279021  0.054179 -0.333200\n",
      "1  0.308439 -0.124600 -0.183839\n",
      "2 -0.289936  0.045090  0.244846\n",
      "3 -0.234607 -0.267532  0.502139\n",
      "4  0.021045  0.018219 -0.039265\n",
      "          0         1         2\n",
      "0  0.279021  0.054179 -0.333200\n",
      "1  0.308439 -0.124600 -0.183839\n",
      "2 -0.289936  0.045090  0.244846\n",
      "3 -0.234607 -0.267532  0.502139\n",
      "4  0.021045  0.018219 -0.039265\n"
     ]
    }
   ],
   "source": [
    "##瘦身寫法\n",
    "print('每個數字減去該欄位的平均數')\n",
    "print( df-df.mean(axis=0) )\n",
    "\n",
    "print('='*20)\n",
    "print('每個數字減去該筆資料平均數')\n",
    "print( df.sub(df.mean(axis=1), axis=0) )       #加法用add\n",
    "print( df.apply(lambda x: x-df.mean(axis=1)) ) #apply寫法"
   ]
  },
  {
   "cell_type": "code",
   "execution_count": 11,
   "metadata": {
    "scrolled": true
   },
   "outputs": [
    {
     "name": "stdout",
     "output_type": "stream",
     "text": [
      "哪一筆的資料總合最小\n",
      "3\n",
      "====================\n",
      "哪一欄位的資料總合最小\n",
      "1\n"
     ]
    }
   ],
   "source": [
    "#3\n",
    "print('哪一筆的資料總合最小')\n",
    "df_sum_index = { i:df.loc[i].sum() for i in df.index[:] }\n",
    "print( ''.join([str(i) for i in df_sum_index.keys() if df_sum_index[i]==min(df_sum_index.values())]) )\n",
    "\n",
    "print('='*20)\n",
    "print('哪一欄位的資料總合最小')\n",
    "df_sum_col = { i:df[i].sum() for i in df.columns[:] }\n",
    "print( ''.join([str(i) for i in df_sum_col.keys() if df_sum_col[i]==min(df_sum_col.values())]) )"
   ]
  },
  {
   "cell_type": "code",
   "execution_count": 12,
   "metadata": {},
   "outputs": [
    {
     "name": "stdout",
     "output_type": "stream",
     "text": [
      "哪一筆的資料總合最小\n",
      "3\n",
      "====================\n",
      "哪一欄位的資料總合最小\n",
      "1\n"
     ]
    }
   ],
   "source": [
    "##瘦身寫法\n",
    "print('哪一筆的資料總合最小')\n",
    "print( df.sum(axis=1).idxmin() )\n",
    "\n",
    "print('='*20)\n",
    "print('哪一欄位的資料總合最小')\n",
    "print( df.sum(axis=0).idxmin() )"
   ]
  },
  {
   "cell_type": "markdown",
   "metadata": {},
   "source": [
    "* 【進階11-1】"
   ]
  },
  {
   "cell_type": "code",
   "execution_count": 26,
   "metadata": {
    "scrolled": true
   },
   "outputs": [
    {
     "data": {
      "text/html": [
       "<div>\n",
       "<style scoped>\n",
       "    .dataframe tbody tr th:only-of-type {\n",
       "        vertical-align: middle;\n",
       "    }\n",
       "\n",
       "    .dataframe tbody tr th {\n",
       "        vertical-align: top;\n",
       "    }\n",
       "\n",
       "    .dataframe thead th {\n",
       "        text-align: right;\n",
       "    }\n",
       "</style>\n",
       "<table border=\"1\" class=\"dataframe\">\n",
       "  <thead>\n",
       "    <tr style=\"text-align: right;\">\n",
       "      <th></th>\n",
       "      <th>math_score</th>\n",
       "      <th>english_score</th>\n",
       "      <th>chinese_score</th>\n",
       "    </tr>\n",
       "    <tr>\n",
       "      <th>student_id</th>\n",
       "      <th></th>\n",
       "      <th></th>\n",
       "      <th></th>\n",
       "    </tr>\n",
       "  </thead>\n",
       "  <tbody>\n",
       "    <tr>\n",
       "      <th>1</th>\n",
       "      <td>56</td>\n",
       "      <td>66</td>\n",
       "      <td>70</td>\n",
       "    </tr>\n",
       "    <tr>\n",
       "      <th>2</th>\n",
       "      <td>90</td>\n",
       "      <td>45</td>\n",
       "      <td>34</td>\n",
       "    </tr>\n",
       "    <tr>\n",
       "      <th>3</th>\n",
       "      <td>45</td>\n",
       "      <td>32</td>\n",
       "      <td>55</td>\n",
       "    </tr>\n",
       "    <tr>\n",
       "      <th>4</th>\n",
       "      <td>70</td>\n",
       "      <td>77</td>\n",
       "      <td>89</td>\n",
       "    </tr>\n",
       "    <tr>\n",
       "      <th>5</th>\n",
       "      <td>56</td>\n",
       "      <td>80</td>\n",
       "      <td>70</td>\n",
       "    </tr>\n",
       "    <tr>\n",
       "      <th>6</th>\n",
       "      <td>60</td>\n",
       "      <td>54</td>\n",
       "      <td>55</td>\n",
       "    </tr>\n",
       "    <tr>\n",
       "      <th>7</th>\n",
       "      <td>45</td>\n",
       "      <td>70</td>\n",
       "      <td>79</td>\n",
       "    </tr>\n",
       "    <tr>\n",
       "      <th>8</th>\n",
       "      <td>34</td>\n",
       "      <td>77</td>\n",
       "      <td>76</td>\n",
       "    </tr>\n",
       "    <tr>\n",
       "      <th>9</th>\n",
       "      <td>25</td>\n",
       "      <td>87</td>\n",
       "      <td>60</td>\n",
       "    </tr>\n",
       "    <tr>\n",
       "      <th>10</th>\n",
       "      <td>88</td>\n",
       "      <td>40</td>\n",
       "      <td>43</td>\n",
       "    </tr>\n",
       "  </tbody>\n",
       "</table>\n",
       "</div>"
      ],
      "text/plain": [
       "            math_score  english_score  chinese_score\n",
       "student_id                                          \n",
       "1                   56             66             70\n",
       "2                   90             45             34\n",
       "3                   45             32             55\n",
       "4                   70             77             89\n",
       "5                   56             80             70\n",
       "6                   60             54             55\n",
       "7                   45             70             79\n",
       "8                   34             77             76\n",
       "9                   25             87             60\n",
       "10                  88             40             43"
      ]
     },
     "execution_count": 26,
     "metadata": {},
     "output_type": "execute_result"
    }
   ],
   "source": [
    "score_df = pd.DataFrame([[1,56,66,70], [2,90,45,34], [3,45,32,55], [4,70,77,89], [5,56,80,70], [6,60,54,55], [7,45,70,79], [8,34,77,76], [9,25,87,60], [10,88,40,43]],\n",
    "                        columns=['student_id','math_score','english_score','chinese_score'])\n",
    "score_df = score_df.set_index('student_id')\n",
    "score_df"
   ]
  },
  {
   "cell_type": "code",
   "execution_count": 21,
   "metadata": {},
   "outputs": [
    {
     "name": "stdout",
     "output_type": "stream",
     "text": [
      "56.333333333333336\n"
     ]
    }
   ],
   "source": [
    "#1. 6號學生(student_id=6)3科平均分數為何?\n",
    "print(score_df.loc[6].mean())"
   ]
  },
  {
   "cell_type": "code",
   "execution_count": 23,
   "metadata": {
    "scrolled": true
   },
   "outputs": [
    {
     "name": "stdout",
     "output_type": "stream",
     "text": [
      "No\n"
     ]
    }
   ],
   "source": [
    "#2. 6號學生3科平均分數是否有贏過班上一半的同學\n",
    "score_df['average_score'] = [score_df.loc[i].mean() for i in score_df.index[:]]\n",
    "print('Yes' if list(score_df.sort_values(by=['average_score']).index[:]).index(6) >= len(score_df)/2 else 'No')"
   ]
  },
  {
   "cell_type": "code",
   "execution_count": 22,
   "metadata": {},
   "outputs": [
    {
     "name": "stdout",
     "output_type": "stream",
     "text": [
      "No\n"
     ]
    }
   ],
   "source": [
    "#另法\n",
    "num6 = score_df.loc[6].mean()\n",
    "median = (score_df.sum(axis = 1) / 3).median()\n",
    "\n",
    "if num6 > median:\n",
    "    print('Yes')\n",
    "else:\n",
    "    print('No')"
   ]
  },
  {
   "cell_type": "code",
   "execution_count": 24,
   "metadata": {
    "scrolled": true
   },
   "outputs": [
    {
     "name": "stdout",
     "output_type": "stream",
     "text": [
      "math_score       77.459667\n",
      "english_score    73.484692\n",
      "chinese_score    74.161985\n",
      "Name: 6, dtype: float64\n"
     ]
    }
   ],
   "source": [
    "#由於班上同學成績不好，所以學校統一加分，加分方式為開根號乘以十，請問6號同學3科成績分別是?\n",
    "#score_df.drop(columns='average_score', inplace=True)\n",
    "score_df.iloc[:] = score_df.iloc[:].apply(lambda x : x**(0.5)*10)\n",
    "print(score_df.loc[6])"
   ]
  },
  {
   "cell_type": "code",
   "execution_count": 27,
   "metadata": {},
   "outputs": [
    {
     "data": {
      "text/plain": [
       "math_score       77.459667\n",
       "english_score    73.484692\n",
       "chinese_score    74.161985\n",
       "Name: 6, dtype: float64"
      ]
     },
     "execution_count": 27,
     "metadata": {},
     "output_type": "execute_result"
    }
   ],
   "source": [
    "#另法\n",
    "score_df = score_df.apply(lambda x: x**(0.5)* 10)\n",
    "score_df.loc[6]"
   ]
  },
  {
   "cell_type": "code",
   "execution_count": 28,
   "metadata": {},
   "outputs": [
    {
     "name": "stdout",
     "output_type": "stream",
     "text": [
      "math_score       74.194221\n",
      "english_score    78.350301\n",
      "chinese_score    78.739928\n",
      "dtype: float64\n",
      "====================\n",
      "math_score       74.194221\n",
      "english_score    78.350301\n",
      "chinese_score    78.739928\n",
      "dtype: float64\n"
     ]
    }
   ],
   "source": [
    "#承上題，加分後各科班平均變多少\n",
    "print(score_df.loc[:].mean())\n",
    "print('='*20)\n",
    "print(score_df.mean())"
   ]
  },
  {
   "cell_type": "markdown",
   "metadata": {},
   "source": [
    "* 【進階11-2】"
   ]
  },
  {
   "cell_type": "code",
   "execution_count": 29,
   "metadata": {
    "colab": {
     "base_uri": "https://localhost:8080/",
     "height": 173
    },
    "executionInfo": {
     "elapsed": 845,
     "status": "ok",
     "timestamp": 1606568962588,
     "user": {
      "displayName": "献竤黃",
      "photoUrl": "",
      "userId": "07529243043474362942"
     },
     "user_tz": -480
    },
    "id": "31UzVh-FEvyu",
    "outputId": "66c3c15b-0453-47b9-e878-d66430365402"
   },
   "outputs": [
    {
     "data": {
      "text/html": [
       "<div>\n",
       "<style scoped>\n",
       "    .dataframe tbody tr th:only-of-type {\n",
       "        vertical-align: middle;\n",
       "    }\n",
       "\n",
       "    .dataframe tbody tr th {\n",
       "        vertical-align: top;\n",
       "    }\n",
       "\n",
       "    .dataframe thead th {\n",
       "        text-align: right;\n",
       "    }\n",
       "</style>\n",
       "<table border=\"1\" class=\"dataframe\">\n",
       "  <thead>\n",
       "    <tr style=\"text-align: right;\">\n",
       "      <th></th>\n",
       "      <th>Sex</th>\n",
       "      <th>Profession</th>\n",
       "    </tr>\n",
       "  </thead>\n",
       "  <tbody>\n",
       "    <tr>\n",
       "      <th>0</th>\n",
       "      <td>male</td>\n",
       "      <td>teacher</td>\n",
       "    </tr>\n",
       "    <tr>\n",
       "      <th>1</th>\n",
       "      <td>male</td>\n",
       "      <td>engineer</td>\n",
       "    </tr>\n",
       "    <tr>\n",
       "      <th>2</th>\n",
       "      <td>female</td>\n",
       "      <td>None</td>\n",
       "    </tr>\n",
       "    <tr>\n",
       "      <th>3</th>\n",
       "      <td>female</td>\n",
       "      <td>engineer</td>\n",
       "    </tr>\n",
       "  </tbody>\n",
       "</table>\n",
       "</div>"
      ],
      "text/plain": [
       "      Sex Profession\n",
       "0    male    teacher\n",
       "1    male   engineer\n",
       "2  female       None\n",
       "3  female   engineer"
      ]
     },
     "execution_count": 29,
     "metadata": {},
     "output_type": "execute_result"
    }
   ],
   "source": [
    "# 1.將以下問卷資料的職業(Profession)欄位缺失值填入字串'others'，更進一步將字串做編碼\n",
    "q_df = pd.DataFrame( [['male', 'teacher'], \n",
    "                      ['male', 'engineer'],\n",
    "                      ['female', None],\n",
    "                      ['female', 'engineer']], columns=['Sex','Profession'] )\n",
    "q_df"
   ]
  },
  {
   "cell_type": "code",
   "execution_count": 30,
   "metadata": {
    "id": "-FiQRlTM56hL"
   },
   "outputs": [
    {
     "data": {
      "text/html": [
       "<div>\n",
       "<style scoped>\n",
       "    .dataframe tbody tr th:only-of-type {\n",
       "        vertical-align: middle;\n",
       "    }\n",
       "\n",
       "    .dataframe tbody tr th {\n",
       "        vertical-align: top;\n",
       "    }\n",
       "\n",
       "    .dataframe thead th {\n",
       "        text-align: right;\n",
       "    }\n",
       "</style>\n",
       "<table border=\"1\" class=\"dataframe\">\n",
       "  <thead>\n",
       "    <tr style=\"text-align: right;\">\n",
       "      <th></th>\n",
       "      <th>Sex</th>\n",
       "      <th>Profession</th>\n",
       "    </tr>\n",
       "  </thead>\n",
       "  <tbody>\n",
       "    <tr>\n",
       "      <th>0</th>\n",
       "      <td>male</td>\n",
       "      <td>teacher</td>\n",
       "    </tr>\n",
       "    <tr>\n",
       "      <th>1</th>\n",
       "      <td>male</td>\n",
       "      <td>engineer</td>\n",
       "    </tr>\n",
       "    <tr>\n",
       "      <th>2</th>\n",
       "      <td>female</td>\n",
       "      <td>others</td>\n",
       "    </tr>\n",
       "    <tr>\n",
       "      <th>3</th>\n",
       "      <td>female</td>\n",
       "      <td>engineer</td>\n",
       "    </tr>\n",
       "  </tbody>\n",
       "</table>\n",
       "</div>"
      ],
      "text/plain": [
       "      Sex Profession\n",
       "0    male    teacher\n",
       "1    male   engineer\n",
       "2  female     others\n",
       "3  female   engineer"
      ]
     },
     "execution_count": 30,
     "metadata": {},
     "output_type": "execute_result"
    }
   ],
   "source": [
    "#缺失值填入字串'others'\n",
    "q_df.fillna( value='others', inplace=True )\n",
    "q_df"
   ]
  },
  {
   "cell_type": "code",
   "execution_count": 31,
   "metadata": {
    "id": "fqxavNQV7MiJ",
    "scrolled": true
   },
   "outputs": [
    {
     "data": {
      "text/html": [
       "<div>\n",
       "<style scoped>\n",
       "    .dataframe tbody tr th:only-of-type {\n",
       "        vertical-align: middle;\n",
       "    }\n",
       "\n",
       "    .dataframe tbody tr th {\n",
       "        vertical-align: top;\n",
       "    }\n",
       "\n",
       "    .dataframe thead th {\n",
       "        text-align: right;\n",
       "    }\n",
       "</style>\n",
       "<table border=\"1\" class=\"dataframe\">\n",
       "  <thead>\n",
       "    <tr style=\"text-align: right;\">\n",
       "      <th></th>\n",
       "      <th>Sex</th>\n",
       "      <th>Profession</th>\n",
       "      <th>Profession_engineer</th>\n",
       "      <th>Profession_others</th>\n",
       "      <th>Profession_teacher</th>\n",
       "    </tr>\n",
       "  </thead>\n",
       "  <tbody>\n",
       "    <tr>\n",
       "      <th>0</th>\n",
       "      <td>male</td>\n",
       "      <td>teacher</td>\n",
       "      <td>0</td>\n",
       "      <td>0</td>\n",
       "      <td>1</td>\n",
       "    </tr>\n",
       "    <tr>\n",
       "      <th>1</th>\n",
       "      <td>male</td>\n",
       "      <td>engineer</td>\n",
       "      <td>1</td>\n",
       "      <td>0</td>\n",
       "      <td>0</td>\n",
       "    </tr>\n",
       "    <tr>\n",
       "      <th>2</th>\n",
       "      <td>female</td>\n",
       "      <td>others</td>\n",
       "      <td>0</td>\n",
       "      <td>1</td>\n",
       "      <td>0</td>\n",
       "    </tr>\n",
       "    <tr>\n",
       "      <th>3</th>\n",
       "      <td>female</td>\n",
       "      <td>engineer</td>\n",
       "      <td>1</td>\n",
       "      <td>0</td>\n",
       "      <td>0</td>\n",
       "    </tr>\n",
       "  </tbody>\n",
       "</table>\n",
       "</div>"
      ],
      "text/plain": [
       "      Sex Profession  Profession_engineer  Profession_others  \\\n",
       "0    male    teacher                    0                  0   \n",
       "1    male   engineer                    1                  0   \n",
       "2  female     others                    0                  1   \n",
       "3  female   engineer                    1                  0   \n",
       "\n",
       "   Profession_teacher  \n",
       "0                   1  \n",
       "1                   0  \n",
       "2                   0  \n",
       "3                   0  "
      ]
     },
     "execution_count": 31,
     "metadata": {},
     "output_type": "execute_result"
    }
   ],
   "source": [
    "#更進一步將字串做編碼。此時用什麼方式做編碼比較適合?為什麼?\n",
    "# Ans: One-Hot encoding [虛擬變數(dummy variable)的方法]；因職業之間並沒有順序及大小之分。\n",
    "\n",
    "OneHot = pd.get_dummies( q_df.Profession, prefix='Profession' )\n",
    "q_df = pd.concat( [q_df, OneHot], axis=1 )\n",
    "q_df"
   ]
  },
  {
   "cell_type": "code",
   "execution_count": null,
   "metadata": {},
   "outputs": [],
   "source": []
  }
 ],
 "metadata": {
  "colab": {
   "authorship_tag": "ABX9TyOjMmDZf/vVbf+1vJaHFaKg",
   "collapsed_sections": [],
   "name": "類別資料與缺值處理作業題目.ipynb",
   "provenance": []
  },
  "kernelspec": {
   "display_name": "Python 3",
   "language": "python",
   "name": "python3"
  },
  "language_info": {
   "codemirror_mode": {
    "name": "ipython",
    "version": 3
   },
   "file_extension": ".py",
   "mimetype": "text/x-python",
   "name": "python",
   "nbconvert_exporter": "python",
   "pygments_lexer": "ipython3",
   "version": "3.8.5"
  }
 },
 "nbformat": 4,
 "nbformat_minor": 1
}
