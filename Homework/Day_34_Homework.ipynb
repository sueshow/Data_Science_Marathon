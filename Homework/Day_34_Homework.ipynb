{
 "cells": [
  {
   "cell_type": "markdown",
   "metadata": {},
   "source": [
    "* 作業：\n",
    "  * Q1：用 A/B test 幫工廠做決定吧\n",
    "    * 某工廠想知道兩條不同的生產線的產品不良率是否有所不同，由兩條生產線中各抽取 300 個樣本，第一組有  75 個不良品，第二組有 30 個不良品，我們可以宣稱生產線所生產出的產品不良率不相同？ (以 0.05 為顯著水準)<br>\n",
    "      (提示：透過課程投影片的步驟，需思考 $𝐻_0$、 $𝐻_1$ 的寫法和範例不同唷。)   \n",
    "  * Q2：你的工作，有需要 A/B test 幫你做決定？\n",
    "    * 可以在論壇中，寫出你的問題，嘗試用今天課程教的方法，透過 5個步驟的拆解，計算出結果，透過統計輔助你做決策\n",
    "    * 有一個切割機台今天產生良品9000個，總投入量為9300，昨天產生良品為8600，總投入量為8800，我們可以宣稱今天良率大於昨天嗎？ $H_0$ 今天良率比昨天高($p_a-p_b \\geq 0$)；$H_1$ 今天良率沒比昨天高($p_a-p_b < 0$)"
   ]
  },
  {
   "cell_type": "code",
   "execution_count": 1,
   "metadata": {
    "colab": {
     "base_uri": "https://localhost:8080/",
     "height": 34
    },
    "colab_type": "code",
    "executionInfo": {
     "elapsed": 1558,
     "status": "ok",
     "timestamp": 1578021044012,
     "user": {
      "displayName": "Mora chen",
      "photoUrl": "https://lh3.googleusercontent.com/a-/AAuE7mB40f7sDArbZ5_DYq02nNcnLD0Ryaf7AhsASSQeLQ=s64",
      "userId": "03171203089166907199"
     },
     "user_tz": -480
    },
    "id": "yz28_IgkYdBW",
    "outputId": "a12f486c-18b3-4fb5-d06c-f162aebd9444"
   },
   "outputs": [],
   "source": [
    "# library\n",
    "import numpy as np\n",
    "import pandas as pd\n",
    "from scipy import stats\n",
    "import math\n",
    "import statistics\n",
    "import matplotlib.pyplot as plt\n",
    "import seaborn as sns"
   ]
  },
  {
   "cell_type": "code",
   "execution_count": 2,
   "metadata": {},
   "outputs": [],
   "source": [
    "import statsmodels.stats.proportion"
   ]
  },
  {
   "cell_type": "markdown",
   "metadata": {},
   "source": [
    "第一條生產線的不良率$p_a$；第二條生產線的不良率$p_b$<br>\n",
    "$H_0$: $p_a$ = $p_b$<br>\n",
    "$H_1$: $p_a$ $\\neq$ $p_b$<br>"
   ]
  },
  {
   "cell_type": "code",
   "execution_count": 8,
   "metadata": {},
   "outputs": [
    {
     "name": "stdout",
     "output_type": "stream",
     "text": [
      "Z-test:  4.834937784152282\n",
      "P-value:  1.3318728439003627e-06\n",
      "====================\n",
      "p小於 0.05 為顯著拒絕 H0 假設,可以說產品不良率不同\n"
     ]
    }
   ],
   "source": [
    "A = [ 75, 30 ] \n",
    "B = [ 300, 300 ] \n",
    "result = statsmodels.stats.proportion.proportions_ztest( A, B, alternative='two-sided' )\n",
    "\n",
    "print('Z-test: ', result[0])\n",
    "print('P-value: ', result[1])\n",
    "print('='*20)\n",
    "print('p小於 0.05 為顯著拒絕 H0 假設,可以說產品不良率不同')"
   ]
  },
  {
   "cell_type": "markdown",
   "metadata": {},
   "source": [
    "* Ans: $\\text{p-value} = 0.0000013319$ $<$ $\\alpha=0.05$ 拒絕 $H_0$，故兩生產線的不良率不同。"
   ]
  },
  {
   "cell_type": "markdown",
   "metadata": {},
   "source": [
    "今天生產線的良率$p_a$；昨天生產線的良率$p_b$<br>\n",
    "$H_0: p_a-p_b \\geq 0$<br>\n",
    "$H_1: p_a-p_b < 0$<br>"
   ]
  },
  {
   "cell_type": "code",
   "execution_count": 7,
   "metadata": {
    "scrolled": true
   },
   "outputs": [
    {
     "name": "stdout",
     "output_type": "stream",
     "text": [
      "Z-test:  -3.9102969905092313\n",
      "P-value:  4.609135419734808e-05\n",
      "====================\n",
      "p小於 0.05 為顯著拒絕 H0 假設,可以說昨天良率比今天高\n"
     ]
    }
   ],
   "source": [
    "A = [9000,8600]\n",
    "B = [9300,8800]\n",
    "X = statsmodels.stats.proportion.proportions_ztest(A, B, alternative='smaller')\n",
    "\n",
    "print('Z-test: ', X[0])\n",
    "print('P-value: ', X[1])\n",
    "print('='*20)\n",
    "print('p小於 0.05 為顯著拒絕 H0 假設,可以說昨天良率比今天高')"
   ]
  },
  {
   "cell_type": "markdown",
   "metadata": {},
   "source": [
    "* Ans: $\\text{p-value} = 0.00004609135$ $<$ $\\alpha=0.05$ 拒絕 $H_0$，故今天良率沒比昨天高。"
   ]
  },
  {
   "cell_type": "code",
   "execution_count": null,
   "metadata": {},
   "outputs": [],
   "source": []
  }
 ],
 "metadata": {
  "colab": {
   "name": "Day33.YOLO 細節理解 - 網路輸出的後處理_HW.ipynb",
   "provenance": []
  },
  "kernelspec": {
   "display_name": "Python 3",
   "language": "python",
   "name": "python3"
  },
  "language_info": {
   "codemirror_mode": {
    "name": "ipython",
    "version": 3
   },
   "file_extension": ".py",
   "mimetype": "text/x-python",
   "name": "python",
   "nbconvert_exporter": "python",
   "pygments_lexer": "ipython3",
   "version": "3.8.5"
  }
 },
 "nbformat": 4,
 "nbformat_minor": 1
}
