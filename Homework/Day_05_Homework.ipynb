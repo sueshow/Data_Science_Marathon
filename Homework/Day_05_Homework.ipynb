{
 "cells": [
  {
   "cell_type": "markdown",
   "metadata": {
    "id": "oef8c2jr-PZY"
   },
   "source": [
    "* 作業目標<br>\n",
    "  * 計算有缺失值的資料，統計量實作<br>"
   ]
  },
  {
   "cell_type": "markdown",
   "metadata": {},
   "source": [
    "* 作業重點<br>\n",
    "  * 當遇到缺失值有函式可以處理，不須額外寫程式刪除<br>\n",
    "  * 計算統計量時不能出現缺失值"
   ]
  },
  {
   "cell_type": "markdown",
   "metadata": {
    "id": "4YgL8NF4-Ru3"
   },
   "source": [
    "* 題目：<br>\n",
    "  * 【基本題05】\n",
    "     1. 產生一個 1-11 的一維陣列，並且把 3-6 由正數變成負數。\n",
    "     2. 試著從一個隨機陣列中，找出比 0.5 大的數有幾個？   \n",
    "  * 【進階題05_v1】\n",
    "```\n",
    "  english_score = np.array([55,89,76,65,48,70])<br>\n",
    "  math_score = np.array([60,85,60,68,55,60])<br>\n",
    "  chinese_score = np.array([65,90,82,72,66,77])<br>\n",
    "```\n",
    "     上3列共六位同學的英文、數學、國文成績，第一個元素代表第一位同學，舉例第一位同學英文55分、數學60分、國文65分，運用上列數據回答下列問題。<br>\n",
    "     1. 有多少學生英文成績比數學成績高?\n",
    "     2. 是否全班同學最高分都是國文?\n",
    "  * 【進階題05_v2】\n",
    "```\n",
    "english_score = np.array([55,89,76,65,48,70])\n",
    "math_score = np.array([60,85,60,68,np.nan,60])\n",
    "chinese_score = np.array([65,90,82,72,66,77])\n",
    "```\n",
    "\n",
    "     上3列共六位同學的英文、數學、國文成績，第一個元素代表第一位同學，舉例第一位同學英文55分、數學60分、國文65分，今天第五位同學因某原因沒來考試，導致數學成績缺值，運用上列數據回答下列問題。<br>\n",
    "\n",
    "     1. 請計算各科成績平均、最大值、最小值、標準差，其中數學缺一筆資料可忽略?\n",
    "     2. 第五位同學補考數學後成績為55，請計算補考後數學成績平均、最大值、最小值、標準差?\n",
    "     3. 用補考後資料找出與國文成績相關係數最高的學科?"
   ]
  },
  {
   "cell_type": "code",
   "execution_count": 2,
   "metadata": {
    "executionInfo": {
     "elapsed": 617,
     "status": "ok",
     "timestamp": 1609854566856,
     "user": {
      "displayName": "献竤黃",
      "photoUrl": "",
      "userId": "07529243043474362942"
     },
     "user_tz": -480
    },
    "id": "QwsKU8qO-RK7"
   },
   "outputs": [
    {
     "name": "stdout",
     "output_type": "stream",
     "text": [
      "NumPy 版本:  1.19.2\n"
     ]
    }
   ],
   "source": [
    "import numpy as np\n",
    "print( 'NumPy 版本: ', np.__version__ )"
   ]
  },
  {
   "cell_type": "markdown",
   "metadata": {},
   "source": [
    "【基本題05】"
   ]
  },
  {
   "cell_type": "code",
   "execution_count": 3,
   "metadata": {
    "scrolled": true
   },
   "outputs": [
    {
     "name": "stdout",
     "output_type": "stream",
     "text": [
      "[ 1  2  3  4  5  6  7  8  9 10 11]\n",
      "[ 1  2 -3 -4 -5 -6  7  8  9 10 11]\n"
     ]
    }
   ],
   "source": [
    "#1. 產生一個 1-11 的一維陣列，並且把 3-6 由正數變成負數。\n",
    "a = np.arange(11)+1\n",
    "print(a)\n",
    "\n",
    "a[(3 <= a) & (a < 7)] *= -1\n",
    "print(a)"
   ]
  },
  {
   "cell_type": "code",
   "execution_count": 5,
   "metadata": {},
   "outputs": [
    {
     "name": "stdout",
     "output_type": "stream",
     "text": [
      "[[0.2333607  0.15583061 0.8633127  0.66629102 0.69835116 0.94573644]\n",
      " [0.03956573 0.16276819 0.9094251  0.89282478 0.73940203 0.66462101]\n",
      " [0.34872858 0.93984373 0.4614102  0.40843081 0.07095749 0.82438326]]\n",
      "10\n"
     ]
    }
   ],
   "source": [
    "#2. 試著從一個隨機陣列中，找出比 0.5 大的數有幾個？\n",
    "b = np.random.rand(3, 6)\n",
    "print(b)\n",
    "\n",
    "print(b[b > 0.5].size)"
   ]
  },
  {
   "cell_type": "markdown",
   "metadata": {},
   "source": [
    "【進階題05_v1】"
   ]
  },
  {
   "cell_type": "code",
   "execution_count": 3,
   "metadata": {},
   "outputs": [],
   "source": [
    "english_score = np.array([55,89,76,65,48,70])\n",
    "math_score = np.array([60,85,60,68,55,60])\n",
    "chinese_score = np.array([65,90,82,72,66,77])"
   ]
  },
  {
   "cell_type": "code",
   "execution_count": 4,
   "metadata": {},
   "outputs": [
    {
     "data": {
      "text/plain": [
       "array([False,  True,  True, False, False,  True])"
      ]
     },
     "execution_count": 4,
     "metadata": {},
     "output_type": "execute_result"
    }
   ],
   "source": [
    "#1.有多少學生英文成績比數學成績高?\n",
    "np.greater(english_score, math_score)"
   ]
  },
  {
   "cell_type": "code",
   "execution_count": 5,
   "metadata": {},
   "outputs": [
    {
     "data": {
      "text/plain": [
       "True"
      ]
     },
     "execution_count": 5,
     "metadata": {},
     "output_type": "execute_result"
    }
   ],
   "source": [
    "#2.是否全班同學最高分都是國文?\n",
    "CH_EN = np.greater(chinese_score,english_score)\n",
    "CH_MA = np.greater(chinese_score,math_score)\n",
    "np.all(np.logical_and(CH_EN, CH_MA))"
   ]
  },
  {
   "cell_type": "markdown",
   "metadata": {},
   "source": [
    "【進階題05_v2】"
   ]
  },
  {
   "cell_type": "code",
   "execution_count": 6,
   "metadata": {
    "executionInfo": {
     "elapsed": 1016,
     "status": "ok",
     "timestamp": 1609854567261,
     "user": {
      "displayName": "献竤黃",
      "photoUrl": "",
      "userId": "07529243043474362942"
     },
     "user_tz": -480
    },
    "id": "B5BqDQAe_czh"
   },
   "outputs": [],
   "source": [
    "english_score = np.array([55,89,76,65,48,70])\n",
    "math_score = np.array([60,85,60,68,np.nan,60])\n",
    "chinese_score = np.array([65,90,82,72,66,77])"
   ]
  },
  {
   "cell_type": "code",
   "execution_count": 6,
   "metadata": {
    "executionInfo": {
     "elapsed": 1005,
     "status": "ok",
     "timestamp": 1609854567262,
     "user": {
      "displayName": "献竤黃",
      "photoUrl": "",
      "userId": "07529243043474362942"
     },
     "user_tz": -480
    },
    "id": "K3tUA6u9aI3N"
   },
   "outputs": [
    {
     "name": "stdout",
     "output_type": "stream",
     "text": [
      "英文 的成績:沒有缺漏值\n",
      "平均 =  67.16666666666667\n",
      "最大值 =  89\n",
      "最小值 =  48\n",
      "標準差 =  13.433995020924426 \n",
      "\n",
      "數學 的成績:含有缺漏值\n",
      "平均 =  66.6\n",
      "最大值 =  85.0\n",
      "最小值 =  60.0\n",
      "標準差 =  9.707728879609279\n",
      "缺漏值: [False False False False  True False] \n",
      "\n",
      "國文 的成績:沒有缺漏值\n",
      "平均 =  75.33333333333333\n",
      "最大值 =  90\n",
      "最小值 =  65\n",
      "標準差 =  8.825468196582484 \n",
      "\n"
     ]
    }
   ],
   "source": [
    "#1. 請計算各科成績平均、最大值、最小值、標準差，其中數學缺一筆資料可忽略?\n",
    "\n",
    "subject_list = ['英文', '數學', '國文']\n",
    "score_list = [english_score, math_score, chinese_score]\n",
    "for subject, score in zip(subject_list, score_list):\n",
    "    if not np.any(np.isnan(score)):\n",
    "        print( subject, '的成績:沒有缺漏值' )\n",
    "        print( '平均 = ', np.mean(score) )\n",
    "        print( '最大值 = ', np.max(score) )\n",
    "        print( '最小值 = ', np.min(score) )\n",
    "        print( '標準差 = ', np.std(score), '\\n' )\n",
    "    else: \n",
    "        print( subject, '的成績:含有缺漏值' )\n",
    "        print( '平均 = ', np.nanmean(score) )\n",
    "        print( '最大值 = ', np.nanmax(score) )\n",
    "        print( '最小值 = ', np.nanmin(score) )\n",
    "        print( '標準差 = ', np.nanstd(score) )\n",
    "        print( '缺漏值:', np.isnan(score), '\\n' )"
   ]
  },
  {
   "cell_type": "code",
   "execution_count": 6,
   "metadata": {
    "executionInfo": {
     "elapsed": 996,
     "status": "ok",
     "timestamp": 1609854567262,
     "user": {
      "displayName": "献竤黃",
      "photoUrl": "",
      "userId": "07529243043474362942"
     },
     "user_tz": -480
    },
    "id": "mXjDzvSrbLlf"
   },
   "outputs": [
    {
     "name": "stdout",
     "output_type": "stream",
     "text": [
      "[60. 85. 60. 68. 55. 60.]\n",
      "數學補考後:\n",
      "平均 =  64.66666666666667\n",
      "最大值 =  85.0\n",
      "最小值 =  55.0\n",
      "標準差 =  9.860132971832694\n"
     ]
    }
   ],
   "source": [
    "#2. 第五位同學補考數學後成績為55，請計算補考後數學成績平均、最大值、最小值、標準差?\n",
    "\n",
    "math_score[4] = 55\n",
    "print( math_score )\n",
    "print( '數學補考後:' )\n",
    "print( '平均 = ', np.nanmean(math_score) )\n",
    "print( '最大值 = ', np.nanmax(math_score) )\n",
    "print( '最小值 = ', np.nanmin(math_score) )\n",
    "print( '標準差 = ', np.nanstd(math_score) )"
   ]
  },
  {
   "cell_type": "code",
   "execution_count": 7,
   "metadata": {
    "executionInfo": {
     "elapsed": 989,
     "status": "ok",
     "timestamp": 1609854567264,
     "user": {
      "displayName": "献竤黃",
      "photoUrl": "",
      "userId": "07529243043474362942"
     },
     "user_tz": -480
    },
    "id": "SaGolKx0cKoU"
   },
   "outputs": [
    {
     "name": "stdout",
     "output_type": "stream",
     "text": [
      "國文與數學的相關係數: \n",
      " [[1.         0.74056803]\n",
      " [0.74056803 1.        ]] \n",
      "\n",
      "國文與英文的相關係數: \n",
      " [[1.         0.97792828]\n",
      " [0.97792828 1.        ]]\n"
     ]
    }
   ],
   "source": [
    "#3. 用補考後資料找出與國文成績相關係數最高的學科?\n",
    "\n",
    "print( '國文與數學的相關係數: \\n', np.corrcoef(chinese_score, math_score), '\\n' )\n",
    "print( '國文與英文的相關係數: \\n', np.corrcoef(chinese_score, english_score) )"
   ]
  },
  {
   "cell_type": "code",
   "execution_count": 5,
   "metadata": {
    "executionInfo": {
     "elapsed": 987,
     "status": "ok",
     "timestamp": 1609854567264,
     "user": {
      "displayName": "献竤黃",
      "photoUrl": "",
      "userId": "07529243043474362942"
     },
     "user_tz": -480
    },
    "id": "fTNlLZ9Pzyiy"
   },
   "outputs": [],
   "source": []
  }
 ],
 "metadata": {
  "colab": {
   "authorship_tag": "ABX9TyPtywwDR7TsGGEOMGYLDT5h",
   "collapsed_sections": [],
   "name": "作業Hong題目.ipynb",
   "provenance": []
  },
  "kernelspec": {
   "display_name": "Python 3",
   "language": "python",
   "name": "python3"
  },
  "language_info": {
   "codemirror_mode": {
    "name": "ipython",
    "version": 3
   },
   "file_extension": ".py",
   "mimetype": "text/x-python",
   "name": "python",
   "nbconvert_exporter": "python",
   "pygments_lexer": "ipython3",
   "version": "3.8.5"
  }
 },
 "nbformat": 4,
 "nbformat_minor": 1
}
