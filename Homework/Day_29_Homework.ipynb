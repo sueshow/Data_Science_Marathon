{
 "cells": [
  {
   "cell_type": "markdown",
   "metadata": {},
   "source": [
    "* 重點：五種分配包含     \n",
    "  * 離散均勻分配 ( Discrete Uniform Distribution )   \n",
    "  * 伯努利分配( Bernoulli Distribution )   \n",
    "  * 二項分配(Binomial Distribution)  \n",
    "  * 負二項分配(Negative Binomial Distribution)  \n",
    "  * 超幾何分配(Hypergeometric Distribution)   "
   ]
  },
  {
   "cell_type": "markdown",
   "metadata": {},
   "source": [
    "* 作業\n",
    "  * Q1: 大樂透的頭獎，你必須從 49 挑選出 6 個號碼，且這六個號碼與頭獎的六個號碼一致，頭獎的機率是屬於哪一種分配？\n",
    "  * Q2: 運用範例的 python 程式碼，計算大樂透的中頭獎機率？\n",
    "  * Q3: 你覺得電腦簽注的中獎機率，和人腦簽注相比，哪一個機率高？"
   ]
  },
  {
   "cell_type": "code",
   "execution_count": 1,
   "metadata": {},
   "outputs": [],
   "source": [
    "# library\n",
    "import numpy as np\n",
    "import pandas as pd\n",
    "from scipy import stats\n",
    "import math\n",
    "import statistics\n",
    "import matplotlib.pyplot as plt"
   ]
  },
  {
   "cell_type": "markdown",
   "metadata": {},
   "source": [
    "Q1. 大樂透的頭獎，你必須從 49 挑選出 6 個號碼，且這六個號碼與頭獎的六個號碼一致，頭獎的機率是屬於哪一種分配？"
   ]
  },
  {
   "cell_type": "code",
   "execution_count": 2,
   "metadata": {},
   "outputs": [],
   "source": [
    "# Ans:超幾何分佈"
   ]
  },
  {
   "cell_type": "markdown",
   "metadata": {},
   "source": [
    "Q2. 運用範例的 python 程式碼，計算大樂透的中頭獎機率？"
   ]
  },
  {
   "cell_type": "code",
   "execution_count": 5,
   "metadata": {},
   "outputs": [
    {
     "name": "stdout",
     "output_type": "stream",
     "text": [
      "中頭獎的機率為= 0.00000715%\n"
     ]
    }
   ],
   "source": [
    "N = 49  # 總共有 49 個號碼\n",
    "K = 6   # 中頭獎的 6 個號碼\n",
    "n = 6\n",
    "\n",
    "probs = stats.hypergeom.pmf( 6, N, K, n )\n",
    "print( '中頭獎的機率為=',  '{:.8%}'.format(probs) )"
   ]
  },
  {
   "cell_type": "code",
   "execution_count": 6,
   "metadata": {},
   "outputs": [
    {
     "data": {
      "image/png": "[encoded data removed]",
      "text/plain": [
       "<Figure size 720x360 with 1 Axes>"
      ]
     },
     "metadata": {
      "needs_background": "light"
     },
     "output_type": "display_data"
    }
   ],
   "source": [
    "r = np.arange(0,7)   # 與頭獎號碼相同的數字總數\n",
    "\n",
    "plt.figure( figsize=(10,5) )\n",
    "plt.bar( r, stats.hypergeom.pmf(r,N,K,n) )\n",
    "plt.ylabel( 'P(X=r)' )\n",
    "plt.xlabel( 'r' )\n",
    "plt.title( 'Hyper-Geometric(N=49,K=6,n=6)' )\n",
    "plt.show( )"
   ]
  },
  {
   "cell_type": "markdown",
   "metadata": {},
   "source": [
    "* Q3: 你覺得電腦簽注的中獎機率，和人腦簽注相比，哪一個機率高？ "
   ]
  },
  {
   "cell_type": "code",
   "execution_count": 7,
   "metadata": {},
   "outputs": [],
   "source": [
    "# Ans:一樣高。"
   ]
  },
  {
   "cell_type": "code",
   "execution_count": null,
   "metadata": {},
   "outputs": [],
   "source": []
  }
 ],
 "metadata": {
  "colab": {
   "name": "Day33.YOLO 細節理解 - 網路輸出的後處理_HW.ipynb",
   "provenance": []
  },
  "kernelspec": {
   "display_name": "Python 3",
   "language": "python",
   "name": "python3"
  },
  "language_info": {
   "codemirror_mode": {
    "name": "ipython",
    "version": 3
   },
   "file_extension": ".py",
   "mimetype": "text/x-python",
   "name": "python",
   "nbconvert_exporter": "python",
   "pygments_lexer": "ipython3",
   "version": "3.8.5"
  }
 },
 "nbformat": 4,
 "nbformat_minor": 1
}
