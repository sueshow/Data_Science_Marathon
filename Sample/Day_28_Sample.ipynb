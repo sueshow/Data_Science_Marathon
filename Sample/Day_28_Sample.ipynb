{
 "cells": [
  {
   "cell_type": "markdown",
   "metadata": {
    "id": "a_VmAfWSBJs7"
   },
   "source": [
    "<img width=150 src=\"https://upload.wikimedia.org/wikipedia/commons/thumb/1/1a/NumPy_logo.svg/200px-NumPy_logo.svg.png\"></img>"
   ]
  },
  {
   "cell_type": "markdown",
   "metadata": {},
   "source": [
    "* 重點\n",
    "  * 如何模擬這些分配的樣本點\n",
    "  * 進行一些機率的運算，包含以下離散型分配        \n",
    "    1. 離散均勻分配 ( Discrete Uniform Distribution )     \n",
    "    2. 伯努利分配 ( Bernoulli Distribution )    \n",
    "    3. 二項分配 ( Binomial Distribution )   "
   ]
  },
  {
   "cell_type": "code",
   "execution_count": 1,
   "metadata": {},
   "outputs": [],
   "source": [
    "# library\n",
    "import matplotlib.pyplot as plt\n",
    "import numpy as np\n",
    "import pandas as pd\n",
    "from scipy import stats\n",
    "import math\n",
    "import statistics"
   ]
  },
  {
   "cell_type": "markdown",
   "metadata": {},
   "source": [
    "# 生活中的機率"
   ]
  },
  {
   "cell_type": "markdown",
   "metadata": {},
   "source": [
    "* 範例：\n",
    "  * 1000個商品不良品的個數\n",
    "  * 大樂透會中頭獎的機率\n",
    "  * 台灣男生的身高\n",
    "* 隨機實驗 $\\rightarrow$ 樣本空間 $\\rightarrow X \\rightarrow$ 實數 $\\rightarrow f \\rightarrow$ 機率分配"
   ]
  },
  {
   "cell_type": "markdown",
   "metadata": {},
   "source": [
    "# 機率定義與性質"
   ]
  },
  {
   "cell_type": "markdown",
   "metadata": {},
   "source": [
    "* 定義方式\n",
    "  * 古典機率理論 (classical probability)\n",
    "    * 說明：假設所有的試驗結果機率相同，若有測試結果 n 個，則分配之機率為 1/n\n",
    "    * 範例：投擲硬幣\n",
    "  * 客觀的機率理論 (objective probability)\n",
    "    * 說明：又稱作為相對次數的機率理論，為長時間的重複隨機實驗中事件 E 所發生的機率，為出現該事件之次數與隨機實驗的總次數之比例\n",
    "    * 範例：拋擲一顆均勻的 6 面的骰子每個數字應等機率出現，所以每次扔出骰子後，出現點數的期望值為 3.5，根據大數理論，隨著拋擲次數的增加，平均值 (樣本平均值) 應該接近 3.5，若對 n 個相互獨立的隨機變數的平均值，頻率越多則相對越精準\n",
    "  * 主觀的機率理論 (subjective probability)\n",
    "    * 事件發生機率取決於任對於發生此事件的信心程度，但主觀機率無客觀標準，因此主觀認知的爭議較大\n",
    "    * 範例：買樂透自己選擇號碼的，必定是認為自己所選號碼更有信心中獎"
   ]
  },
  {
   "cell_type": "markdown",
   "metadata": {},
   "source": [
    "* 機率分佈之兩種型態\n",
    "  * 離散型：可能值為有限個或可數無限個，數值可列舉 (可數)\n",
    "  * 連續型：可能值為一區間或數個區間內之任何值，數值無法列舉 (不可數)"
   ]
  },
  {
   "cell_type": "markdown",
   "metadata": {},
   "source": [
    "* 名詞\n",
    "  * 隨機實驗 (Random Experiment)：每次實驗結果都具有不確定性，透過實驗能發現某種規律性\n",
    "  * 樣本空間 (Sample Space；S)：一項試驗中所有可能發生結果所形成的集合，如：S={1,2,3,4,5,6}\n",
    "  * 樣本點 (Sample)：樣本空間的每一元素稱為一個樣本點，如：1或4\n",
    "  * 事件 (Event)：樣本空間中每一部分集合(含空集合)均為此一樣本空間之一事件(即每一可能發生的結果)，如：數值小於2\n",
    "  * 試驗 (Trial)：一個隨機實驗的執行一次，如：一次骰子，就是一次實驗\n",
    "  * 隨機變數 (Random Variable)：為了將樣本空間轉換成實數，方便數值運算"
   ]
  },
  {
   "cell_type": "markdown",
   "metadata": {},
   "source": [
    "# 離散型分配"
   ]
  },
  {
   "cell_type": "markdown",
   "metadata": {},
   "source": [
    "## 離散均勻分配 (Discrete Uniform Distribution)"
   ]
  },
  {
   "cell_type": "markdown",
   "metadata": {},
   "source": [
    "* 說明：有限個數值擁有相同的機率\n",
    "* 函數：<br>\n",
    "  * $ f(x) = P(X=x) = \\frac{1}{N} , x = 1,2,...,N $\n",
    "  * $ X \\sim DU(1, N) $\n",
    "* 生活實例\n",
    "  * 投擲骰子或銅板\n",
    "  * 圓周率小數點後的數值\n",
    "* 語法\n",
    "\n",
    "| 離散均勻分配 | 語法(scipy.stats) |\n",
    "|-------------|:-------------:|\n",
    "| 機率質量函數 | randint.pmf |\n",
    "| 累積機率函數 | randint.cdf |\n",
    "| 樣本點 | randint.rvs |\n",
    "| 統計量計算 | randint.stats |\n"
   ]
  },
  {
   "cell_type": "code",
   "execution_count": 2,
   "metadata": {},
   "outputs": [],
   "source": [
    "from scipy.stats import randint"
   ]
  },
  {
   "cell_type": "markdown",
   "metadata": {},
   "source": [
    "1. 定義離散均勻分配的基本資訊"
   ]
  },
  {
   "cell_type": "code",
   "execution_count": 4,
   "metadata": {},
   "outputs": [
    {
     "name": "stdout",
     "output_type": "stream",
     "text": [
      "[ 7  8  9 10 11 12 13 14 15 16 17 18 19 20 21 22 23 24 25 26 27 28 29 30]\n",
      "====================\n",
      "[ 7.  8.  9. 10. 11. 12. 13. 14. 15. 16. 17. 18. 19. 20. 21. 22. 23. 24.\n",
      " 25. 26. 27. 28. 29.]\n"
     ]
    }
   ],
   "source": [
    "low, high = 7, 31\n",
    "mean, var, skew, kurt = randint.stats(low, high, moments='mvsk')\n",
    "r = np.arange(low, high)\n",
    "print(r)\n",
    "print('='*20)\n",
    "x = np.arange(randint.ppf(0.01, low, high),\n",
    "              randint.ppf(0.99, low, high))\n",
    "print(x)"
   ]
  },
  {
   "cell_type": "markdown",
   "metadata": {},
   "source": [
    "2. 計算離散均勻分配的概率質量分佈 (probability mass function) 之所以稱為質量，是因為離散的點產生 x 軸的點"
   ]
  },
  {
   "cell_type": "code",
   "execution_count": 5,
   "metadata": {},
   "outputs": [
    {
     "data": {
      "image/png": "[encoded data removed]",
      "text/plain": [
       "<Figure size 432x288 with 1 Axes>"
      ]
     },
     "metadata": {
      "needs_background": "light"
     },
     "output_type": "display_data"
    }
   ],
   "source": [
    "fig, ax = plt.subplots(1, 1)\n",
    "ax.plot(x, randint.pmf(x, low, high), 'bo', ms=8, label='randint pmf')\n",
    "ax.vlines(x, 0, randint.pmf(x, low, high), colors='b', lw=5, alpha=0.5)\n",
    "\n",
    "rv = randint(low, high)\n",
    "ax.vlines(x, 0, rv.pmf(x), colors='k', linestyles='-', lw=1,\n",
    "          label='frozen pmf')\n",
    "ax.legend(loc='best', frameon=False)\n",
    "plt.show()"
   ]
  },
  {
   "cell_type": "code",
   "execution_count": 6,
   "metadata": {
    "scrolled": true
   },
   "outputs": [
    {
     "name": "stdout",
     "output_type": "stream",
     "text": [
      "[0.04166667 0.04166667 0.04166667 0.04166667 0.04166667 0.04166667\n",
      " 0.04166667 0.04166667 0.04166667 0.04166667 0.04166667 0.04166667\n",
      " 0.04166667 0.04166667 0.04166667 0.04166667 0.04166667 0.04166667\n",
      " 0.04166667 0.04166667 0.04166667 0.04166667 0.04166667 0.04166667]\n"
     ]
    }
   ],
   "source": [
    "# P(X=x) --> 是機率\n",
    "probs = stats.randint.pmf(r, low, high)\n",
    "print(probs)"
   ]
  },
  {
   "cell_type": "code",
   "execution_count": 7,
   "metadata": {},
   "outputs": [
    {
     "data": {
      "image/png": "[encoded data removed]",
      "text/plain": [
       "<Figure size 432x288 with 1 Axes>"
      ]
     },
     "metadata": {
      "needs_background": "light"
     },
     "output_type": "display_data"
    }
   ],
   "source": [
    "plt.bar(r, probs)\n",
    "plt.ylabel('P(X=x)')\n",
    "plt.xlabel('x')\n",
    "plt.title('pmf of DU(1,6)')\n",
    "plt.show()"
   ]
  },
  {
   "cell_type": "markdown",
   "metadata": {},
   "source": [
    "3. 計算離散均勻分配的累積機率 (cumulative density function)，pmf 的累加"
   ]
  },
  {
   "cell_type": "code",
   "execution_count": 8,
   "metadata": {},
   "outputs": [
    {
     "data": {
      "image/png": "[encoded data removed]",
      "text/plain": [
       "<Figure size 432x288 with 1 Axes>"
      ]
     },
     "metadata": {
      "needs_background": "light"
     },
     "output_type": "display_data"
    }
   ],
   "source": [
    "# P(X=x) --> 是機率\n",
    "cumsum_probs = stats.randint.cdf(r, low,high)\n",
    "plt.ylabel('P(X<=x)')\n",
    "plt.xlabel('x')\n",
    "plt.title('cdf of DU(1,6)')\n",
    "plt.plot(r, cumsum_probs)\n",
    "plt.show()"
   ]
  },
  {
   "cell_type": "markdown",
   "metadata": {},
   "source": [
    "4. 透過 cdf，給定一個機率值，反推出對應到的 x"
   ]
  },
  {
   "cell_type": "code",
   "execution_count": 9,
   "metadata": {},
   "outputs": [
    {
     "name": "stdout",
     "output_type": "stream",
     "text": [
      "[ 7.  8.  9. 10. 11. 12. 13. 14. 15. 16. 17. 18. 19. 20. 21. 22. 23. 24.\n",
      " 25. 26. 27. 28. 29. 30.]\n"
     ]
    }
   ],
   "source": [
    "k = stats.randint.ppf(cumsum_probs, low, high)\n",
    "print(k)\n",
    "#看上圖看結果"
   ]
  },
  {
   "cell_type": "markdown",
   "metadata": {},
   "source": [
    "5. 產生符合隨機樣本點 (random sample)"
   ]
  },
  {
   "cell_type": "code",
   "execution_count": 10,
   "metadata": {
    "scrolled": true
   },
   "outputs": [
    {
     "name": "stdout",
     "output_type": "stream",
     "text": [
      "[22  9  8 19 17 23 28 20 26 18 29 29 12 16 21 27 26 16 17 18]\n"
     ]
    },
    {
     "data": {
      "image/png": "[encoded data removed]",
      "text/plain": [
       "<Figure size 432x288 with 1 Axes>"
      ]
     },
     "metadata": {
      "needs_background": "light"
     },
     "output_type": "display_data"
    }
   ],
   "source": [
    "X = stats.randint.rvs(low, high, size=20)\n",
    "print(X)\n",
    "plt.hist(X, bins=13)\n",
    "plt.show()\n",
    "#試試看，，每一次的結果一樣嗎?"
   ]
  },
  {
   "cell_type": "markdown",
   "metadata": {},
   "source": [
    "6. 計算固定參數下，隨機變數的平均數、變異數、偏度和峰度"
   ]
  },
  {
   "cell_type": "code",
   "execution_count": 11,
   "metadata": {},
   "outputs": [
    {
     "name": "stdout",
     "output_type": "stream",
     "text": [
      "(array(18.5), array(47.91666667), array(0.), array(-1.20417391))\n",
      "<class 'tuple'>\n",
      "randint mean= 18.5\n",
      "randint variance= 47.916666666666664\n",
      "randint kurtosis= 0.0\n",
      "randint skew= -1.2041739130434783\n"
     ]
    }
   ],
   "source": [
    "stat_randint=stats.randint.stats(low, high, moments='mvks')\n",
    "print(stat_randint)\n",
    "print(type(stat_randint))\n",
    "print('randint mean=', float(stat_randint[0]))\n",
    "print('randint variance=', float(stat_randint[1]))\n",
    "print('randint kurtosis=', float(stat_randint[2]))\n",
    "print('randint skew=', float(stat_randint[3]))"
   ]
  },
  {
   "cell_type": "markdown",
   "metadata": {},
   "source": [
    "## 伯努利分配 (Bernoulli Distribution)"
   ]
  },
  {
   "cell_type": "markdown",
   "metadata": {},
   "source": [
    "* 說明：只有兩種可能結果 (成功或失敗) 的單次隨機試驗，且成功的機率為 p (固定)，則稱為試驗為「伯努利試驗 (Bernoulli trial)」\n",
    "* 函數：<br>\n",
    "  * $ f_X(x) = p^x(1-p)^{(1-x)} , x = 0,1 $\n",
    "  <br>\n",
    "* 性質：\n",
    "  * $ P(X=1) = p $\n",
    "  * $ P(X=0) = 1-p = q $\n",
    "  * $ X \\sim bernoulli(p) $\n",
    "  * $ \\mu = E(X) = p $\n",
    "  * $ \\sigma^2 = Var(X) = p(1-p) $\n",
    "* 語法\n",
    "\n",
    "| 伯努利分配 | 語法(scipy.stats) |\n",
    "|-------------|:-------------:|\n",
    "| 機率質量函數 | bernoulli.pmf |\n",
    "| 累積機率函數 | bernoulli.cdf |\n",
    "| 樣本點 | bernoulli.rvs |\n",
    "| 統計量計算 | bernoulli.stats |\n"
   ]
  },
  {
   "cell_type": "code",
   "execution_count": 12,
   "metadata": {},
   "outputs": [],
   "source": [
    "from scipy.stats import bernoulli"
   ]
  },
  {
   "cell_type": "markdown",
   "metadata": {},
   "source": [
    "1. 定義伯努利分配基本資訊"
   ]
  },
  {
   "cell_type": "code",
   "execution_count": 13,
   "metadata": {},
   "outputs": [
    {
     "name": "stdout",
     "output_type": "stream",
     "text": [
      "[0 1]\n",
      "====================\n",
      "[0.]\n"
     ]
    }
   ],
   "source": [
    "p = 0.4 # 事件A 機率 0.4\n",
    "mean, var, skew, kurt = bernoulli.stats(p, moments='mvsk')\n",
    "r = np.arange(0,2) # 可以出現的範圍為 0、1、2種可能出現的結果\n",
    "print(r)\n",
    "print('='*20)\n",
    "x = np.arange(bernoulli.ppf(0.01, p),\n",
    "              bernoulli.ppf(0.99, p))\n",
    "print(x)"
   ]
  },
  {
   "cell_type": "markdown",
   "metadata": {},
   "source": [
    "2. 計算二項分佈的概率質量分佈 (probability mass function) 之所以稱為質量，是因為離散的點 "
   ]
  },
  {
   "cell_type": "code",
   "execution_count": 14,
   "metadata": {},
   "outputs": [
    {
     "data": {
      "image/png": "[encoded data removed]",
      "text/plain": [
       "<Figure size 432x288 with 1 Axes>"
      ]
     },
     "metadata": {
      "needs_background": "light"
     },
     "output_type": "display_data"
    }
   ],
   "source": [
    "fig, ax = plt.subplots(1, 1)\n",
    "ax.plot(x, bernoulli.pmf(x, p), 'bo', ms=8, label='bernoulli pmf')\n",
    "ax.vlines(x, 0, bernoulli.pmf(x, p), colors='b', lw=5, alpha=0.5)\n",
    "\n",
    "rv = bernoulli(p)\n",
    "ax.vlines(x, 0, rv.pmf(x), colors='k', linestyles='-', lw=1,\n",
    "        label='frozen pmf')\n",
    "ax.legend(loc='best', frameon=False)\n",
    "plt.show()"
   ]
  },
  {
   "cell_type": "code",
   "execution_count": 15,
   "metadata": {
    "scrolled": true
   },
   "outputs": [
    {
     "data": {
      "image/png": "[encoded data removed]",
      "text/plain": [
       "<Figure size 432x288 with 1 Axes>"
      ]
     },
     "metadata": {
      "needs_background": "light"
     },
     "output_type": "display_data"
    }
   ],
   "source": [
    "# P(X=x) --> 是機率\n",
    "probs = stats.bernoulli.pmf(r,p)\n",
    "#array([ 0.07776, 0.2592 , 0.3456 , 0.2304 , 0.0768 , 0.01024])\n",
    "plt.bar(r, probs)\n",
    "plt.ylabel('P(X=x)')\n",
    "plt.xlabel('x')\n",
    "plt.title('Bernoulli(p=0.4)')\n",
    "plt.show()"
   ]
  },
  {
   "cell_type": "markdown",
   "metadata": {},
   "source": [
    "3. 計算伯努利分配的累積機率 (cumulative density function)，pmf 的累加 "
   ]
  },
  {
   "cell_type": "code",
   "execution_count": 16,
   "metadata": {
    "scrolled": true
   },
   "outputs": [
    {
     "data": {
      "image/png": "[encoded data removed]",
      "text/plain": [
       "<Figure size 432x288 with 1 Axes>"
      ]
     },
     "metadata": {
      "needs_background": "light"
     },
     "output_type": "display_data"
    }
   ],
   "source": [
    "# P(X=x) --> 是機率\n",
    "cumsum_probs = stats.bernoulli.cdf(r,p)\n",
    "plt.ylabel('P(X<=x)')\n",
    "plt.xlabel('x')\n",
    "plt.title('bernoulli(p=0.4)')\n",
    "plt.plot(r, cumsum_probs)\n",
    "plt.show()"
   ]
  },
  {
   "cell_type": "markdown",
   "metadata": {},
   "source": [
    "4. 透過 cdf ，給定一個 機率值，反推出對應到的 x"
   ]
  },
  {
   "cell_type": "code",
   "execution_count": 17,
   "metadata": {},
   "outputs": [
    {
     "name": "stdout",
     "output_type": "stream",
     "text": [
      "[0. 1.]\n"
     ]
    }
   ],
   "source": [
    "p_loc = stats.bernoulli.ppf(cumsum_probs, p)\n",
    "print(p_loc)\n",
    "#看上圖看結果"
   ]
  },
  {
   "cell_type": "markdown",
   "metadata": {},
   "source": [
    "5. 產生符合伯努利分配的隨機樣本點 (random sample)"
   ]
  },
  {
   "cell_type": "code",
   "execution_count": 18,
   "metadata": {},
   "outputs": [
    {
     "name": "stdout",
     "output_type": "stream",
     "text": [
      "[0 1 0 0 0 0 0 0 0 1 0 1 1 0 1 0 0 0 1 1]\n"
     ]
    },
    {
     "data": {
      "image/png": "[encoded data removed]",
      "text/plain": [
       "<Figure size 432x288 with 1 Axes>"
      ]
     },
     "metadata": {
      "needs_background": "light"
     },
     "output_type": "display_data"
    }
   ],
   "source": [
    "X = stats.bernoulli.rvs(p,size=20)\n",
    "print(X)\n",
    "plt.hist(X)\n",
    "plt.show()\n",
    "#試試看，每一次的結果一樣嗎?"
   ]
  },
  {
   "cell_type": "markdown",
   "metadata": {},
   "source": [
    "6. 計算固定參數下，隨機變數的平均數、變異數、偏度和峰度"
   ]
  },
  {
   "cell_type": "code",
   "execution_count": 19,
   "metadata": {},
   "outputs": [
    {
     "name": "stdout",
     "output_type": "stream",
     "text": [
      "(array(0.4), array(0.24), array(0.40824829), array(-1.83333333))\n",
      "<class 'tuple'>\n",
      "bernoulli mean= 0.4\n",
      "bernoulli variance= 0.24\n",
      "bernoulli kurtosis= 0.40824829046386296\n",
      "bernoulli skew= -1.8333333333333337\n"
     ]
    }
   ],
   "source": [
    "stat_ber=stats.bernoulli.stats(p,moments='mvks')\n",
    "print(stat_ber)\n",
    "print(type(stat_ber))\n",
    "#E(X)\n",
    "print('bernoulli mean=', float(stat_ber[0]))\n",
    "print('bernoulli variance=', float(stat_ber[1]))\n",
    "print('bernoulli kurtosis=', float(stat_ber[2]))\n",
    "print('bernoulli skew=', float(stat_ber[3]))"
   ]
  },
  {
   "cell_type": "markdown",
   "metadata": {},
   "source": [
    "## 二項分配 (Binomial Distribution)"
   ]
  },
  {
   "cell_type": "markdown",
   "metadata": {},
   "source": [
    "* 進行多次相同伯努利試驗，且試驗結果互相獨立，結果只有 2 種結果，稱為二項分配 (Binomial Experiment)\n",
    "* 隨機一次試驗出現事件 A 的機率如果為 p，那麼在重複 n 次試驗中出現 x 次事件 A 的機率為：<br>\n",
    "  $ f(n,x,p) = C_x^n * p^x * (1-p)^(n-x) , x = 0,...,n $\n",
    "  $ C_x^n =  \\left( \\begin{array}{c} x \\\\ y \\end{array} \\right)\n",
    "  = \\frac{n!}{k!(n-k)!} $\n",
    "* 語法\n",
    "\n",
    "| 二項分配 | 語法(scipy.stats) |\n",
    "|-------------|:-------------:|\n",
    "| 機率質量函數 | binom.pmf |\n",
    "| 累積機率函數 | binom.cdf |\n",
    "| 樣本點 | binom.rvs |\n",
    "| 統計量計算 | binom.stats |\n"
   ]
  },
  {
   "cell_type": "code",
   "execution_count": 22,
   "metadata": {},
   "outputs": [],
   "source": [
    "from scipy.stats import binom"
   ]
  },
  {
   "cell_type": "markdown",
   "metadata": {},
   "source": [
    "1. 定義二項分佈的基本資訊"
   ]
  },
  {
   "cell_type": "code",
   "execution_count": 23,
   "metadata": {},
   "outputs": [
    {
     "name": "stdout",
     "output_type": "stream",
     "text": [
      "[0 1 2 3 4 5]\n",
      "====================\n",
      "[0. 1. 2. 3. 4.]\n"
     ]
    }
   ],
   "source": [
    "p = 0.4 # 事件 A 機率 0.4\n",
    "n = 5   # 重複實驗 5 次\n",
    "mean, var, skew, kurt = binom.stats(n, p, moments='mvsk')\n",
    "r = np.arange(0,6) # 可以出現的範圍為 0,1,2,...,5-->6種可能出現的結果\n",
    "print(r)\n",
    "print('='*20)\n",
    "x = np.arange(binom.ppf(0.01, n, p),\n",
    "              binom.ppf(0.99, n, p))\n",
    "print(x)"
   ]
  },
  {
   "cell_type": "markdown",
   "metadata": {},
   "source": [
    "2. 計算二項分佈的概率質量分佈 (probability mass function) 之所以稱為質量，是因為離散的點 "
   ]
  },
  {
   "cell_type": "code",
   "execution_count": 24,
   "metadata": {},
   "outputs": [
    {
     "data": {
      "image/png": "[encoded data removed]",
      "text/plain": [
       "<Figure size 432x288 with 1 Axes>"
      ]
     },
     "metadata": {
      "needs_background": "light"
     },
     "output_type": "display_data"
    }
   ],
   "source": [
    "fig, ax = plt.subplots(1, 1)\n",
    "ax.plot(x, binom.pmf(x, n, p), 'bo', ms=8, label='binom pmf')\n",
    "ax.vlines(x, 0, binom.pmf(x, n, p), colors='b', lw=5, alpha=0.5)\n",
    "\n",
    "rv = binom(n, p)\n",
    "ax.vlines(x, 0, rv.pmf(x), colors='k', linestyles='-', lw=1,\n",
    "        label='frozen pmf')\n",
    "ax.legend(loc='best', frameon=False)\n",
    "plt.show()"
   ]
  },
  {
   "cell_type": "code",
   "execution_count": 25,
   "metadata": {},
   "outputs": [
    {
     "data": {
      "image/png": "[encoded data removed]",
      "text/plain": [
       "<Figure size 432x288 with 1 Axes>"
      ]
     },
     "metadata": {
      "needs_background": "light"
     },
     "output_type": "display_data"
    }
   ],
   "source": [
    "# P(X=x) --> 是機率\n",
    "probs = stats.binom.pmf(r, n, p)\n",
    "#array([ 0.07776, 0.2592 , 0.3456 , 0.2304 , 0.0768 , 0.01024])\n",
    "plt.bar(r, probs)\n",
    "plt.ylabel('P(X=x)')\n",
    "plt.xlabel('x')\n",
    "plt.title('binomial(n=5,p=0.5)')\n",
    "plt.show()\n",
    "\n",
    "#學生額外小練習: 可以調整 p 的不同值，p接近於1 時，p=0.5, p 接近於 0時，看 pmf 的變化。"
   ]
  },
  {
   "cell_type": "markdown",
   "metadata": {},
   "source": [
    "3. 計算二項分佈的累積機率 (cumulative density function)，pmf 的累加之所以稱為質量，是因為離散的點，預設體積 (即寬度) 為 1"
   ]
  },
  {
   "cell_type": "code",
   "execution_count": 26,
   "metadata": {
    "scrolled": true
   },
   "outputs": [
    {
     "data": {
      "image/png": "[encoded data removed]",
      "text/plain": [
       "<Figure size 432x288 with 1 Axes>"
      ]
     },
     "metadata": {
      "needs_background": "light"
     },
     "output_type": "display_data"
    }
   ],
   "source": [
    "# P(X=x) --> 是機率\n",
    "cumsum_probs = stats.binom.cdf(r, n, p)\n",
    "#array([ 0.07776, 0.2592 , 0.3456 , 0.2304 , 0.0768 , 0.01024])\n",
    "plt.show()\n",
    "plt.ylabel('P(X<=x)')\n",
    "plt.xlabel('x')\n",
    "plt.title('binomial(n=5,p=0.4)')\n",
    "plt.plot(r, cumsum_probs)\n",
    "plt.show()"
   ]
  },
  {
   "cell_type": "markdown",
   "metadata": {},
   "source": [
    "4. 透過 cdf ，給定一個 機率值，反推出對應到的 x"
   ]
  },
  {
   "cell_type": "code",
   "execution_count": 27,
   "metadata": {},
   "outputs": [
    {
     "name": "stdout",
     "output_type": "stream",
     "text": [
      "[0. 1. 2. 3. 4. 5.]\n"
     ]
    }
   ],
   "source": [
    "p_loc= stats.binom.ppf(cumsum_probs, n, p)\n",
    "print(p_loc)\n",
    "#看上圖看結果"
   ]
  },
  {
   "cell_type": "markdown",
   "metadata": {},
   "source": [
    "5. 產生符合二項分佈的隨機樣本點 (random sample)"
   ]
  },
  {
   "cell_type": "code",
   "execution_count": 28,
   "metadata": {},
   "outputs": [
    {
     "name": "stdout",
     "output_type": "stream",
     "text": [
      "[0 2 3 3 1 0 2 2 2 3 3 2 0 2 2 1 1 2 2 3]\n"
     ]
    },
    {
     "data": {
      "image/png": "[encoded data removed]",
      "text/plain": [
       "<Figure size 432x288 with 1 Axes>"
      ]
     },
     "metadata": {
      "needs_background": "light"
     },
     "output_type": "display_data"
    }
   ],
   "source": [
    "X = stats.binom.rvs(n,p,size=20)\n",
    "#array([2, 3, 1, 2, 2, 2, 1, 2, 2, 3, 3, 0, 1, 1, 1, 2, 3, 4, 0, 3])\n",
    "print(X)\n",
    "plt.hist(X)\n",
    "plt.show()\n",
    "#試試看，，每一次的結果一樣嗎?"
   ]
  },
  {
   "cell_type": "markdown",
   "metadata": {},
   "source": [
    "6. 計算固定參數下，隨機變數的平均數、變異數、偏度和峰度。"
   ]
  },
  {
   "cell_type": "code",
   "execution_count": 29,
   "metadata": {},
   "outputs": [
    {
     "name": "stdout",
     "output_type": "stream",
     "text": [
      "(array(2.), array(1.2), array(0.18257419), array(-0.36666667))\n",
      "<class 'tuple'>\n",
      "binomial mean= 2.0\n",
      "binomial variance= 1.2\n",
      "binomial kurtosis= 0.18257418583505533\n",
      "binomial skew= -0.3666666666666668\n"
     ]
    }
   ],
   "source": [
    "stat_bin=stats.binom.stats(n,p,moments='mvks')\n",
    "print(stat_bin)\n",
    "print(type(stat_bin))\n",
    "#E(X)\n",
    "print('binomial mean=', float(stat_bin[0]))\n",
    "print('binomial variance=', float(stat_bin[1]))\n",
    "print('binomial kurtosis=', float(stat_bin[2]))\n",
    "print('binomial skew=', float(stat_bin[3]))"
   ]
  },
  {
   "cell_type": "code",
   "execution_count": null,
   "metadata": {},
   "outputs": [],
   "source": []
  }
 ],
 "metadata": {
  "colab": {
   "name": "Day33.YOLO 細節理解 - 網路輸出的後處理_HW.ipynb",
   "provenance": []
  },
  "kernelspec": {
   "display_name": "Python 3",
   "language": "python",
   "name": "python3"
  },
  "language_info": {
   "codemirror_mode": {
    "name": "ipython",
    "version": 3
   },
   "file_extension": ".py",
   "mimetype": "text/x-python",
   "name": "python",
   "nbconvert_exporter": "python",
   "pygments_lexer": "ipython3",
   "version": "3.8.5"
  }
 },
 "nbformat": 4,
 "nbformat_minor": 1
}
