{
 "cells": [
  {
   "cell_type": "markdown",
   "metadata": {
    "id": "a_VmAfWSBJs7"
   },
   "source": [
    "<img width=150 src=\"https://upload.wikimedia.org/wikipedia/commons/thumb/1/1a/NumPy_logo.svg/200px-NumPy_logo.svg.png\"></img>"
   ]
  },
  {
   "cell_type": "markdown",
   "metadata": {},
   "source": [
    "* 目標：帶大家操作投影片中，如何描述所收集到資料男生身高的資料\n",
    "* 重點：\n",
    "  * 能夠判別目前的資料為母體資料還是樣本資料\n",
    "  * 挑選適當的統計量，可運用於 Python，描述出資料的輪廓進行分析\n",
    "  * 可描述出資料的特徵及類型"
   ]
  },
  {
   "cell_type": "code",
   "execution_count": 1,
   "metadata": {
    "colab": {
     "base_uri": "https://localhost:8080/",
     "height": 34
    },
    "colab_type": "code",
    "executionInfo": {
     "elapsed": 1558,
     "status": "ok",
     "timestamp": 1578021044012,
     "user": {
      "displayName": "Mora chen",
      "photoUrl": "https://lh3.googleusercontent.com/a-/AAuE7mB40f7sDArbZ5_DYq02nNcnLD0Ryaf7AhsASSQeLQ=s64",
      "userId": "03171203089166907199"
     },
     "user_tz": -480
    },
    "id": "yz28_IgkYdBW",
    "outputId": "a12f486c-18b3-4fb5-d06c-f162aebd9444"
   },
   "outputs": [],
   "source": [
    "# library\n",
    "import matplotlib.pyplot as plt\n",
    "import numpy as np\n",
    "import pandas as pd\n",
    "from scipy import stats\n",
    "import math\n",
    "import statistics"
   ]
  },
  {
   "cell_type": "markdown",
   "metadata": {},
   "source": [
    "# 用統計描述資料的樣態"
   ]
  },
  {
   "cell_type": "markdown",
   "metadata": {},
   "source": [
    "* 敘述性統計 (descriptive statistics) 為在統計學中用來描繪或總結觀察量的基本情況\n",
    "* 敘述性統計主要為測量樣本有關的內容提供簡易的測量樣本有關的內容提供簡易的總結，將總結有效的量化，例如：統計數據、或用以簡單的圖表顯示 (直方圖、餅圖等)"
   ]
  },
  {
   "cell_type": "code",
   "execution_count": 2,
   "metadata": {},
   "outputs": [],
   "source": [
    "#輸入資料\n",
    "boys=[164, 176, 169, 169, 165, 175, 159, 151, 144, 160,\n",
    "      183, 165, 156, 170, 164, 173, 165, 163, 177, 171]\n",
    "girl=[169, 183, 170, 168, 182, 170, 173, 185, 151, 156,\n",
    "      162, 169, 162, 181, 159, 154, 167, 175, 170, 160]"
   ]
  },
  {
   "cell_type": "markdown",
   "metadata": {},
   "source": [
    "# 母體 (Population) 與 樣本 (Sample) 的關係"
   ]
  },
  {
   "cell_type": "markdown",
   "metadata": {},
   "source": [
    "* 母體：母體為人所要研究之對象全體，為一群具有某種共同特性的人或事物所組成的，每一群體中通常含有多種特性，可依照某種特性歸納為一母體，也可依另一種特性歸納為另一母體\n",
    "* 樣本：樣本則由母體之中的某些個體測量所構成\n",
    "* 論統計則為一種以小窺大的一門技術，希望可以得到母體的真實情況，也就是為真相，透過現象 (樣本) 企圖了解真相 (母體)\n",
    "* 範例：\n",
    "  * 母體：台灣所有男生和女生的身高\n",
    "  * 樣本：\n",
    "    * 樣本是母體的一部分\n",
    "    * 透過不同的抽樣方法，抽取出的值"
   ]
  },
  {
   "cell_type": "markdown",
   "metadata": {},
   "source": [
    "## 集中趨勢 "
   ]
  },
  {
   "cell_type": "markdown",
   "metadata": {},
   "source": [
    "* 資料集中趨勢 (中央趨勢)可分為以下三種：\n",
    "  * 平均數(mean)：全部數值加總/數值個數\n",
    "    * 樣本平均數說明\n",
    "      * 為樣本數的總和除以樣本數的個數，適用於常態分布或近似於常態分布。平均數的計算易受到每一種資料的影響，如資料中有極大或及小值則容易影響平均數的結果\n",
    "    * 公式\n",
    "      \n",
    "      $ \\bar{x} = \\frac{\\sum_{i=1}^{n}}{n} \\\\\n",
    "                = \\frac{x_1 + x_2 + ... + x_n}{n} $\n",
    "    <br>\n",
    "    * 優點\n",
    "      * 適合用於數執行資料\n",
    "      * 進行不同組資料的比較，以看出組與組之間的差別  \n",
    "    * 缺點\n",
    "      * 不能用於分類資料和順序資料\n",
    "      * 不是一個強健的(robust)統計量，容易受離群值瑩想而劇變\n",
    "    * 語法\n",
    "      ```\n",
    "      np.mean(boys)\n",
    "      statistics.mean(boys)\n",
    "      ```\n",
    "  * 中位數(madian , Mo)：中位數為一種和位置相關的數值，將資料所有的數依照大小排列，即為資料中有 50% 高於此數，也有 50% 低於此數\n",
    "    * 公式\n",
    "      * 若資料數量為偶數值，則中間兩數的平均為之\n",
    "      * 若資料數量為奇數值，則中間數即為之\n",
    "    * 優點\n",
    "      * 較不受極端值影響\n",
    "      * 適合用於變化較大的資料\n",
    "    * 缺點\n",
    "      * 只利用部分數據，可靠性較差\n",
    "    * 語法\n",
    "      ```\n",
    "      np.median(boys)\n",
    "      statistics.median(boys)\n",
    "      ```\n",
    "  * 眾數(mode)：出現最多次的數值\n",
    "    * 優點\n",
    "      * 適用於資料有很大的變動，且某個數據出現的次數最多\n",
    "    * 缺點\n",
    "      * 當資料分配很平均或眾數較多時，眾數則失去意義及功能\n",
    "      * 最常出現數值不一定為最接近整體分配之中心數值，也有可能不是最具代表性的數值\n",
    "      * 只利用部分數據，可靠性較差\n",
    "      * 可能不存在或存在多個(語法會取最小)\n",
    "    * 語法\n",
    "      ```\n",
    "      stats.mode(boys)\n",
    "      statistics.mode(boys)\n",
    "      ```\n",
    "* 利用莖葉圖，快速計算中位數、眾數"
   ]
  },
  {
   "cell_type": "code",
   "execution_count": 3,
   "metadata": {},
   "outputs": [
    {
     "name": "stdout",
     "output_type": "stream",
     "text": [
      "男孩身高平均= 165.95\n",
      "====================\n",
      "statistics_mean_boy= 165.95\n"
     ]
    }
   ],
   "source": [
    "# 計算統計量_平均數的方法\n",
    "mean_boy=np.mean(boys)\n",
    "print('男孩身高平均=', mean_boy)\n",
    "print('='*20)\n",
    "\n",
    "statistics_mean_boy=statistics.mean(boys)\n",
    "print('statistics_mean_boy=', statistics_mean_boy)"
   ]
  },
  {
   "cell_type": "code",
   "execution_count": 4,
   "metadata": {},
   "outputs": [
    {
     "name": "stdout",
     "output_type": "stream",
     "text": [
      "np_median_boy= 165.0\n",
      "====================\n",
      "tatistics_median_boy= 165.0\n"
     ]
    }
   ],
   "source": [
    "# 計算統計量_中位數的方法\n",
    "np_median_boy=np.median(boys,axis=None)\n",
    "print('np_median_boy=', np_median_boy)\n",
    "print('='*20)\n",
    "\n",
    "statistics_median_boy=statistics.median(boys)\n",
    "print('tatistics_median_boy=', statistics_median_boy)"
   ]
  },
  {
   "cell_type": "code",
   "execution_count": 5,
   "metadata": {
    "scrolled": true
   },
   "outputs": [
    {
     "name": "stdout",
     "output_type": "stream",
     "text": [
      "男孩身高眾數= ModeResult(mode=array([165]), count=array([3]))\n",
      "男孩身高眾數= 165\n",
      "====================\n",
      "statistics_mode_boy= 165\n"
     ]
    }
   ],
   "source": [
    "# 統計量_眾數\n",
    "# 統計量的眾數，如果有多個眾數，取最小的值當眾數。\n",
    "\n",
    "mode_boy=stats.mode(boys,axis=None)\n",
    "print('男孩身高眾數=', mode_boy)\n",
    "print('男孩身高眾數=', mode_boy[0][0])\n",
    "print('='*20)\n",
    "\n",
    "# 統計量_眾數\n",
    "statistics_mode_boy=statistics.mode(boys)\n",
    "print('statistics_mode_boy=',statistics_mode_boy)"
   ]
  },
  {
   "cell_type": "markdown",
   "metadata": {},
   "source": [
    "## 莖葉圖"
   ]
  },
  {
   "cell_type": "markdown",
   "metadata": {},
   "source": [
    "參考 Day27_streamplot"
   ]
  },
  {
   "cell_type": "markdown",
   "metadata": {},
   "source": [
    "## 離散趨勢"
   ]
  },
  {
   "cell_type": "markdown",
   "metadata": {},
   "source": [
    "* 全距 (Range)，又稱極差\n",
    "  * 公式：最大值和最小值的差\n",
    "  * 優點\n",
    "    * 計算較為簡單，易理解\n",
    "    * 適用範圍廣泛\n",
    "  * 缺點\n",
    "    * 忽略全部觀察值間的差異，可能產生全距相等，但離散程度可能有所差異\n",
    "    * 易受極端值的影響，僅與極值有關\n",
    "    * 對全部數據的離散程度沒有代表性\n",
    "  * 語法\n",
    "  ```\n",
    "  def rangeV(x):\n",
    "      return(max(x)-min(x))\n",
    "  print(rangeV(boys))\n",
    "  ```\n",
    "* 平均差 (Mean Absolute Deviation)\n",
    "  * 公式：各數據對平均數的離差絕對值的平均數\n",
    "  * 優點\n",
    "    * 適用於數據有正負，其和為 0 的資料，可避免正負離差的相互抵消\n",
    "    * 平均差越大，資料間的變異程度則越大，反之則越小 \n",
    "* 方差 (即變異數，Variance)\n",
    "  * 公式\n",
    "  \n",
    "    $ \\sigma^2 = \\frac{\\sum_{}^{}(x-\\hat{x})^2}{n} $\n",
    "  <br>\n",
    "  * 優點\n",
    "    * 反映數據的偏離程度，當標準差較大時，表示大部分數據與平均值之間差異較大，反之代表這些數值較接近平均值\n",
    "  * 即為母體變異數，開方根號即為標準差\n",
    "  * 語法\n",
    "    ```\n",
    "    np.var(boys, ddof=1)   #ddof=1代表計算樣本\n",
    "    statistics.variance(boys)\n",
    "    ```\n",
    "* 標準差 (Standard Deviation)\n",
    "* 離散係數 (Coefficient of Variation)\n",
    "  * 公式\n",
    "  \n",
    "    $ c_\\nu = \\frac{\\sigma}{\\mu} $\n",
    "  <br>\n",
    "  * 說明\n",
    "* 百分位數 (Percentile)\n",
    "  * 公式：將一組數據從小到大排序，併計算相應的累計百分位，則某一百分位所對應數據的值就稱為這一百分位的百分位數，以 Pk 表示第 k 百分位數\n",
    "  * 缺點\n",
    "    * 反應較多數據的離散程度，樣本量大才會穩定\n",
    "  * 語法\n",
    "    ```\n",
    "    np.percentile(boys, 20)\n",
    "    stats.scoreatpercentile(boys, 20)\n",
    "    ```"
   ]
  },
  {
   "cell_type": "code",
   "execution_count": 6,
   "metadata": {},
   "outputs": [
    {
     "name": "stdout",
     "output_type": "stream",
     "text": [
      "39\n"
     ]
    }
   ],
   "source": [
    "#全距\n",
    "#rangeV=max(boys)-min(boys)\n",
    "def rangeV(x): \n",
    "    return(max(x)-min(x))\n",
    "    \n",
    "print(rangeV(boys))"
   ]
  },
  {
   "cell_type": "code",
   "execution_count": 7,
   "metadata": {},
   "outputs": [
    {
     "name": "stdout",
     "output_type": "stream",
     "text": [
      "男孩身高變異數= 84.89210526315789\n",
      "男孩身高變異數= 84.89210526315789\n"
     ]
    }
   ],
   "source": [
    "# 計算變異數的方法\n",
    "print('男孩身高變異數=', statistics.variance(boys))\n",
    "print('男孩身高變異數=', np.var(boys, ddof=1))"
   ]
  },
  {
   "cell_type": "code",
   "execution_count": 8,
   "metadata": {},
   "outputs": [
    {
     "name": "stdout",
     "output_type": "stream",
     "text": [
      "男孩身高標準差= 9.213691185575838\n",
      "statistics_mean_boy= 9.213691185575838\n"
     ]
    }
   ],
   "source": [
    "# 統計量_標準差的方法\n",
    "#樣本標準差\n",
    "#ddof=1, 回傳 sample standard deviation 樣本標準差，分母(n-1)，無偏估計\n",
    "std_boy=np.std(boys,ddof=1)\n",
    "print('男孩身高標準差=', std_boy)\n",
    "\n",
    "statistics_stdev_boy=statistics.stdev(boys)\n",
    "print('statistics_mean_boy=', statistics_stdev_boy)"
   ]
  },
  {
   "cell_type": "code",
   "execution_count": 9,
   "metadata": {},
   "outputs": [
    {
     "name": "stdout",
     "output_type": "stream",
     "text": [
      "90百分位數= 176.1\n",
      "50百分位數= 165.0\n",
      "20百分位數= 159.8\n",
      "20百分位數= 159.8\n"
     ]
    }
   ],
   "source": [
    "# python 百分位數\n",
    "#np\n",
    "print('90百分位數=', np.percentile(boys, 90))\n",
    "print('50百分位數=', np.percentile(boys, 50))\n",
    "print('20百分位數=', np.percentile(boys, 20))\n",
    "#stat\n",
    "print('20百分位數=', stats.scoreatpercentile(boys, 20))"
   ]
  },
  {
   "cell_type": "code",
   "execution_count": 10,
   "metadata": {},
   "outputs": [
    {
     "name": "stdout",
     "output_type": "stream",
     "text": [
      "-0.47132127317376954\n",
      "0.19395882957876331\n"
     ]
    }
   ],
   "source": [
    "#計算峰度和偏度\n",
    "print(stats.skew(boys))\n",
    "print(stats.kurtosis(boys))\n",
    "\n",
    "# pandas和 stat 接近\n",
    "# python的峰帶"
   ]
  },
  {
   "cell_type": "code",
   "execution_count": 11,
   "metadata": {},
   "outputs": [
    {
     "data": {
      "image/png": "[encoded data removed]",
      "text/plain": [
       "<Figure size 432x288 with 1 Axes>"
      ]
     },
     "metadata": {
      "needs_background": "light"
     },
     "output_type": "display_data"
    }
   ],
   "source": [
    "#最後，畫圖看分布\n",
    "plt.hist(boys,alpha=.4,bins=40)\n",
    "plt.title('boy,skewness={0},kurtosis={1}'.format(round(stats.skew(boys),2),round(stats.kurtosis(boys),2)))\n",
    "plt.axvline(x=mean_boy)\n",
    "plt.show()"
   ]
  },
  {
   "cell_type": "markdown",
   "metadata": {},
   "source": [
    "## 分布型態"
   ]
  },
  {
   "cell_type": "markdown",
   "metadata": {},
   "source": [
    "### 偏度 (Skewness)"
   ]
  },
  {
   "cell_type": "markdown",
   "metadata": {},
   "source": [
    "* 衡量資料分佈的不對稱性與偏斜方向程度，偏度分為兩種：\n",
    "  * 負偏態或左偏態：左側的尾部更長，分布的主體集中在右側，左側有較多極端值\n",
    "  * 正偏態或右偏態：右側的尾部更長，分布的主體集中在左側，右側有較多極端值，日常生活數據常見右偏態分布\n",
    "  * 如果分布對稱，那麼平均值=中位數，偏度為零 (此外，如果分布為單峰分布，那麽平均值=中位數=眾數)\n",
    "* 公式\n",
    "  \n",
    "  $ skewness = \\frac{ \\frac{1}{n} \\sum_{i=1}^{n} (x_i-\\bar{x})^3 }{ (\\frac{1}{n} \\sum_{i=1}^{n} (x_i-\\bar{x})^2 )^\\frac{3}{2} } , \\bar{x} 是樣本平均數 $\n",
    "  <br>\n",
    "* 值\n",
    "  * 左偏態：Skewness < 0\n",
    "  * 右偏態：Skewness > 0\n",
    "  * 分布對稱：Skewness = 0\n",
    "* 語法：stats.skew(data)\n",
    "* 眾數的代表性比"
   ]
  },
  {
   "cell_type": "markdown",
   "metadata": {},
   "source": [
    "### 峰度 (Kurtosis)"
   ]
  },
  {
   "cell_type": "markdown",
   "metadata": {},
   "source": [
    "* 峰度（Kurtosis）資料分佈的峰態，峰度反映了峰部的尖度，也代表變異數的來源來自於不常出現的尾巴兩端的數值\n",
    "* 資料中越可能會出現數值很極端的離群值\n",
    "* 公式\n",
    "  \n",
    "  $ Kurtosis = \\frac{\\frac{1}{n} \\sum_{i=1}^{n} (x_i-\\bar{x})^4}{ (\\frac{1}{n} \\sum_{i=1}^{n} (x_i-\\bar{x})^2)^2 } -3$\n",
    "  <br>\n",
    "* 值\n",
    "  * 高峻峰：k>0\n",
    "  * 常態峰：k=0\n",
    "  * 低闊峰：k<0\n",
    "* 語法：stats.kurtosis(data)"
   ]
  },
  {
   "cell_type": "code",
   "execution_count": 12,
   "metadata": {},
   "outputs": [],
   "source": [
    "import scipy.stats as st"
   ]
  },
  {
   "cell_type": "code",
   "execution_count": 13,
   "metadata": {},
   "outputs": [
    {
     "name": "stdout",
     "output_type": "stream",
     "text": [
      "偏度: 0.7565543738808015\n",
      "====================\n",
      "峰度: -1.0489580648783101\n"
     ]
    }
   ],
   "source": [
    "a = [89, 23, 45, 18]\n",
    "\n",
    "print('偏度:', st.skew(a))\n",
    "print('='*20)\n",
    "print('峰度:', st.kurtosis(a))"
   ]
  },
  {
   "cell_type": "code",
   "execution_count": 14,
   "metadata": {
    "scrolled": true
   },
   "outputs": [
    {
     "data": {
      "text/html": [
       "<div>\n",
       "<style scoped>\n",
       "    .dataframe tbody tr th:only-of-type {\n",
       "        vertical-align: middle;\n",
       "    }\n",
       "\n",
       "    .dataframe tbody tr th {\n",
       "        vertical-align: top;\n",
       "    }\n",
       "\n",
       "    .dataframe thead th {\n",
       "        text-align: right;\n",
       "    }\n",
       "</style>\n",
       "<table border=\"1\" class=\"dataframe\">\n",
       "  <thead>\n",
       "    <tr style=\"text-align: right;\">\n",
       "      <th></th>\n",
       "      <th>數學</th>\n",
       "      <th>英文</th>\n",
       "      <th>國文</th>\n",
       "    </tr>\n",
       "  </thead>\n",
       "  <tbody>\n",
       "    <tr>\n",
       "      <th>小美</th>\n",
       "      <td>85</td>\n",
       "      <td>68</td>\n",
       "      <td>90</td>\n",
       "    </tr>\n",
       "    <tr>\n",
       "      <th>小王</th>\n",
       "      <td>82</td>\n",
       "      <td>63</td>\n",
       "      <td>88</td>\n",
       "    </tr>\n",
       "    <tr>\n",
       "      <th>小豬</th>\n",
       "      <td>84</td>\n",
       "      <td>90</td>\n",
       "      <td>78</td>\n",
       "    </tr>\n",
       "  </tbody>\n",
       "</table>\n",
       "</div>"
      ],
      "text/plain": [
       "    數學  英文  國文\n",
       "小美  85  68  90\n",
       "小王  82  63  88\n",
       "小豬  84  90  78"
      ]
     },
     "execution_count": 14,
     "metadata": {},
     "output_type": "execute_result"
    }
   ],
   "source": [
    "df = pd.DataFrame(np.array([[85, 68, 90], [82, 63, 88], [84, 90, 78]]), \n",
    "                  columns=['數學', '英文', '國文'], \n",
    "                  index=['小美', '小王', '小豬'])\n",
    "df"
   ]
  },
  {
   "cell_type": "markdown",
   "metadata": {},
   "source": [
    "* 計算第二行的偏度"
   ]
  },
  {
   "cell_type": "code",
   "execution_count": 15,
   "metadata": {},
   "outputs": [
    {
     "data": {
      "text/plain": [
       "-1.3294040702410526"
      ]
     },
     "execution_count": 15,
     "metadata": {},
     "output_type": "execute_result"
    }
   ],
   "source": [
    "df.iloc[1, :].skew() "
   ]
  },
  {
   "cell_type": "markdown",
   "metadata": {},
   "source": [
    "* 計算所有列的偏度"
   ]
  },
  {
   "cell_type": "code",
   "execution_count": 16,
   "metadata": {},
   "outputs": [
    {
     "data": {
      "text/plain": [
       "數學   -0.935220\n",
       "英文    1.498959\n",
       "國文   -1.545393\n",
       "dtype: float64"
      ]
     },
     "execution_count": 16,
     "metadata": {},
     "output_type": "execute_result"
    }
   ],
   "source": [
    "df.skew(axis = 0)"
   ]
  },
  {
   "cell_type": "markdown",
   "metadata": {},
   "source": [
    "* 計算所有行的偏度"
   ]
  },
  {
   "cell_type": "code",
   "execution_count": 17,
   "metadata": {},
   "outputs": [
    {
     "data": {
      "text/plain": [
       "小美   -1.373033\n",
       "小王   -1.329404\n",
       "小豬    0.000000\n",
       "dtype: float64"
      ]
     },
     "execution_count": 17,
     "metadata": {},
     "output_type": "execute_result"
    }
   ],
   "source": [
    "df.skew(axis = 1)"
   ]
  },
  {
   "cell_type": "code",
   "execution_count": null,
   "metadata": {},
   "outputs": [],
   "source": []
  }
 ],
 "metadata": {
  "colab": {
   "name": "Day33.YOLO 細節理解 - 網路輸出的後處理_HW.ipynb",
   "provenance": []
  },
  "kernelspec": {
   "display_name": "Python 3",
   "language": "python",
   "name": "python3"
  },
  "language_info": {
   "codemirror_mode": {
    "name": "ipython",
    "version": 3
   },
   "file_extension": ".py",
   "mimetype": "text/x-python",
   "name": "python",
   "nbconvert_exporter": "python",
   "pygments_lexer": "ipython3",
   "version": "3.8.5"
  }
 },
 "nbformat": 4,
 "nbformat_minor": 1
}
