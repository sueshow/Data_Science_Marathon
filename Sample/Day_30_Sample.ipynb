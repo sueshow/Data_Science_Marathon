{
 "cells": [
  {
   "cell_type": "markdown",
   "metadata": {
    "id": "a_VmAfWSBJs7"
   },
   "source": [
    "<img width=150 src=\"https://upload.wikimedia.org/wikipedia/commons/thumb/1/1a/NumPy_logo.svg/200px-NumPy_logo.svg.png\"></img>"
   ]
  },
  {
   "cell_type": "markdown",
   "metadata": {
    "id": "e0Xu8_QMMj6X"
   },
   "source": [
    "* 重點\n",
    "  * 如何模擬這些分配的樣本點\n",
    "  * 進行一些機率的運算，包含以下連續型分配        \n",
    "    1. 均勻分配( Uniform Distribution )     \n",
    "    2. 常態分配( Normal Distribution )   \n",
    "  * 透過模擬來學習中央極限定理，由實際觀察，看其他分配怎麼變成常態分配的過程"
   ]
  },
  {
   "cell_type": "code",
   "execution_count": 1,
   "metadata": {
    "id": "TsQQGBBgMj6l"
   },
   "outputs": [],
   "source": [
    "# library\n",
    "import matplotlib.pyplot as plt\n",
    "import numpy as np\n",
    "import pandas as pd\n",
    "from scipy import stats\n",
    "import math\n",
    "import statistics\n",
    "import seaborn as sns"
   ]
  },
  {
   "cell_type": "markdown",
   "metadata": {
    "id": "MgQhvro7Mj6m"
   },
   "source": [
    "# 連續均勻分配 "
   ]
  },
  {
   "cell_type": "markdown",
   "metadata": {},
   "source": [
    "* [scipy.stats教學](https://www.yiibai.com/scipy/scipy_stats.html)\n",
    "* [stats.uniform 相關用法](https://docs.scipy.org/doc/scipy/reference/generated/scipy.stats.uniform.html)    \n",
    "  * stats.uniform 中的  loc 和 scale，組成 uniform 分配的上下界    \n",
    "    * low=loc   \n",
    "    * high=loc+scale  "
   ]
  },
  {
   "cell_type": "markdown",
   "metadata": {},
   "source": [
    "* f(x) 為 X 的機率分配函數（機率密度函數），則 f(x) 符合以下條件：\n",
    "  1. $ f(x) \\geqslant 0 $\n",
    "  2. $ f(x) $ 圖形下總面積為 1，即 $ \\int_{-\\infty}^{\\infty} f(x) dx = 1 $\n",
    "* f(x) 並非機率，即 $ f(a) \\neq P(X=a)$，a 為任意數\n",
    "* f(x) 圖形下面積才為機率\n",
    "* $ P(-2 \\leq X \\leq 2) =  \\int_{-2}^{2} f(x) dx$\n",
    "* 期望值\n",
    "  * $ E(X) =  \\int_{-\\infty}^{\\infty} x*f(x) dx $\n",
    "* 變異數\n",
    "  * $ Var(X) = E(X^2)-E(X)^2 =  \\int_{-\\infty}^{\\infty} x^2*f(x) dx-E(X)^2 $\n",
    "* 累積分布函數(cdf)\n",
    "  * 又叫分佈函數，是機率密度函數的積分，能完整描述一個實隨機變數 X 的機率分佈\n",
    "  * $ F(X) = P(X \\leq x)$"
   ]
  },
  {
   "cell_type": "markdown",
   "metadata": {},
   "source": [
    "## 均勻分配"
   ]
  },
  {
   "cell_type": "markdown",
   "metadata": {},
   "source": [
    "* 一個均勻分佈在區間 [a,b] 上的連續型隨機變量 X，記做 X ~ U(a, b)\n",
    "* 機率密度函數(pdf)\n",
    "  \\begin{align*}\n",
    "  f(x)=\\left\\{\\begin{array}{lll}\n",
    "                \\frac{1}{b-a} &, for  a \\leq x \\leq b \\\\\n",
    "                0 & , otherwise\n",
    "              \\end{array}\\right.\n",
    "  \\end{align*}\n",
    "* 累積分布函數(cdf)\n",
    "  \\begin{align*}\n",
    "  F(x)=\\left\\{\\begin{array}{lll}\n",
    "                0 &, for  x < a \\\\\n",
    "                \\frac{x-a}{b-a} &, for a \\leq x < b \\\\\n",
    "                1 &, for x \\geq b\n",
    "              \\end{array}\\right.\n",
    "  \\end{align*}\n",
    "* 期望值\n",
    "  * $ E(X) = \\frac{a+b}{2} $\n",
    "* 變異數\n",
    "  * $ Var(X) = \\frac{(b-a)^2}{12} $\n",
    "* 語法\n",
    "\n",
    "| 連續型均勻分配 | 語法 |\n",
    "|---------------|:----------:|\n",
    "| 機率質量函數 | uniform.pdf |\n",
    "| 累積機率函數 | uniform.cdf |\n",
    "| 樣本點 | uniform.rvs |\n",
    "| 統計量計算 | uniform.stats |\n"
   ]
  },
  {
   "cell_type": "markdown",
   "metadata": {},
   "source": [
    "1. 設定使用參數"
   ]
  },
  {
   "cell_type": "code",
   "execution_count": 2,
   "metadata": {},
   "outputs": [],
   "source": [
    "low=1\n",
    "high=5\n",
    "x=np.linspace(0, 10, 50)"
   ]
  },
  {
   "cell_type": "markdown",
   "metadata": {},
   "source": [
    "2. 產生 pdf"
   ]
  },
  {
   "cell_type": "code",
   "execution_count": 3,
   "metadata": {
    "id": "mgNYDGycMj6n",
    "outputId": "41ef2c86-dcb9-418c-fae5-d79cb5c771fe",
    "scrolled": true
   },
   "outputs": [
    {
     "data": {
      "image/png": "[encoded data removed]",
      "text/plain": [
       "<Figure size 432x288 with 1 Axes>"
      ]
     },
     "metadata": {
      "needs_background": "light"
     },
     "output_type": "display_data"
    }
   ],
   "source": [
    "y = stats.uniform.pdf(x,low, high-low)\n",
    "plt.plot(x, y, \"b-\", linewidth=2)\n",
    "plt.grid(True)\n",
    "plt.title('pdf of uniform(1,5)')\n",
    "plt.show()"
   ]
  },
  {
   "cell_type": "markdown",
   "metadata": {},
   "source": [
    "3. 計算離散均勻分配的累積機率 (cumulative density function)，pdf 的積分"
   ]
  },
  {
   "cell_type": "code",
   "execution_count": 4,
   "metadata": {
    "id": "zBIpDIqnMj6p",
    "outputId": "0d886afb-c3ab-4658-e265-abe93a291d34",
    "scrolled": true
   },
   "outputs": [
    {
     "data": {
      "image/png": "[encoded data removed]",
      "text/plain": [
       "<Figure size 432x288 with 1 Axes>"
      ]
     },
     "metadata": {
      "needs_background": "light"
     },
     "output_type": "display_data"
    },
    {
     "name": "stdout",
     "output_type": "stream",
     "text": [
      "[0.         0.         0.         0.         0.         0.00510204\n",
      " 0.05612245 0.10714286 0.15816327 0.20918367 0.26020408 0.31122449\n",
      " 0.3622449  0.41326531 0.46428571 0.51530612 0.56632653 0.61734694\n",
      " 0.66836735 0.71938776 0.77040816 0.82142857 0.87244898 0.92346939\n",
      " 0.9744898  1.         1.         1.         1.         1.\n",
      " 1.         1.         1.         1.         1.         1.\n",
      " 1.         1.         1.         1.         1.         1.\n",
      " 1.         1.         1.         1.         1.         1.\n",
      " 1.         1.        ]\n"
     ]
    }
   ],
   "source": [
    "cumsum_probs =  stats.uniform.cdf(x,low, high-low)\n",
    "plt.ylabel('P(X<=x)')\n",
    "plt.xlabel('x')\n",
    "plt.title(' cdf of uniform(1,5)')\n",
    "plt.plot(x, cumsum_probs,\"b-\", linewidth=2)\n",
    "plt.show()\n",
    "print(cumsum_probs)"
   ]
  },
  {
   "cell_type": "markdown",
   "metadata": {},
   "source": [
    "4. 透過 cdf ，給定一個 機率值，反推出對應到的 x"
   ]
  },
  {
   "cell_type": "code",
   "execution_count": 5,
   "metadata": {
    "id": "1AHPaUcxMj6q",
    "outputId": "f7e1746c-04a4-40f7-b3e2-0ecc5fa7a52e"
   },
   "outputs": [
    {
     "name": "stdout",
     "output_type": "stream",
     "text": [
      "[1.         1.         1.         1.         1.         1.0255102\n",
      " 1.28061224 1.53571429 1.79081633 2.04591837 2.30102041 2.55612245\n",
      " 2.81122449 3.06632653 3.32142857 3.57653061 3.83163265 4.08673469\n",
      " 4.34183673 4.59693878 4.85204082 5.10714286 5.3622449  5.61734694\n",
      " 5.87244898 6.         6.         6.         6.         6.\n",
      " 6.         6.         6.         6.         6.         6.\n",
      " 6.         6.         6.         6.         6.         6.\n",
      " 6.         6.         6.         6.         6.         6.\n",
      " 6.         6.        ]\n"
     ]
    }
   ],
   "source": [
    "k = stats.uniform.ppf(cumsum_probs , low, high)\n",
    "print(k)\n",
    "#看上圖看結果"
   ]
  },
  {
   "cell_type": "markdown",
   "metadata": {},
   "source": [
    "5. 產生符合隨機樣本點 (random sample)"
   ]
  },
  {
   "cell_type": "code",
   "execution_count": 6,
   "metadata": {
    "id": "3XrLNJXvMj6q",
    "outputId": "ef226323-d114-423b-9785-26e292f92913",
    "scrolled": true
   },
   "outputs": [
    {
     "name": "stdout",
     "output_type": "stream",
     "text": [
      "[2.52008532 1.48995293 1.70103366 2.67997527 2.90643553 2.64177347\n",
      " 2.99052271 1.56340437 3.41865015 4.58149591 4.51617172 1.34660796\n",
      " 2.80137057 2.90055769 4.64765698 1.58985802 4.81039896 1.8021739\n",
      " 4.84151427 3.89464372]\n"
     ]
    },
    {
     "data": {
      "image/png": "[encoded data removed]",
      "text/plain": [
       "<Figure size 432x288 with 1 Axes>"
      ]
     },
     "metadata": {
      "needs_background": "light"
     },
     "output_type": "display_data"
    }
   ],
   "source": [
    "X = stats.uniform.rvs(low, high-low,size=20)\n",
    "print(X)\n",
    "plt.hist(X,bins=13)\n",
    "plt.title('random variable of uniform(size=20)')\n",
    "plt.show()\n",
    "#試試看，，每一次的結果一樣嗎?"
   ]
  },
  {
   "cell_type": "markdown",
   "metadata": {},
   "source": [
    "6. 計算固定參數下，隨機變數的平均數、變異數、偏度和峰度"
   ]
  },
  {
   "cell_type": "code",
   "execution_count": 7,
   "metadata": {
    "id": "PCuNqn0EMj6r",
    "outputId": "5025c87d-3aba-4d76-890e-f346dd9bb22d"
   },
   "outputs": [
    {
     "name": "stdout",
     "output_type": "stream",
     "text": [
      "(array(3.), array(1.33333333), array(0.), array(-1.2))\n",
      "<class 'tuple'>\n",
      "randint mean= 3.0\n",
      "randint variance= 1.3333333333333333\n",
      "randint kurtosis= 0.0\n",
      "randint skew= -1.2\n"
     ]
    }
   ],
   "source": [
    "stat_uniform=stats.uniform.stats(low, high-low,moments='mvks')\n",
    "print(stat_uniform)\n",
    "print(type(stat_uniform))\n",
    "print(\"randint mean=\",float(stat_uniform[0]))\n",
    "print(\"randint variance=\",float(stat_uniform[1]))\n",
    "print(\"randint kurtosis=\",float(stat_uniform[2]))\n",
    "print(\"randint skew=\",float(stat_uniform[3]))"
   ]
  },
  {
   "cell_type": "markdown",
   "metadata": {
    "id": "MtX2zE-aMj6r"
   },
   "source": [
    "## 常態分配\n",
    "* [stats.norm 相關用法](https://docs.scipy.org/doc/scipy/reference/generated/scipy.stats.norm.html)    \n",
    "stats.norm 中的  loc,scale 分別代表   \n",
    "loc=mu      \n",
    "scale=sigma     "
   ]
  },
  {
   "cell_type": "markdown",
   "metadata": {},
   "source": [
    "* 常態分佈(normal distribution)，又稱高斯分佈(Gaussian distribution)\n",
    "* 若隨機變數 X 服從一個平均數為 μ 和 標準差為 σ 的常態分配，其記為 X ~ N (μ, σ2)\n",
    "* 機率密度函數(pdf)\n",
    "  * $ f(x) = \\frac{1}{\\sigma \\sqrt{2 \\pi}} e^{-\\frac{(x-\\mu)^2}{2 \\sigma^2}}$\n",
    "* 期望值 $\\mu$ 決定 pdf 位置\n",
    "  * $ E(X) = \\mu $\n",
    "* 變異數 $\\sigma$ 決定 pdf 寬度\n",
    "  * $ Var(X) = \\sigma^2 $\n",
    "* 特性\n",
    "  * 以平均數為中線，構成左右對稱之單峰、鐘型曲線分佈\n",
    "  * 觀察值之範圍為負無限大至正無限大之間\n",
    "  * 變項之平均數、中位數和眾數為同一數值\n",
    "  * $\\mu$＝0，$\\sigma^2$＝1，稱為標準常態分配\n",
    "\n",
    "* 語法\n",
    "\n",
    "| 連續型均勻分配 | 語法 |\n",
    "|---------------|:----------:|\n",
    "| 機率質量函數 | norm.pdf |\n",
    "| 累積機率函數 | norm.cdf |\n",
    "| 樣本點 | norm.rvs |\n",
    "| 統計量計算 | norm.stats |\n"
   ]
  },
  {
   "cell_type": "markdown",
   "metadata": {},
   "source": [
    "* 標準常態分配\n",
    "  * 標準化\n",
    "    $ Z = \\frac{X-\\mu}{\\sigma} $\n",
    "  * 特性\n",
    "    * 落在 $ \\mu \\pm 1個 \\sigma：68.3 \\% $\n",
    "    * 落在 $ \\mu \\pm 2個 \\sigma：95.4 \\% $\n",
    "    * 落在 $ \\mu \\pm 3個 \\sigma：99.7 \\% $"
   ]
  },
  {
   "cell_type": "markdown",
   "metadata": {},
   "source": [
    "1. 設定使用參數"
   ]
  },
  {
   "cell_type": "code",
   "execution_count": 8,
   "metadata": {},
   "outputs": [],
   "source": [
    "mu=0\n",
    "sigma=1\n",
    "x=np.linspace(-4, 4, 500)"
   ]
  },
  {
   "cell_type": "markdown",
   "metadata": {},
   "source": [
    "2. 產生 pdf圖"
   ]
  },
  {
   "cell_type": "code",
   "execution_count": 9,
   "metadata": {
    "id": "k-YX6X9GMj6s",
    "outputId": "7ac6c46b-3995-4098-f454-d143d6024dab"
   },
   "outputs": [
    {
     "data": {
      "image/png": "[encoded data removed]",
      "text/plain": [
       "<Figure size 432x288 with 1 Axes>"
      ]
     },
     "metadata": {
      "needs_background": "light"
     },
     "output_type": "display_data"
    }
   ],
   "source": [
    "y = stats.norm.pdf(x,mu, sigma)\n",
    "plt.plot(x, y, \"b-\", linewidth=2)\n",
    "#plt.grid(True)\n",
    "plt.title('pdf of Norma(0,1)')\n",
    "plt.show()"
   ]
  },
  {
   "cell_type": "markdown",
   "metadata": {},
   "source": [
    "3. 計算常態分配的累積機率 (cumulative density function)，pdf 的積分"
   ]
  },
  {
   "cell_type": "code",
   "execution_count": 10,
   "metadata": {
    "id": "-_TuSPd1Mj6s",
    "outputId": "c8f013d6-7c98-4c89-f922-2294de967877"
   },
   "outputs": [
    {
     "data": {
      "image/png": "[encoded data removed]",
      "text/plain": [
       "<Figure size 432x288 with 1 Axes>"
      ]
     },
     "metadata": {
      "needs_background": "light"
     },
     "output_type": "display_data"
    },
    {
     "name": "stdout",
     "output_type": "stream",
     "text": [
      "6.159755045951987e-05\n"
     ]
    }
   ],
   "source": [
    "cumsum_probs =  stats.norm.cdf(x,mu, sigma)\n",
    "plt.ylabel('P(X<=x)')\n",
    "plt.xlabel('x')\n",
    "plt.title(' cdf of Nomal(0,1)')\n",
    "plt.plot(x, cumsum_probs,\"b-\", linewidth=2)\n",
    "plt.show()\n",
    "print(cumsum_probs[10])"
   ]
  },
  {
   "cell_type": "markdown",
   "metadata": {},
   "source": [
    "4. 透過 cdf ，給定一個 機率值，反推出對應到的 x"
   ]
  },
  {
   "cell_type": "code",
   "execution_count": 11,
   "metadata": {
    "id": "BE33MtmbMj6x",
    "outputId": "6f01ec30-fb2b-4f76-f3d3-95d9b0810572"
   },
   "outputs": [
    {
     "name": "stdout",
     "output_type": "stream",
     "text": [
      "[-3.98396794 -3.96793587 -3.95190381 -3.93587174 -3.91983968 -3.90380762\n",
      " -3.88777555 -3.87174349 -3.85571142]\n"
     ]
    }
   ],
   "source": [
    "k = stats.norm.ppf(cumsum_probs ,mu, sigma)\n",
    "print(k[1:10])\n",
    "#看上圖比對結果"
   ]
  },
  {
   "cell_type": "markdown",
   "metadata": {},
   "source": [
    "5. 產生符合隨機樣本點 (random sample)"
   ]
  },
  {
   "cell_type": "code",
   "execution_count": 12,
   "metadata": {
    "id": "U4iWH8FgMj6y",
    "outputId": "7536a5ff-6041-4cd5-8c3c-b0951a2d36ff"
   },
   "outputs": [
    {
     "data": {
      "image/png": "[encoded data removed]",
      "text/plain": [
       "<Figure size 432x288 with 1 Axes>"
      ]
     },
     "metadata": {
      "needs_background": "light"
     },
     "output_type": "display_data"
    }
   ],
   "source": [
    "X = stats.norm.rvs(mu, sigma,size=1000)\n",
    "plt.hist(X,bins=13)\n",
    "plt.title('random variable of Normal(size=1000)')\n",
    "plt.show()\n",
    "#試試看，，每一次的結果一樣嗎?"
   ]
  },
  {
   "cell_type": "markdown",
   "metadata": {},
   "source": [
    "6. 計算固定參數下，隨機變數的平均數、變異數、偏度和峰度"
   ]
  },
  {
   "cell_type": "code",
   "execution_count": 13,
   "metadata": {
    "id": "kCDqtqRQMj6y",
    "outputId": "fd8bc6ee-7505-476f-c13a-a0aa134003a2"
   },
   "outputs": [
    {
     "name": "stdout",
     "output_type": "stream",
     "text": [
      "(array(0.), array(1.), array(0.), array(0.))\n",
      "<class 'tuple'>\n",
      "normal mean= 0.0\n",
      "normal variance= 1.0\n",
      "normal kurtosis= 0.0\n",
      "normal skew= 0.0\n"
     ]
    }
   ],
   "source": [
    "stat_norm=stats.norm.stats(mu, sigma,moments='mvks')\n",
    "print(stat_norm)\n",
    "print(type(stat_norm))\n",
    "print(\"normal mean=\",float(stat_norm[0]))\n",
    "print(\"normal variance=\",float(stat_norm[1]))\n",
    "print(\"normal kurtosis=\",float(stat_norm[2]))\n",
    "print(\"normal skew=\",float(stat_norm[3]))\n",
    "#所以可以看到標準常態分配的峰度和偏度為0"
   ]
  },
  {
   "cell_type": "markdown",
   "metadata": {},
   "source": [
    "## 中央極限定理"
   ]
  },
  {
   "cell_type": "markdown",
   "metadata": {},
   "source": [
    "* 從平均數 $\\mu$﹐標準差 $\\sigma$ 的母體中抽樣大小為 n 的簡單隨機樣本，當樣本數 n 夠大時，樣本平均數($ \\bar{X}_n $) 的抽樣分配會近似於常態分配\n",
    "  * 一般統計實務，大部分的應用假設 n 大於 30 時，樣本平均數($ \\bar{X}_n $) 的抽樣分配接近常態分配\n",
    "  * 當母體為常態分配，不管 n，樣本平均數($ \\bar{X}_n $) 的抽樣分配皆為常態分配\n",
    "* $ X \\sim 任一分配 $，符合\n",
    "  * $ E(X) $ 存在\n",
    "  * $ 0 \\leq Var(X) \\leq \\infty $ 存在 \n",
    "  \n",
    " $ \\Rightarrow \\bar{X}_n \\to 常態分配$"
   ]
  },
  {
   "cell_type": "markdown",
   "metadata": {
    "id": "WfQTwb6PMj6z"
   },
   "source": [
    "### 用模擬驗證中央極限定理\n",
    "* X~bernoulli(p)\n",
    "  從伯努利分配中，抽取 n 個樣本，$X_1,..., X_n$，重複抽了 500 次，每一次都計算 $ \\bar{X}_n $，長條圖呈現 500 次 $ \\bar{X}_n $ 結果"
   ]
  },
  {
   "cell_type": "code",
   "execution_count": 14,
   "metadata": {
    "id": "vPR_iTFvMj61"
   },
   "outputs": [],
   "source": [
    "# 計算樣本平均數\n",
    "def cal_mean(x):\n",
    "    return(sum(x)/len(x))"
   ]
  },
  {
   "cell_type": "markdown",
   "metadata": {},
   "source": [
    "* 模擬重複抽樣 500次，看樣本平均(n=100)的分布情形"
   ]
  },
  {
   "cell_type": "code",
   "execution_count": 15,
   "metadata": {
    "id": "bdV_kVyaMj61",
    "outputId": "0aed7e64-61a9-4d4e-f632-8497036d7506",
    "scrolled": true
   },
   "outputs": [
    {
     "name": "stderr",
     "output_type": "stream",
     "text": [
      "D:\\anaconda3\\lib\\site-packages\\seaborn\\distributions.py:2551: FutureWarning: `distplot` is a deprecated function and will be removed in a future version. Please adapt your code to use either `displot` (a figure-level function with similar flexibility) or `histplot` (an axes-level function for histograms).\n",
      "  warnings.warn(msg, FutureWarning)\n"
     ]
    },
    {
     "data": {
      "image/png": "[encoded data removed]",
      "text/plain": [
       "<Figure size 432x288 with 1 Axes>"
      ]
     },
     "metadata": {
      "needs_background": "light"
     },
     "output_type": "display_data"
    }
   ],
   "source": [
    "p=0.4\n",
    "mean_rv=[]\n",
    "for i in range(500):\n",
    "    X = stats.bernoulli.rvs(p,size=100)\n",
    "    mean_rv.append(cal_mean(X))\n",
    "sns.distplot(mean_rv)\n",
    "plt.title('sample mean from the binomial(0.4),size=100,replicates=500')\n",
    "plt.show()"
   ]
  },
  {
   "cell_type": "markdown",
   "metadata": {},
   "source": [
    "* 模擬重複抽樣 500次，看樣本平均(n=1000)的分布情形"
   ]
  },
  {
   "cell_type": "code",
   "execution_count": 16,
   "metadata": {
    "id": "fXylScjbMj62",
    "outputId": "fcccbe7f-bce5-47cc-f842-e82906ab0934",
    "scrolled": true
   },
   "outputs": [
    {
     "name": "stderr",
     "output_type": "stream",
     "text": [
      "D:\\anaconda3\\lib\\site-packages\\seaborn\\distributions.py:2551: FutureWarning: `distplot` is a deprecated function and will be removed in a future version. Please adapt your code to use either `displot` (a figure-level function with similar flexibility) or `histplot` (an axes-level function for histograms).\n",
      "  warnings.warn(msg, FutureWarning)\n"
     ]
    },
    {
     "data": {
      "image/png": "[encoded data removed]",
      "text/plain": [
       "<Figure size 432x288 with 1 Axes>"
      ]
     },
     "metadata": {
      "needs_background": "light"
     },
     "output_type": "display_data"
    }
   ],
   "source": [
    "p=0.4\n",
    "mean_rv=[]\n",
    "for i in range(500):\n",
    "    X = stats.bernoulli.rvs(p,size=1000)\n",
    "    mean_rv.append(cal_mean(X))\n",
    "sns.distplot(mean_rv)\n",
    "plt.title('sample mean from the binomial(0.4),size=100,replicates=500')\n",
    "plt.show()"
   ]
  },
  {
   "cell_type": "markdown",
   "metadata": {},
   "source": [
    "* 模擬重複抽樣 500次，看樣本平均(n=10000)的分布情形"
   ]
  },
  {
   "cell_type": "code",
   "execution_count": 17,
   "metadata": {
    "id": "vsHLa_3IMj62",
    "outputId": "ce3e4621-4271-4826-aa1c-32b60a10b098"
   },
   "outputs": [
    {
     "name": "stderr",
     "output_type": "stream",
     "text": [
      "D:\\anaconda3\\lib\\site-packages\\seaborn\\distributions.py:2551: FutureWarning: `distplot` is a deprecated function and will be removed in a future version. Please adapt your code to use either `displot` (a figure-level function with similar flexibility) or `histplot` (an axes-level function for histograms).\n",
      "  warnings.warn(msg, FutureWarning)\n"
     ]
    },
    {
     "data": {
      "image/png": "[encoded data removed]",
      "text/plain": [
       "<Figure size 432x288 with 1 Axes>"
      ]
     },
     "metadata": {
      "needs_background": "light"
     },
     "output_type": "display_data"
    }
   ],
   "source": [
    "p=0.4\n",
    "mean_rv=[]\n",
    "for i in range(500):\n",
    "    X = stats.bernoulli.rvs(p,size=10000)\n",
    "    mean_rv.append(cal_mean(X))\n",
    "sns.distplot(mean_rv)\n",
    "plt.title('sample mean from the binomial(0.4),size=100,replicates=500')\n",
    "plt.show()"
   ]
  },
  {
   "cell_type": "markdown",
   "metadata": {},
   "source": [
    "* 模擬重複抽樣 500次，看樣本平均(n=100000)的分布情形"
   ]
  },
  {
   "cell_type": "code",
   "execution_count": 18,
   "metadata": {
    "id": "QCUrg4R-Mj63",
    "outputId": "ee9f2cc9-3fc7-409d-c0b4-07f96bcc4cde"
   },
   "outputs": [
    {
     "name": "stderr",
     "output_type": "stream",
     "text": [
      "D:\\anaconda3\\lib\\site-packages\\seaborn\\distributions.py:2551: FutureWarning: `distplot` is a deprecated function and will be removed in a future version. Please adapt your code to use either `displot` (a figure-level function with similar flexibility) or `histplot` (an axes-level function for histograms).\n",
      "  warnings.warn(msg, FutureWarning)\n"
     ]
    },
    {
     "data": {
      "image/png": "[encoded data removed]",
      "text/plain": [
       "<Figure size 432x288 with 1 Axes>"
      ]
     },
     "metadata": {
      "needs_background": "light"
     },
     "output_type": "display_data"
    }
   ],
   "source": [
    "p=0.4\n",
    "mean_rv=[]\n",
    "for i in range(500):\n",
    "    X = stats.bernoulli.rvs(p,size=100000)\n",
    "    mean_rv.append(cal_mean(X))\n",
    "sns.distplot(mean_rv)\n",
    "plt.title('sample mean from the binomial(0.4),size=100,replicates=500')\n",
    "plt.show()"
   ]
  },
  {
   "cell_type": "code",
   "execution_count": null,
   "metadata": {},
   "outputs": [],
   "source": []
  }
 ],
 "metadata": {
  "colab": {
   "name": "範例程式.ipynb",
   "provenance": []
  },
  "kernelspec": {
   "display_name": "Python 3",
   "language": "python",
   "name": "python3"
  },
  "language_info": {
   "codemirror_mode": {
    "name": "ipython",
    "version": 3
   },
   "file_extension": ".py",
   "mimetype": "text/x-python",
   "name": "python",
   "nbconvert_exporter": "python",
   "pygments_lexer": "ipython3",
   "version": "3.8.5"
  }
 },
 "nbformat": 4,
 "nbformat_minor": 1
}
