{
 "cells": [
  {
   "cell_type": "markdown",
   "metadata": {
    "id": "a_VmAfWSBJs7"
   },
   "source": [
    "<img width=150 src=\"https://upload.wikimedia.org/wikipedia/commons/thumb/1/1a/NumPy_logo.svg/200px-NumPy_logo.svg.png\"></img>"
   ]
  },
  {
   "cell_type": "markdown",
   "metadata": {},
   "source": [
    "* 重點\n",
    "  * 如何模擬這些分配的樣本點\n",
    "  * 進行一些機率的運算，包含以下離散型分配        \n",
    "    4. 負二項分配(Negative Binomial Distribution)  \n",
    "    5. 超幾何分配(Hypergeometric Distribution)  "
   ]
  },
  {
   "cell_type": "code",
   "execution_count": 1,
   "metadata": {},
   "outputs": [],
   "source": [
    "# library\n",
    "import matplotlib.pyplot as plt\n",
    "import numpy as np\n",
    "import pandas as pd\n",
    "from scipy import stats\n",
    "import math\n",
    "import statistics"
   ]
  },
  {
   "cell_type": "markdown",
   "metadata": {},
   "source": [
    "## 負二項分配 (Negative Binomial Distribution)"
   ]
  },
  {
   "cell_type": "markdown",
   "metadata": {},
   "source": [
    "* 說明：在一系列獨立同分布的伯努利試驗中，X 為成功次數到達指定次數 (記為 𝑘) 時，需要試驗的次數的機率分布\n",
    "  * p：成功的機率，(1-p)：失敗的機率\n",
    "  * k：累積到 k 次成功後才停止\n",
    "  * r：產生出 樣本點空間\n",
    "* 滿足以下條件稱之\n",
    "  * 實驗包含一系列獨立的實驗\n",
    "  * 每個實驗都有成功與失敗兩種結果\n",
    "  * 成功的機率是恆定的\n",
    "  * 實驗持續到第 r 次失敗，r 可為任意正數\n",
    "* 函數：\n",
    "  * $ P(X=x) = C_{k-1}^{x-1} p^k (1-p)^{x-k} $, $ x=k,k+1,k+2,... $ \n",
    "  * $ X \\sim NB(k,p) $\n",
    "* 性質：\n",
    "  * $ E(X) = \\mu = \\frac{r q}{p} =\\frac{ r(1-p) }{p} $\n",
    "  * $ V(X) = \\sigma = \\frac{r q}{p^2} =\\frac{ r(1-p) }{p^2} $\n",
    "* 語法\n",
    "\n",
    "| 負二項分配 | 語法(scipy.stats) |\n",
    "|-------------|:-------------:|\n",
    "| 機率質量函數 | nbinom.pmf |\n",
    "| 累積機率函數 | nbinom.cdf |\n",
    "| 樣本點 | nbinom.rvs |\n",
    "| 統計量計算 | nbinom.stats |\n"
   ]
  },
  {
   "cell_type": "markdown",
   "metadata": {},
   "source": [
    "* 範例：<br>\n",
    "  同時投擲 2 個公平的骰子，求在第 8 次投擲且第 2 次點數和為 7 之機率<br>\n",
    "  → 2 個骰子點數和為 7 的次數 k=2，2 個骰子點數和非 7 的次數 x=6\n",
    "    \n",
    "    $ P(X=8) = C_{2-1}^{8-1} (\\frac{1}{6})^2 (1-\\frac{1}{6})^{8-2} $"
   ]
  },
  {
   "cell_type": "code",
   "execution_count": 2,
   "metadata": {},
   "outputs": [],
   "source": [
    "from scipy.stats import nbinom"
   ]
  },
  {
   "cell_type": "markdown",
   "metadata": {},
   "source": [
    "1. 定義負二項分配的基本資訊"
   ]
  },
  {
   "cell_type": "code",
   "execution_count": 3,
   "metadata": {},
   "outputs": [
    {
     "name": "stdout",
     "output_type": "stream",
     "text": [
      "[ 0.  1.  2.  3.  4.  5.  6.  7.  8.  9. 10. 11. 12. 13. 14.]\n"
     ]
    }
   ],
   "source": [
    "p = 0.4 #成功的機率\n",
    "k = 3   #指定次數\n",
    "mean, var, skew, kurt = nbinom.stats(k, p, moments='mvsk')\n",
    "\n",
    "#產生一個同樣間隔的序列\n",
    "#print(stats.nbinom.ppf(0.01, k, p)) #0.0\n",
    "#print(stats.nbinom.ppf(0.99, k, p)) #15\n",
    "\n",
    "r = np.arange(stats.nbinom.ppf(0.01, k, p),\n",
    "              stats.nbinom.ppf(0.99, k, p))\n",
    "print(r)"
   ]
  },
  {
   "cell_type": "markdown",
   "metadata": {},
   "source": [
    "2. 計算機率質量函數 (probability mass function)"
   ]
  },
  {
   "cell_type": "code",
   "execution_count": 4,
   "metadata": {},
   "outputs": [
    {
     "data": {
      "image/png": "[encoded data removed]",
      "text/plain": [
       "<Figure size 432x288 with 1 Axes>"
      ]
     },
     "metadata": {
      "needs_background": "light"
     },
     "output_type": "display_data"
    }
   ],
   "source": [
    "fig, ax = plt.subplots(1, 1)\n",
    "ax.plot(r, nbinom.pmf(r, k, p), 'bo', ms=8, label='nbinom pmf')\n",
    "ax.vlines(r, 0, nbinom.pmf(r, k, p), colors='b', lw=5, alpha=0.5)\n",
    "rv = nbinom(k, p)\n",
    "ax.vlines(r, 0, rv.pmf(r), colors='k', linestyles='-', lw=1,\n",
    "          label='frozen pmf')\n",
    "ax.legend(loc='best', frameon=False)\n",
    "plt.show()"
   ]
  },
  {
   "cell_type": "code",
   "execution_count": 5,
   "metadata": {},
   "outputs": [
    {
     "name": "stdout",
     "output_type": "stream",
     "text": [
      "[0.064      0.1152     0.13824    0.13824    0.124416   0.10450944\n",
      " 0.08360755 0.06449725 0.04837294 0.03547349 0.02554091 0.01811083\n",
      " 0.01267758 0.00877679 0.00601837]\n",
      "<class 'numpy.ndarray'>\n"
     ]
    }
   ],
   "source": [
    "# P(X=x) --> 是機率\n",
    "probs = stats.nbinom.pmf(r, k, p)\n",
    "print(probs)\n",
    "print(type(probs))"
   ]
  },
  {
   "cell_type": "code",
   "execution_count": 6,
   "metadata": {},
   "outputs": [
    {
     "data": {
      "image/png": "[encoded data removed]",
      "text/plain": [
       "<Figure size 432x288 with 1 Axes>"
      ]
     },
     "metadata": {
      "needs_background": "light"
     },
     "output_type": "display_data"
    }
   ],
   "source": [
    "plt.bar(r, probs)\n",
    "plt.ylabel('P(X=x)')\n",
    "plt.xlabel('x')\n",
    "plt.title('NB(k=3,p=0.4)')\n",
    "plt.show()"
   ]
  },
  {
   "cell_type": "markdown",
   "metadata": {},
   "source": [
    "3. 計算負二項分佈的累積機率 (cumulative density function)，pmf 的累加"
   ]
  },
  {
   "cell_type": "code",
   "execution_count": 7,
   "metadata": {},
   "outputs": [
    {
     "data": {
      "image/png": "[encoded data removed]",
      "text/plain": [
       "<Figure size 432x288 with 1 Axes>"
      ]
     },
     "metadata": {
      "needs_background": "light"
     },
     "output_type": "display_data"
    }
   ],
   "source": [
    "# P(X=x) --> 是機率\n",
    "cumsum_probs = stats.nbinom.cdf(r, k, p)\n",
    "#array([ 0.07776, 0.2592 , 0.3456 , 0.2304 , 0.0768 , 0.01024])\n",
    "plt.show()\n",
    "plt.ylabel('P(X<=x)')\n",
    "plt.xlabel('x')\n",
    "plt.title('binomial(n=5,p=0.4)')\n",
    "plt.plot(r, cumsum_probs)\n",
    "plt.show()"
   ]
  },
  {
   "cell_type": "markdown",
   "metadata": {},
   "source": [
    "4. 透過 cdf ，給定一個 機率值，反推出對應到的 x"
   ]
  },
  {
   "cell_type": "code",
   "execution_count": 8,
   "metadata": {},
   "outputs": [
    {
     "name": "stdout",
     "output_type": "stream",
     "text": [
      "[ 0.  1.  2.  3.  4.  5.  6.  7.  8.  9. 10. 11. 12. 13. 14.]\n"
     ]
    }
   ],
   "source": [
    "p_loc= stats.nbinom.ppf(cumsum_probs, k, p)\n",
    "print(p_loc)\n",
    "#看上圖看結果"
   ]
  },
  {
   "cell_type": "markdown",
   "metadata": {},
   "source": [
    "5. 產生符合負二項分佈的隨機樣本點 (random sample)"
   ]
  },
  {
   "cell_type": "code",
   "execution_count": 9,
   "metadata": {},
   "outputs": [
    {
     "name": "stdout",
     "output_type": "stream",
     "text": [
      "[4 1 1 3 3 0 3 5 4 5 6 6 3 3 3 2 0 4 5 3]\n"
     ]
    },
    {
     "data": {
      "image/png": "[encoded data removed]",
      "text/plain": [
       "<Figure size 432x288 with 1 Axes>"
      ]
     },
     "metadata": {
      "needs_background": "light"
     },
     "output_type": "display_data"
    }
   ],
   "source": [
    "X = stats.nbinom.rvs(k,p,size=20)\n",
    "print(X)\n",
    "plt.hist(X)\n",
    "plt.show()\n",
    "#試試看，，每一次的結果一樣嗎?"
   ]
  },
  {
   "cell_type": "markdown",
   "metadata": {},
   "source": [
    "6. 計算固定參數下，隨機變數的平均數、變異數、偏度和峰度"
   ]
  },
  {
   "cell_type": "code",
   "execution_count": 10,
   "metadata": {},
   "outputs": [
    {
     "name": "stdout",
     "output_type": "stream",
     "text": [
      "(array(4.5), array(11.25), array(1.19256959), array(2.08888889))\n",
      "<class 'tuple'>\n",
      "negative binomial mean= 4.5\n",
      "negative binomial variance= 11.25\n",
      "negative binomial kurtosis= 1.1925695879998879\n",
      "negative binomial skew= 2.088888888888889\n"
     ]
    }
   ],
   "source": [
    "stat_nbin=stats.nbinom.stats(k,p,moments='mvks')\n",
    "print(stat_nbin)\n",
    "print(type(stat_nbin))\n",
    "#E(X)\n",
    "print(\"negative binomial mean=\",float(stat_nbin[0]))\n",
    "print(\"negative binomial variance=\",float(stat_nbin[1]))\n",
    "print(\"negative binomial kurtosis=\",float(stat_nbin[2]))\n",
    "print(\"negative binomial skew=\",float(stat_nbin[3]))"
   ]
  },
  {
   "cell_type": "markdown",
   "metadata": {},
   "source": [
    "## 超幾何分配 (Hypergeometric Distribution)"
   ]
  },
  {
   "cell_type": "markdown",
   "metadata": {},
   "source": [
    "* 說明：由有限個(N)物件中抽出 n 個物件，成功抽出指定種類的物件的個數 (取後不放回(without replacement))\n",
    "  * 若隨機變量 X 服從參數，則記為 H(n, K, N)\n",
    "    * 𝑁：共有幾個物件，𝑁 = 0,1,…\n",
    "    * 𝐾：𝑁 個物件中，有 𝐾 個是你關心的物件類型個數，𝐾 = 0,1,2,…, 𝑁\n",
    "    * n：K 個物件，要抽出 n 個物件，n = 0,1,…, 𝑁\n",
    "    \n",
    "|  | 母體 | 樣本 |\n",
    "|----|:----:|:----:|\n",
    "| 數量 | N | n |\n",
    "| 成功數量 | K | x |\n",
    "| 失敗數量 | N-K | n-x |\n",
    "\n",
    "<br> \n",
    "\n",
    "* 範例：現在有兩堆骰子，30 個為紅色數字，20 個為黑色數字，取出 10 個，有 3 個是全紅的<br>\n",
    "  $ P(X=3) = \\frac{ C_3^{30} C_{10-3}^{50-30} }{ C_{10}^{50} }$"
   ]
  },
  {
   "cell_type": "code",
   "execution_count": 11,
   "metadata": {},
   "outputs": [],
   "source": [
    "from scipy.stats import hypergeom"
   ]
  },
  {
   "cell_type": "markdown",
   "metadata": {},
   "source": [
    "1. 定義超幾何分配的基本資訊"
   ]
  },
  {
   "cell_type": "code",
   "execution_count": 12,
   "metadata": {},
   "outputs": [
    {
     "name": "stdout",
     "output_type": "stream",
     "text": [
      "[ 0  1  2  3  4  5  6  7  8  9 10]\n"
     ]
    }
   ],
   "source": [
    "N=50\n",
    "K=30\n",
    "n=10\n",
    "\n",
    "#產生一個同樣間隔的序列\n",
    "r = np.arange(0, min(n+1,K+1)) #產出 x 對應點\n",
    "print(r)"
   ]
  },
  {
   "cell_type": "markdown",
   "metadata": {},
   "source": [
    "2. 計算機率質量函數 (probability mass function)"
   ]
  },
  {
   "cell_type": "code",
   "execution_count": 13,
   "metadata": {},
   "outputs": [
    {
     "data": {
      "image/png": "[encoded data removed]",
      "text/plain": [
       "<Figure size 432x288 with 1 Axes>"
      ]
     },
     "metadata": {
      "needs_background": "light"
     },
     "output_type": "display_data"
    }
   ],
   "source": [
    "rv = hypergeom(N, n, K)\n",
    "x = np.arange(0, n+1)\n",
    "pmf_dogs = rv.pmf(x)\n",
    "\n",
    "fig = plt.figure()\n",
    "ax = fig.add_subplot(111)\n",
    "ax.plot(x, pmf_dogs, 'bo')\n",
    "ax.vlines(x, 0, pmf_dogs, lw=2)\n",
    "ax.set_xlabel('# of dogs in our group of chosen animals')\n",
    "ax.set_ylabel('hypergeom PMF')\n",
    "plt.show()"
   ]
  },
  {
   "cell_type": "code",
   "execution_count": 14,
   "metadata": {},
   "outputs": [
    {
     "name": "stdout",
     "output_type": "stream",
     "text": [
      "[1.79858837e-05 4.90524100e-04 5.33444958e-03 3.06388899e-02\n",
      " 1.03406253e-01 2.15085007e-01 2.80058603e-01 2.25929629e-01\n",
      " 1.08257947e-01 2.78558461e-02 2.92486384e-03]\n",
      "<class 'numpy.ndarray'>\n"
     ]
    }
   ],
   "source": [
    "# P(X=x) --> 是機率\n",
    "probs = stats.hypergeom.pmf(r, N, K, n)\n",
    "print(probs)\n",
    "print(type(probs))"
   ]
  },
  {
   "cell_type": "code",
   "execution_count": 15,
   "metadata": {},
   "outputs": [
    {
     "data": {
      "image/png": "[encoded data removed]",
      "text/plain": [
       "<Figure size 432x288 with 1 Axes>"
      ]
     },
     "metadata": {
      "needs_background": "light"
     },
     "output_type": "display_data"
    }
   ],
   "source": [
    "plt.bar(r, probs)\n",
    "plt.ylabel('P(X=x)')\n",
    "plt.xlabel('x')\n",
    "plt.title('pmf of Hypergeometric(N=50,K=30,n=10)')\n",
    "plt.show()"
   ]
  },
  {
   "cell_type": "markdown",
   "metadata": {},
   "source": [
    "3. 計算超幾何分配的累積機率 (cumulative density function)，pmf 的累加"
   ]
  },
  {
   "cell_type": "code",
   "execution_count": 16,
   "metadata": {},
   "outputs": [
    {
     "data": {
      "image/png": "[encoded data removed]",
      "text/plain": [
       "<Figure size 432x288 with 1 Axes>"
      ]
     },
     "metadata": {
      "needs_background": "light"
     },
     "output_type": "display_data"
    }
   ],
   "source": [
    "# P(X=x) --> 是機率\n",
    "cumsum_probs = stats.hypergeom.cdf(r, N,K,n)\n",
    "plt.show()\n",
    "plt.ylabel('P(X<=x)')\n",
    "plt.xlabel('x')\n",
    "plt.title('cdf of Hypergeometric(N=50,K=30,n=10)')\n",
    "plt.plot(r, cumsum_probs)\n",
    "plt.show()"
   ]
  },
  {
   "cell_type": "markdown",
   "metadata": {},
   "source": [
    "4. 透過 cdf ，給定一個 機率值，反推出對應到的 x"
   ]
  },
  {
   "cell_type": "code",
   "execution_count": 17,
   "metadata": {},
   "outputs": [
    {
     "name": "stdout",
     "output_type": "stream",
     "text": [
      "[ 0.  1.  2.  3.  4.  5.  6.  7.  8.  9. 10.]\n"
     ]
    }
   ],
   "source": [
    "p_loc= stats.hypergeom.ppf(cumsum_probs, N,K,n)\n",
    "print(p_loc)\n",
    "#看上圖看結果"
   ]
  },
  {
   "cell_type": "markdown",
   "metadata": {},
   "source": [
    "5. 產生符合超幾何分配的隨機樣本點 (random sample)"
   ]
  },
  {
   "cell_type": "code",
   "execution_count": 18,
   "metadata": {},
   "outputs": [
    {
     "name": "stdout",
     "output_type": "stream",
     "text": [
      "[ 6  3  8  5  5  7  5 10  8  7  8  6  6  5  7  6  6  8  8  6]\n"
     ]
    },
    {
     "data": {
      "image/png": "[encoded data removed]",
      "text/plain": [
       "<Figure size 432x288 with 1 Axes>"
      ]
     },
     "metadata": {
      "needs_background": "light"
     },
     "output_type": "display_data"
    }
   ],
   "source": [
    "X = stats.hypergeom.rvs(N,K,n,size=20)\n",
    "print(X)\n",
    "plt.hist(X,bins=25)\n",
    "plt.show()\n",
    "#試試看，，每一次的結果一樣嗎?"
   ]
  },
  {
   "cell_type": "markdown",
   "metadata": {},
   "source": [
    "6. 計算固定參數下，隨機變數的平均數、變異數、偏度和峰度"
   ]
  },
  {
   "cell_type": "code",
   "execution_count": 19,
   "metadata": {},
   "outputs": [
    {
     "name": "stdout",
     "output_type": "stream",
     "text": [
      "(array(6.), array(1.95918367), array(-0.08930431), array(-0.13162123))\n",
      "<class 'tuple'>\n",
      "negative hypergeom mean= 6.0\n",
      "negative hypergeom variance= 1.9591836734693877\n",
      "negative hypergeom kurtosis= -0.08930431353897003\n",
      "negative hypergeom skew= -0.13162123226950354\n"
     ]
    }
   ],
   "source": [
    "stat_hyperg=stats.hypergeom.stats(N,K,n,moments='mvks')\n",
    "print(stat_hyperg)\n",
    "print(type(stat_hyperg))\n",
    "#E(X)\n",
    "print(\"negative hypergeom mean=\",float(stat_hyperg[0]))\n",
    "print(\"negative hypergeom variance=\",float(stat_hyperg[1]))\n",
    "print(\"negative hypergeom kurtosis=\",float(stat_hyperg[2]))\n",
    "print(\"negative hypergeom skew=\",float(stat_hyperg[3]))"
   ]
  },
  {
   "cell_type": "markdown",
   "metadata": {},
   "source": [
    "## 範例: 丟 5次骰子出現紅色三次的機率\n",
    "![](Binomail_example.PNG)\n",
    "![](data.PNG)"
   ]
  },
  {
   "cell_type": "code",
   "execution_count": 20,
   "metadata": {},
   "outputs": [
    {
     "name": "stdout",
     "output_type": "stream",
     "text": [
      "0.1646090534979424\n",
      "0.16460905349794233\n"
     ]
    }
   ],
   "source": [
    "# 用 python 計算\n",
    "# 直接公式是運算\n",
    "n=5\n",
    "p=1/3\n",
    "prob1=math.factorial(5)/math.factorial(2)/math.factorial(3)*pow(p,3)*pow((1-p),2) #page\n",
    "print(prob1)\n",
    "\n",
    "#P(X=3)\n",
    "probs = stats.binom.pmf(3, n, p)\n",
    "print(probs)\n",
    "#兩者是相同的"
   ]
  },
  {
   "cell_type": "code",
   "execution_count": null,
   "metadata": {},
   "outputs": [],
   "source": []
  }
 ],
 "metadata": {
  "colab": {
   "name": "Day33.YOLO 細節理解 - 網路輸出的後處理_HW.ipynb",
   "provenance": []
  },
  "kernelspec": {
   "display_name": "Python 3",
   "language": "python",
   "name": "python3"
  },
  "language_info": {
   "codemirror_mode": {
    "name": "ipython",
    "version": 3
   },
   "file_extension": ".py",
   "mimetype": "text/x-python",
   "name": "python",
   "nbconvert_exporter": "python",
   "pygments_lexer": "ipython3",
   "version": "3.8.5"
  }
 },
 "nbformat": 4,
 "nbformat_minor": 1
}
