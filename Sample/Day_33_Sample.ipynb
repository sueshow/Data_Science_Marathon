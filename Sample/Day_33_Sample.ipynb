{
 "cells": [
  {
   "cell_type": "markdown",
   "metadata": {
    "id": "a_VmAfWSBJs7"
   },
   "source": [
    "<img width=150 src=\"https://upload.wikimedia.org/wikipedia/commons/thumb/1/1a/NumPy_logo.svg/200px-NumPy_logo.svg.png\"></img>"
   ]
  },
  {
   "cell_type": "markdown",
   "metadata": {},
   "source": [
    "* 重點：\n",
    "  * 掌握假設檢定的種類，釐清你想了解的問題\n",
    "  * 假設檢定的進階概念，掌握假設檢定的誤差類型"
   ]
  },
  {
   "cell_type": "markdown",
   "metadata": {},
   "source": [
    "# 假設檢定的種類"
   ]
  },
  {
   "cell_type": "markdown",
   "metadata": {},
   "source": [
    "* 根據 $H_1$ 所定訂範圍分類，可分為\n",
    "  * 右尾檢定：店長認為品牌市占率至少 12%，$ H_1: \\mu < 0.12$ \n",
    "  * 雙尾檢定：店長認為品牌市占率為 12%，$ H_1: \\mu \\neq 0.12$\n",
    "  * 左尾檢定：店長認為品牌市占率至多 12%，$ H_1: \\mu > 0.12$\n",
    "* 根據樣本的範圍，可分為\n",
    "\n",
    "<table border=\"1\" width=\"110%\">\n",
    "    <tr>\n",
    "        <th width=\"10%\"> 類型 </a>\n",
    "        <th width=\"10%\"> 資料特性 </a>\n",
    "        <th width=\"30%\"> 使用情境 </a>\n",
    "        <th width=\"30%\"> 使用時機 </a>\n",
    "        <th width=\"30%\"> 平均數檢定 </a>\n",
    "    </tr>\n",
    "    <tr>\n",
    "        <td style=\"text-align:center\"> 單樣本檢定 </td>\n",
    "        <td style=\"text-align:center\"> 做實驗只分一組 </td>\n",
    "        <td style=\"text-align:left\"> 一位店長認為其品牌在市場之佔有率至多為 12%，一共訪問 300 位消費者，其中有 31 位表示喜歡 </td>\n",
    "        <td style=\"text-align:left\"> 檢樣我們收集的樣本，所算出的統計值，是否高於、低於或等於某一特定值 </td>\n",
    "        <td style=\"text-align:left\"> $H_0: \\mu \\leq 0.12$, $H_1: \\mu < 0.12$ </td>\n",
    "    </tr>\n",
    "    <tr>\n",
    "        <td style=\"text-align:center\"> 雙樣本檢定(非相依) </td>\n",
    "        <td style=\"text-align:center\"> 做實驗分成兩組 </td>\n",
    "        <td style=\"text-align:left\"> * 想比較男女生在薪資上是否有差異性？ <br>\n",
    "             * 父親每日陪伴孩子時間和母親每日陪伴孩子的時間是否有差異？ </td>\n",
    "        <td rowspan=\"2\" style=\"text-align:left\"> 需比較兩種群體或選擇，哪個較好 </td>\n",
    "        <td style=\"text-align:left\"> $H_0: \\mu_女 = \\mu_男$, $H_1: \\mu_女 \\neq \\mu_男 $ </td>\n",
    "    </tr>\n",
    "    <tr>\n",
    "        <td style=\"text-align:center\"> 成對樣本檢定(相依) </td>\n",
    "        <td style=\"text-align:center\"> 分成兩組，但兩租有前後或相依的特性 </td>\n",
    "        <td style=\"text-align:left\"> * 成對樣本：分析夫妻分別的年收入多寡是否有差異 <br>\n",
    "             * 重複量測：參加減肥試驗的一群人，參加試驗前與規律運動 3 個月後的體重是否有差異 </td>\n",
    "        <td style=\"text-align:left\"> $H_0: D \\geq 0$, $H_1: D > 0$, 其中 $D = X_夫-X_妻$ </td>\n",
    "    </tr>\n",
    "</table>\n",
    "\n",
    "* 根據檢定目的，可分為(以雙樣本為例)\n",
    "\n",
    "<table border=\"1\" width=\"50%\">\n",
    "    <tr>\n",
    "        <th width=\"10%\">類型</a>\n",
    "        <th width=\"20%\">使用情境</a>\n",
    "        <th width=\"20%\">平均數檢定</a>\n",
    "    </tr>\n",
    "    <tr>\n",
    "        <td style=\"text-align:center\"> 平均數檢定 </td>\n",
    "        <td style=\"text-align:left\"> 台灣男性的平均腰圍是否比女性腰圍來的多 </td>\n",
    "        <td style=\"text-align:left\"> $H_0:\\mu_男-\\mu_女 \\leq 0$,  $H_1:\\mu_男-\\mu_女 > 0$ </td>\n",
    "    </tr>\n",
    "    <tr>\n",
    "        <td style=\"text-align:center\"> 比例檢定 </td>\n",
    "        <td style=\"text-align:left\"> 兩種不同的email主旨，50封是統一式開頭，50封是個人化開頭，請問個人化的開信率有比統一的開信率來的高？ </td>\n",
    "        <td style=\"text-align:left\"> $H_0:p_客-p_統 \\leq 0$,  $H_1:p_客-p_統 > 0$ </td>\n",
    "    </tr>\n",
    "</table>\n"
   ]
  },
  {
   "cell_type": "markdown",
   "metadata": {},
   "source": [
    "# 重要的抽樣分配"
   ]
  },
  {
   "cell_type": "markdown",
   "metadata": {},
   "source": [
    "* z 分配\n",
    "  * X 是常態分配的隨機變數，平均數為 μ，標準差為 σ，抽出 $X_1,...,X_n$ 服從 $X \\sim N(\\mu, \\sigma^2)$<br>\n",
    "    → $ Z = \\frac{\\bar{X_n}-\\mu}{\\frac{\\sigma}{\\sqrt{n}}}$\n",
    "* t 分配\n",
    "  * 學生t-分配(Student's t-distribution) 可簡稱為 t 分配\n",
    "  * 應用於在母體標準差(σ)未知的情況下，不論樣本數量大或小皆可應用學生 t 分配估計呈常態分布且變異數未知的總體的平均值\n",
    "  * X 是常態分配的隨機變數，標準差 $\\sigma$ 未知，則用 $S_n$ 估計 $\\sigma$ <br>\n",
    "    → $ T = \\frac{\\bar{X_n}-\\mu}{\\frac{S_n}{\\sqrt{n}}} $\n",
    "  * t 分配當自由度為 30 時，很接近常態分配\n",
    "  * t 分配當樣本數越多時，自由度就會越高\n",
    "* 卡方分配：卡方分配是標準常態的變形\n",
    "  * Z 為標準常態分配，Z 的平方為自由度為 1 的卡方分配 <br> \n",
    "    $ \\to Z \\sim N(0,1), Y=Z^2 \\to Y \\sim X^2(1) $\n",
    "  * 特性\n",
    "    * N 個卡方分配相加為自由度为 nv 的卡方分 <br>\n",
    "      $ \\to Y_i \\sim \\chi^2(\\nu) \\to \\sum_{i=1}^n Y_1+...+Y_N \\sim \\chi^2(n \\nu) $\n",
    "    * N 個常態分配的平方相加為自由度為 n 的卡方分配 <br>\n",
    "      $ \\to Z_i \\sim N(0,1) \\to \\sum_{i=1}^n Z_i^2+...+Z_n^2 \\sim \\chi^2(n)$\n",
    "* F 分配"
   ]
  },
  {
   "cell_type": "markdown",
   "metadata": {},
   "source": [
    "* 使用時機\n",
    "\n",
    "| 母體標準差 | 樣本數量 | 選用分配 |\n",
    "|-----------|:--------:|:--------:|\n",
    "| 已知 | 小樣本 | Z分配 |\n",
    "| 已知 | 大樣本 | Z分配 |\n",
    "| 未知 | 小樣本(小於30) | t分配 |\n",
    "| 未知 | 大樣本 | t分配/Z分配(兩者皆可) |"
   ]
  },
  {
   "cell_type": "markdown",
   "metadata": {},
   "source": [
    "# 假設檢定的誤差類型"
   ]
  },
  {
   "cell_type": "markdown",
   "metadata": {},
   "source": [
    "<table border=\"1\" width=\"100%\">\n",
    "    <tr>\n",
    "        <th width=\"20%\">  </a>\n",
    "        <th width=\"20%\">  </a>\n",
    "        <th width=\"20%\">  </a>\n",
    "        <th width=\"20%\">  </a>\n",
    "        <th width=\"20%\">  </a>\n",
    "    </tr>\n",
    "    <tr>\n",
    "        <td>  </td>\n",
    "        <td>  </td>\n",
    "        <td colspan=\"2\"> Truth(Decision) </td>\n",
    "        <td>  </td>\n",
    "    </tr>\n",
    "    <tr>\n",
    "        <td colspan=\"2\">  </td>\n",
    "        <td> Positive </td>\n",
    "        <td> Negative </td>\n",
    "        <td>  </td>\n",
    "    </tr>\n",
    "    <tr>\n",
    "        <td rawspan=\"2\"> Test(Truth) </td>\n",
    "        <td> Positive </td>\n",
    "        <td> True Positive </td>\n",
    "        <td> False Positive <br> \n",
    "             Type I $\\alpha$  </td>\n",
    "        <td> Total Testing Positive </td>\n",
    "    </tr>\n",
    "    <tr>\n",
    "        <td>  </td>\n",
    "        <td> Negative </td>\n",
    "        <td> False Negative <br> \n",
    "             Type II $\\beta$  </td>\n",
    "        <td> True Negative </td>\n",
    "        <td> Total Testing Negative </td>\n",
    "    </tr>\n",
    "    <tr>\n",
    "        <td>  </td>\n",
    "        <td>  </td>\n",
    "        <td> Total Truly Positive </td>\n",
    "        <td> Total Truly Negative </td>\n",
    "        <td> Total </td>\n",
    "    </tr>\n",
    "</table>\n",
    "\n",
    "* $\\alpha$：Type I error/型一誤差，又稱偽陽性 false positive，$H_0$ 是對的，但是我們做了實驗後，卻拒絕 $H_0$，又稱顯著水準(significant level)，設定 $\\alpha$ 值愈小，表示希望檢測時的誤判機率愈低(即希望檢定能愈準確)，又稱偽陽性 false positive\n",
    "* $\\beta$：Type II error/型二誤差，又稱偽陰性 false negative，H0 是錯的，但是我們做了實驗後，卻沒有證據拒絕 $H_0$，又稱偽陰性false negative\n",
    "* $1-\\beta$：又稱檢定力，$H_0$ 是錯的，但是我們做了實驗後拒絕 $H_0$ 的能力\n",
    "* 範例說明\n",
    "  * 若用驗孕棒為一位未懷孕的女士驗孕，結果是已懷孕(positive)，這是第一型錯誤\n",
    "  * 若用驗孕棒為一位已懷孕的女士驗孕，結果是未懷孕(negativ)，這是第二型錯誤"
   ]
  },
  {
   "cell_type": "code",
   "execution_count": null,
   "metadata": {},
   "outputs": [],
   "source": [
    "```R\n",
    "with(plots):\n",
    "    g1<-animatecurve((1/((2*Pi)^0.5))*exp((-0.5)*x^2),x=-5..5,frames=80,color=red):\n",
    "    g2<-animatecurve((GAMMA(15.5)/GAMMA(15))*(1/Pi^0.5)*(1/30^0.5)*(1+x^2/30)^(-15.5),x=-5..5,frames=80,color=black):\n",
    "    g3<-animatecurve((GAMMA(25.5)/GAMMA(25))*(1/Pi^0.5)*(1/50^0.5)*(1+x^2/50)^(-25.5),x=-5..5,frames=80,color=green):\n",
    "    g4<-animatecurve((GAMMA(3)/GAMMA(2.5))*(1/Pi^0.5)*(1/5^0.5)*(1+x^2/5)^(-3),x=-5..5,frames=80,color=blue):\n",
    "\n",
    "display(g1,g2,g3,g4)\n",
    "```"
   ]
  },
  {
   "cell_type": "markdown",
   "metadata": {},
   "source": [
    "* 參考資料：\n",
    "  * http://www.cust.edu.tw/mathmet/t_and_nornal.htm"
   ]
  },
  {
   "cell_type": "code",
   "execution_count": null,
   "metadata": {},
   "outputs": [],
   "source": []
  }
 ],
 "metadata": {
  "kernelspec": {
   "display_name": "Python 3",
   "language": "python",
   "name": "python3"
  },
  "language_info": {
   "codemirror_mode": {
    "name": "ipython",
    "version": 3
   },
   "file_extension": ".py",
   "mimetype": "text/x-python",
   "name": "python",
   "nbconvert_exporter": "python",
   "pygments_lexer": "ipython3",
   "version": "3.8.5"
  }
 },
 "nbformat": 4,
 "nbformat_minor": 4
}
