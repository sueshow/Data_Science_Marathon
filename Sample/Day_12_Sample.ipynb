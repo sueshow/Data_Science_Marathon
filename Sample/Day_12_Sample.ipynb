{
 "cells": [
  {
   "cell_type": "markdown",
   "metadata": {
    "id": "a_VmAfWSBJs7"
   },
   "source": [
    "<img width=150 src=\"https://upload.wikimedia.org/wikipedia/commons/thumb/1/1a/NumPy_logo.svg/200px-NumPy_logo.svg.png\"></img>"
   ]
  },
  {
   "cell_type": "markdown",
   "metadata": {},
   "source": [
    "* 教學目標\n",
    "  * 知道 DataFrame 中迴圈的運作規則\n",
    "  * 了解 DataFrame 中 Map、 Apply、Applymap 差異\n",
    "  * 知道不建議在 DataFrame 進行迭代操作的原因"
   ]
  },
  {
   "cell_type": "code",
   "execution_count": 3,
   "metadata": {
    "scrolled": true
   },
   "outputs": [
    {
     "name": "stdout",
     "output_type": "stream",
     "text": [
      "<module 'numpy' from 'D:\\\\anaconda3\\\\lib\\\\site-packages\\\\numpy\\\\__init__.py'>\n",
      "1.19.2\n",
      "<module 'pandas' from 'D:\\\\anaconda3\\\\lib\\\\site-packages\\\\pandas\\\\__init__.py'>\n",
      "1.1.3\n"
     ]
    }
   ],
   "source": [
    "# 載入 NumPy, Pandas 套件\n",
    "import numpy as np\n",
    "import pandas as pd\n",
    "\n",
    "# 檢查正確載入與版本\n",
    "print(np)\n",
    "print(np.__version__)\n",
    "print(pd)\n",
    "print(pd.__version__)"
   ]
  },
  {
   "cell_type": "markdown",
   "metadata": {},
   "source": [
    "# 【基礎12】"
   ]
  },
  {
   "cell_type": "markdown",
   "metadata": {},
   "source": [
    "### DataFrame 當中的 For Loop"
   ]
  },
  {
   "cell_type": "code",
   "execution_count": 2,
   "metadata": {},
   "outputs": [
    {
     "name": "stdout",
     "output_type": "stream",
     "text": [
      "name\n",
      "age\n"
     ]
    }
   ],
   "source": [
    "df = pd.DataFrame({\n",
    "  'name': ['Alice', 'Bob'],\n",
    "  'age': [20, 32]\n",
    "})\n",
    "\n",
    "for c in df:\n",
    "    print(c)"
   ]
  },
  {
   "cell_type": "markdown",
   "metadata": {},
   "source": [
    "#### 橫向的資料迭代\n",
    "如果我們想要對以「筆」為單位的資料迭代的話，最暴力的方法可以這樣做："
   ]
  },
  {
   "cell_type": "code",
   "execution_count": 3,
   "metadata": {},
   "outputs": [
    {
     "name": "stdout",
     "output_type": "stream",
     "text": [
      "name    Alice\n",
      "age        20\n",
      "Name: 0, dtype: object\n",
      "name    Bob\n",
      "age      32\n",
      "Name: 1, dtype: object\n"
     ]
    }
   ],
   "source": [
    "df = pd.DataFrame({\n",
    "  'name': ['Alice', 'Bob'],\n",
    "  'age': [20, 32]\n",
    "})\n",
    "\n",
    "for i in range(len(df)):\n",
    "    print(df.iloc[i])"
   ]
  },
  {
   "cell_type": "markdown",
   "metadata": {},
   "source": [
    "#### iteritems()、iterrows()、itertuples()\n",
    "第二種方法可以直接用 DataFrame 內建的 iterative 方法："
   ]
  },
  {
   "cell_type": "code",
   "execution_count": 4,
   "metadata": {
    "scrolled": true
   },
   "outputs": [
    {
     "name": "stdout",
     "output_type": "stream",
     "text": [
      "('name', 0    Alice\n",
      "1      Bob\n",
      "Name: name, dtype: object)\n",
      "('age', 0    20\n",
      "1    32\n",
      "Name: age, dtype: int64)\n",
      "(0, name    Alice\n",
      "age        20\n",
      "Name: 0, dtype: object)\n",
      "(1, name    Bob\n",
      "age      32\n",
      "Name: 1, dtype: object)\n",
      "Pandas(Index=0, name='Alice', age=20)\n",
      "Pandas(Index=1, name='Bob', age=32)\n"
     ]
    }
   ],
   "source": [
    "for d in df.iteritems():\n",
    "    print(d)\n",
    "\n",
    "for d in df.iterrows():\n",
    "    print(d)\n",
    "\n",
    "for d in df.itertuples():\n",
    "    print(d)"
   ]
  },
  {
   "cell_type": "markdown",
   "metadata": {},
   "source": [
    "#### apply\n",
    "第三種方法是使用 Pandas 當中的 apply 方法，apply 是一種用於逐行或逐列的循環處理方法，常搭配 lambda 匿名函式一起使用："
   ]
  },
  {
   "cell_type": "code",
   "execution_count": 5,
   "metadata": {},
   "outputs": [
    {
     "name": "stdout",
     "output_type": "stream",
     "text": [
      "score    98\n",
      "age      32\n",
      "dtype: int64\n",
      "====================\n",
      "score    67\n",
      "age      20\n",
      "dtype: int64\n",
      "====================\n",
      "score    31\n",
      "age      12\n",
      "dtype: int64\n"
     ]
    }
   ],
   "source": [
    "df = pd.DataFrame({\n",
    "  'score': [98, 67, 85],\n",
    "  'age': [20, 32, 28]\n",
    "})\n",
    "\n",
    "print(df.apply(np.max))\n",
    "print('='*20)\n",
    "print(df.apply(np.min))\n",
    "print('='*20)\n",
    "print(df.apply(lambda x: x.max() - x.min()))"
   ]
  },
  {
   "cell_type": "markdown",
   "metadata": {},
   "source": [
    "#### map\n",
    "另外一種跟 apply 很像的方法叫做 map："
   ]
  },
  {
   "cell_type": "code",
   "execution_count": 8,
   "metadata": {},
   "outputs": [
    {
     "data": {
      "text/plain": [
       "0   -20\n",
       "1   -32\n",
       "2   -28\n",
       "Name: age, dtype: int64"
      ]
     },
     "execution_count": 8,
     "metadata": {},
     "output_type": "execute_result"
    }
   ],
   "source": [
    "df = pd.DataFrame({\n",
    "  'score': [98, 67, 85],\n",
    "  'age': [20, 32, 28]\n",
    "})\n",
    "\n",
    "df['age'].map(lambda x: -x)"
   ]
  },
  {
   "cell_type": "markdown",
   "metadata": {},
   "source": [
    "#### applymap\n",
    "在 Pandas 當中，有一種同時 apply 和 map 方法稱為 applymap："
   ]
  },
  {
   "cell_type": "code",
   "execution_count": 9,
   "metadata": {
    "scrolled": true
   },
   "outputs": [
    {
     "data": {
      "text/html": [
       "<div>\n",
       "<style scoped>\n",
       "    .dataframe tbody tr th:only-of-type {\n",
       "        vertical-align: middle;\n",
       "    }\n",
       "\n",
       "    .dataframe tbody tr th {\n",
       "        vertical-align: top;\n",
       "    }\n",
       "\n",
       "    .dataframe thead th {\n",
       "        text-align: right;\n",
       "    }\n",
       "</style>\n",
       "<table border=\"1\" class=\"dataframe\">\n",
       "  <thead>\n",
       "    <tr style=\"text-align: right;\">\n",
       "      <th></th>\n",
       "      <th>score</th>\n",
       "      <th>age</th>\n",
       "    </tr>\n",
       "  </thead>\n",
       "  <tbody>\n",
       "    <tr>\n",
       "      <th>0</th>\n",
       "      <td>-98</td>\n",
       "      <td>-20</td>\n",
       "    </tr>\n",
       "    <tr>\n",
       "      <th>1</th>\n",
       "      <td>-67</td>\n",
       "      <td>-32</td>\n",
       "    </tr>\n",
       "    <tr>\n",
       "      <th>2</th>\n",
       "      <td>-85</td>\n",
       "      <td>-28</td>\n",
       "    </tr>\n",
       "  </tbody>\n",
       "</table>\n",
       "</div>"
      ],
      "text/plain": [
       "   score  age\n",
       "0    -98  -20\n",
       "1    -67  -32\n",
       "2    -85  -28"
      ]
     },
     "execution_count": 9,
     "metadata": {},
     "output_type": "execute_result"
    }
   ],
   "source": [
    "df = pd.DataFrame({\n",
    "  'score': [98, 67, 85],\n",
    "  'age': [20, 32, 28]\n",
    "})\n",
    "\n",
    "df.applymap(lambda x: -x)"
   ]
  },
  {
   "cell_type": "markdown",
   "metadata": {},
   "source": [
    "#### Map、 Apply、Applymap"
   ]
  },
  {
   "cell_type": "markdown",
   "metadata": {},
   "source": [
    "* map：對 series 所有元素作一樣的操作 \n",
    "* apply：對 series  或 dataframe 逐行或逐列做一樣的操作\n",
    "* applymap：對 dataframe 所有元素作一樣的操作"
   ]
  },
  {
   "cell_type": "markdown",
   "metadata": {},
   "source": [
    "#### 補充：lambda 匿名函式\n",
    "Map、 Apply、Applymap 很常搭配 lambda 匿名函式 一起使用，但其實裡面也可以放函式名稱，我們來比較看看："
   ]
  },
  {
   "cell_type": "code",
   "execution_count": 10,
   "metadata": {},
   "outputs": [
    {
     "data": {
      "text/plain": [
       "score    31\n",
       "age      12\n",
       "dtype: int64"
      ]
     },
     "execution_count": 10,
     "metadata": {},
     "output_type": "execute_result"
    }
   ],
   "source": [
    "df.apply(lambda x: x.max() - x.min())"
   ]
  },
  {
   "cell_type": "code",
   "execution_count": 11,
   "metadata": {},
   "outputs": [
    {
     "name": "stdout",
     "output_type": "stream",
     "text": [
      "score    31\n",
      "age      12\n",
      "dtype: int64\n"
     ]
    }
   ],
   "source": [
    "def f(x):\n",
    "    return x.max() - x.min()\n",
    "print(df.apply(f))"
   ]
  },
  {
   "cell_type": "markdown",
   "metadata": {},
   "source": [
    "* 補充：\n",
    "  * lambda 匿名函式是對於 Python 入門者來說比較難的一個坎，很多人會覺得這是一種「炫技」的手法\n",
    "  * 不建議在 DataFrame 進行迭代操作"
   ]
  },
  {
   "cell_type": "code",
   "execution_count": null,
   "metadata": {},
   "outputs": [],
   "source": []
  }
 ],
 "metadata": {
  "kernelspec": {
   "display_name": "Python 3",
   "language": "python",
   "name": "python3"
  },
  "language_info": {
   "codemirror_mode": {
    "name": "ipython",
    "version": 3
   },
   "file_extension": ".py",
   "mimetype": "text/x-python",
   "name": "python",
   "nbconvert_exporter": "python",
   "pygments_lexer": "ipython3",
   "version": "3.8.5"
  }
 },
 "nbformat": 4,
 "nbformat_minor": 2
}
