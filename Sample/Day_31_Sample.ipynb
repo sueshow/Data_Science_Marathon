{
 "cells": [
  {
   "cell_type": "markdown",
   "metadata": {
    "id": "a_VmAfWSBJs7"
   },
   "source": [
    "<img width=150 src=\"https://upload.wikimedia.org/wikipedia/commons/thumb/1/1a/NumPy_logo.svg/200px-NumPy_logo.svg.png\"></img>"
   ]
  },
  {
   "cell_type": "markdown",
   "metadata": {},
   "source": [
    "* 目標\n",
    "  * 認識常見的條件機率與貝式定理"
   ]
  },
  {
   "cell_type": "markdown",
   "metadata": {},
   "source": [
    "# 貝式定理"
   ]
  },
  {
   "cell_type": "markdown",
   "metadata": {},
   "source": [
    "* 【案例1】\n",
    "  * [柯 P 如何靠「貝式定理」判斷要不要放颱風假？](https://buzzorange.com/techorange/2018/07/12/kp-waht-is-bayes-theorem/)\n",
    "  * 思考：同樣是放假或不放假，為何在 10 日與在 11 日做的決策不一定會一樣呢？\n",
    "  * 決策改變的因素：時間越近，颱風路徑影響台灣的確定性越高，因此在越晚的時間點做決策，預測颱風路徑準確度越高，當然放颱風假的判斷就會越準確"
   ]
  },
  {
   "cell_type": "markdown",
   "metadata": {},
   "source": [
    "* 【案例2】\n",
    "   * 為何九一一攻擊時，第二棟大樓被撞不用太驚訝？\n",
    "   * 九一一恐怖攻擊那天早上，美國高樓被恐怖攻擊的可能性根據歷史紀錄可是兩萬分之一，或者說 0.005%，那是第一架飛機還沒撞進大樓前的數據。等到第一架飛機事故發生之後，第二棟樓被攻擊的可能性就無庸置疑\n",
    "   * 思考：為什麼在不同的時間點，美國高樓被恐怖攻擊的可能性會不一樣？\n",
    "   * 決策改變的因素：第一架飛機事故發生之後，恐怖攻擊的情況和先前已經不同"
   ]
  },
  {
   "cell_type": "markdown",
   "metadata": {},
   "source": [
    "* 貝式定理精隨\n",
    "  * 人會因為看見眼前的現象或接收到新資訊，來修正一開始的想法，而讓決策越來越好，越來越趨近於真實世界會發生的現象\n",
    "* 定義\n",
    "  * $ P(A|B) = \\frac{P(A \\cap B)}{P(B)} \\\\\n",
    "      = \\frac{P(B|A)P(A)}{P(B|A)P(A)+P(B|A^c)P(A^c)}$\n",
    "  * 前式：以長髮/短髮的角度來計算，後式：以男女的角度來計算"
   ]
  },
  {
   "cell_type": "markdown",
   "metadata": {
    "colab_type": "text",
    "id": "Z9YHBcEGYdBV"
   },
   "source": [
    "* 【案例3】<br>\n",
    "  * 電影院裡通常都是成對情侶一起去看，假設有一半是女的，有一半是男的。假設電影院中有100 個人裡面，有 50 名男性和 50 名女性。在這 50 名女性裡，有一半的人有長髮（25 人），另一半有短髮（25 人）；在 50 名男性當中，45 個人有短髮，5個人有長髮\n",
    "    * Q1：當知道排在前面的人是長頭髮的條件下，他是男性的機率？\n",
    "    * Q2：當知道排在前面的人是長頭髮的條件下，她是女性的機率？\n",
    "  * 結論\n",
    "    * $ P(女生) = 0.5 $, $ P(男生) = 0.5 $\n",
    "    * $ P(長髮|女生) = 0.5 $, $ P(長髮|男生) = 0.1 $\n",
    "    * $ P(男生|長髮) = \\frac{P(男生且長髮)}{P(長髮)} \\\\\n",
    "        = \\frac{ \\frac{5}{100} }{ \\frac{30}{100} } = 0.16 $\n",
    "    * $ P(女生|長髮) = \\frac{P(女生且長髮)}{P(長髮)} \\\\\n",
    "        = \\frac{ \\frac{25}{100} }{ \\frac{30}{100} } = 0.83 $\n",
    "\n",
    "![例子](example1.png) "
   ]
  },
  {
   "cell_type": "markdown",
   "metadata": {},
   "source": [
    "* 寫法2：calculate P(A|B) given P(A), P(B|A), P(B|not A)"
   ]
  },
  {
   "cell_type": "code",
   "execution_count": 1,
   "metadata": {},
   "outputs": [
    {
     "name": "stdout",
     "output_type": "stream",
     "text": [
      "P(A|B) = 83.33\n"
     ]
    }
   ],
   "source": [
    "def bayes_theorem(p_a, p_b_given_a, p_b_given_not_a):\n",
    "\t# calculate P(not A)\n",
    "\tnot_a = 1 - p_a\n",
    "\t# calculate P(B)\n",
    "\tp_b = p_b_given_a * p_a + p_b_given_not_a * not_a\n",
    "\t# calculate P(A|B)\n",
    "\tp_a_given_b = (p_b_given_a * p_a) / p_b\n",
    "\treturn p_a_given_b\n",
    " \n",
    "# P(A): P(女生)\n",
    "# P(not A): P(男生)\n",
    "p_a = 0.5\n",
    "# P(B|A): P(長髮|女生)\n",
    "p_b_given_a = 0.5\n",
    "# P(B|not A): P(長髮|男生)\n",
    "p_b_given_not_a = 0.1\n",
    "# calculate P(A|B): P(女生|長髮)\n",
    "result = bayes_theorem(p_a, p_b_given_a, p_b_given_not_a)\n",
    "# summarize\n",
    "# P(女生|長髮)\n",
    "print('P(A|B) = {0}'.format(round(result * 100,2)))"
   ]
  },
  {
   "cell_type": "code",
   "execution_count": null,
   "metadata": {},
   "outputs": [],
   "source": []
  }
 ],
 "metadata": {
  "colab": {
   "name": "Day33.YOLO 細節理解 - 網路輸出的後處理_HW.ipynb",
   "provenance": []
  },
  "kernelspec": {
   "display_name": "Python 3",
   "language": "python",
   "name": "python3"
  },
  "language_info": {
   "codemirror_mode": {
    "name": "ipython",
    "version": 3
   },
   "file_extension": ".py",
   "mimetype": "text/x-python",
   "name": "python",
   "nbconvert_exporter": "python",
   "pygments_lexer": "ipython3",
   "version": "3.8.5"
  }
 },
 "nbformat": 4,
 "nbformat_minor": 1
}
