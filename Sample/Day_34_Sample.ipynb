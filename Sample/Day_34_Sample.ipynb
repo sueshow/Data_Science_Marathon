{
 "cells": [
  {
   "cell_type": "markdown",
   "metadata": {
    "id": "a_VmAfWSBJs7"
   },
   "source": [
    "<img width=150 src=\"https://upload.wikimedia.org/wikipedia/commons/thumb/1/1a/NumPy_logo.svg/200px-NumPy_logo.svg.png\"></img>"
   ]
  },
  {
   "cell_type": "markdown",
   "metadata": {},
   "source": [
    "* 目的：提高 email 的開信率<br>\n",
    "  * 實驗中設計了兩種情境，左邊是偏向罐頭訊息，用統一的內容，右邊是個人化訊息，透過比較親親切的語言，運用個人化的打招呼的方式，是否能提高開信率？\n",
    "  * 我們總共寄給100個人，兩種不同的email主旨，50封是統一式開頭，50封是個人化開頭統一式開頭，開信率為10%，個人化開頭，開信率為30%，看到這樣的資料會怎樣下決定？"
   ]
  },
  {
   "cell_type": "markdown",
   "metadata": {},
   "source": [
    "# A/B test 的 5 步驟：以優化 Email 行銷為例"
   ]
  },
  {
   "cell_type": "markdown",
   "metadata": {},
   "source": [
    "* 確認目標\n",
    "  * 以你的目標族群，是否有一種客製化信件書寫格式，能有效的提高 email 行銷的觸及率，而開信率是量度觸及率的指標之一\n",
    "  * 目的：提高 email 的開信率\n",
    "<br>\n",
    "* 建立實驗(測試項目)\n",
    "  * 影響開信率的因素以信件主旨、寄件人姓名和寄送時間是比較容易操作的 A/B 測試項目\n",
    "  * 想挑選添加何種個人化風格，讓收件者感覺到你是特別寄給他的，實驗中設計了兩種情境，一是偏向罐頭訊息(大家早安)，用統一的內容，另一是個人化訊息(Mora早安)，透過比較親親切的語言，運用個人化的打招呼的方式，是否能提高開信率？\n",
    "  * 不同的測試項目\n",
    "  \n",
    "| 測試項目 | A選擇 | B選擇 |\n",
    "|----------|:----------:|:----------:|\n",
    "| 信件主旨 | 收件人+主旨 | 主旨 |\n",
    "| 寄信時間 | 平日 | 周末 |\n",
    "\n",
    "* 建立假設\n",
    "  * 假設收到偏向罐頭訊息(大家早安)且開信的機率為 $p_a$，收到個人化訊息(Mora早安)且開信的機率為 $p_b$\n",
    "  * $H_0: p_a \\geq p_b$, $H_1: p_a < p_b$\n",
    "<br>\n",
    "* 隨機分配方法和時間規劃\n",
    "  * 參考資料：[隨機分派](http://statisticbyjerry.blogspot.com/2016/10/randomization-in-experimental-study.html)\n",
    "\n",
    "| 隨機分配的方法 | 英文 | 定義 |\n",
    "|---------------|:---------------:|:---------------:|\n",
    "| 簡單隨機分派 | Randomization | 根據亂數表，隨機分配 |\n",
    "| 分層隨機 | Stratified randomization | 依照特定資訊(如：不同縣市)先進行分層，在依照各分層組內進行隨機分派，之後再將各組分派後的結果整併為治療組與控制組 |\n",
    "| 分群隨機 | Cluster randomization | 執行時須先將樣本區分成數個組內個體相似性高的群組，接著再以這些 cluster 而非個體，來進行隨機分派 |\n",
    "\n",
    "* 實驗結果分析\n",
    "  * 實驗：我們總共寄給 100 個人，兩種不同的 email 主旨，50 封是統一式開頭，50 封是個人化開頭，統一式開頭，開信率為 10%，個人化開頭，開信率為 30%，看到這樣的資料會怎樣下決定？\n",
    "  * STEP01：將抽象情況數值化\n",
    "    * 開信服從柏努力分配\n",
    "    * 統一：$X_{a,i} \\sim Bernoulli(p_a)$, $i=1,...,50$<br>\n",
    "      * 平均數：$p_a$\n",
    "      * 變異數：$ \\sigma_a^2 = p_a(1-p_a) $\n",
    "    * 客製：$X_{b,i} \\sim Bernoulli(p_b)$, $i=1,...,50$<br>\n",
    "      * 平均數：$p_b$\n",
    "      * 變異數：$ \\sigma_b^2 = p_b(1-p_b) $\n",
    "  * STEP02：建立假設\n",
    "    * 目標假設\n",
    "      * $H_0: p_a - p_b \\geq 0$\n",
    "      * $H_1: p_a - p_b < 0$\n",
    "    * 依據中央極限定理\n",
    "      * $\\bar{X}_a \\to N(p_a, \\frac{\\sigma_a^2}{n_a})$<br>\n",
    "        $\\bar{X}_b \\to N(p_b, \\frac{\\sigma_b^2}{n_b})$\n",
    "      * $\\bar{X}_a - \\bar{X}_b \\to N(p_a-p_b, \\frac{\\sigma_a^2}{n_a}+\\frac{\\sigma_b^2}{n_b})$\n",
    "  * STEP03：計算估計值<br>\n",
    "    $\\bar{X}_a - \\bar{X}_b \\to N(p_a-p_b, \\frac{\\sigma_a^2}{n_a}+\\frac{\\sigma_b^2}{n_b})$\n",
    "    * $\\bar{X}_a - \\bar{X}_b$ 的估計值為 $\\hat{p_a}-\\hat{p_b}=0.3-0.1=0.2$\n",
    "    * $\\frac{\\sigma_a^2}{n_a}$：樣本變異數估計值=$\\frac{\\hat{p_a}(1-\\hat{p_a})}{n_a-1} \\to \\frac{\\hat{p}(1-\\hat{p})}{n_a-1}$\n",
    "    * $\\frac{\\sigma_b^2}{n_b}$：樣本變異數估計值=$\\frac{\\hat{p_b}(1-\\hat{p_b})}{n_b-1} \\to \\frac{\\hat{p}(1-\\hat{p})}{n_b-1}$\n",
    "  * STEP04：計算 p 值<br>\n",
    "    $\\bar{p_a} - \\bar{p_b} \\to N(p_a-p_b, \\frac{\\sigma_a^2}{n_a}+\\frac{\\sigma_b^2}{n_b})$\n",
    "    * P值(p-value)：錯誤地拒絕 $H_0$ 的機率\n",
    "    * $ P(\\bar{p_a} - \\bar{p_b}<0.1-0.3|H_0) = P(\\bar{p_a} - \\bar{p_b}<-0.2|H_0)$<br>\n",
    "      =$ P(\\frac{\\bar{p_a} - \\bar{p_b}-(p_a-p_b)}{\\sqrt{\\frac{\\hat{\\sigma_a^2}}{n_a}+\\frac{\\hat{\\sigma_b^2}}{n_b}}}<\\frac{-0.2-(p_a-p_b)}{\\sqrt{\\frac{0.2(1-0.2)}{50-1}+\\frac{0.2(1-0.2)}{50-1}}}|p_a-p_b=0)$<br>\n",
    "      =$P(Z<\\frac{-0.2}{\\sqrt{\\frac{0.2(1-0.2)}{50-1}+\\frac{0.2(1-0.2)}{50-1}}})$<br>\n",
    "      =$P(Z<-2.5)$=0.0062<br>\n",
    "     \n",
    "  * STEP05：python code(如下)\n",
    "  * STEP06：推論\n",
    "\n",
    "\n",
    "<table border=\"1\" width=\"80%\">\n",
    "    <tr>\n",
    "        <th width=\"20%\"> 說明 </a>\n",
    "        <th width=\"20%\"> 統一 </a>\n",
    "        <th width=\"20%\"> 客製 </a>\n",
    "        <th width=\"20%\"> 合併 </a>\n",
    "    </tr>\n",
    "    <tr>\n",
    "        <td> 開信 </td>\n",
    "        <td> 5 </td>\n",
    "        <td> 15 </td>\n",
    "        <td> 20 </td>\n",
    "    </tr>\n",
    "    <tr>\n",
    "        <td> 沒開信 </td>\n",
    "        <td> 45 </td>\n",
    "        <td> 35 </td>\n",
    "        <td> 80 </td>\n",
    "    </tr>\n",
    "    <tr>\n",
    "        <td> 開信率$\\hat{p}$ </td>\n",
    "        <td> 5/50=0.1 </td>\n",
    "        <td> 15/50=0.3 </td>\n",
    "        <td> 20/100=0.2 </td>\n",
    "    </tr>\n",
    "</table>\n",
    "\n"
   ]
  },
  {
   "cell_type": "code",
   "execution_count": 1,
   "metadata": {},
   "outputs": [],
   "source": [
    "import math\n",
    "from scipy import stats"
   ]
  },
  {
   "cell_type": "markdown",
   "metadata": {},
   "source": [
    "## 雙樣本比例檢定"
   ]
  },
  {
   "cell_type": "markdown",
   "metadata": {},
   "source": [
    "* 透過算式傳統方法計算結果"
   ]
  },
  {
   "cell_type": "code",
   "execution_count": 5,
   "metadata": {},
   "outputs": [
    {
     "name": "stdout",
     "output_type": "stream",
     "text": [
      "0.08081220356417687\n",
      "====================\n",
      "Z: -2.4748737341529163\n",
      "====================\n",
      "cdf: 0.006664164390408773\n",
      "====================\n"
     ]
    }
   ],
   "source": [
    "mu=0\n",
    "sigma=1\n",
    "print(math.sqrt(0.2*0.8/49+0.2*0.8/49))\n",
    "print('='*20)\n",
    "x=-0.2/math.sqrt(0.2*0.8/49+0.2*0.8/49)\n",
    "cumsum_probs =  stats.norm.cdf(x, mu, sigma)\n",
    "print('Z:', x)\n",
    "print('='*20)\n",
    "print('cdf:', cumsum_probs)\n",
    "print('='*20)"
   ]
  },
  {
   "cell_type": "markdown",
   "metadata": {},
   "source": [
    "## 透過套件進行運算 "
   ]
  },
  {
   "cell_type": "markdown",
   "metadata": {},
   "source": [
    "* 參考資料：[statsmodelsh.stats.proportion.proportions_ztest](https://www.statsmodels.org/0.8.0/generated/statsmodels.stats.proportion.proportions_ztest.html)   \n",
    "* 語法 for 雙樣本比例檢定     \n",
    "   * statsmodels.stats.proportion.proportions_ztest(A, B, alternative='smaller')\n",
    "* 參數說明：\n",
    "    * A：兩組開信的人數\n",
    "    * B：兩組的總人數\n",
    "    * alternative：'two-sided', 'smaller', 'larger' 分別代表 雙尾檢定，左尾檢定與右尾檢定\n",
    "* 輸出\n",
    "    * Z-test：檢定量\n",
    "    * P-value：這樣檢定量下的 p-value值"
   ]
  },
  {
   "cell_type": "code",
   "execution_count": 3,
   "metadata": {},
   "outputs": [],
   "source": [
    "import statsmodels.stats.proportion"
   ]
  },
  {
   "cell_type": "code",
   "execution_count": 4,
   "metadata": {},
   "outputs": [
    {
     "data": {
      "text/plain": [
       "(-2.4999999999999996, 0.006209665325776138)"
      ]
     },
     "execution_count": 4,
     "metadata": {},
     "output_type": "execute_result"
    }
   ],
   "source": [
    "A = [5,15] # 有開信的個數\n",
    "B = [50,50] #各組實驗總個數\n",
    "statsmodels.stats.proportion.proportions_ztest(A, B, alternative='smaller')"
   ]
  },
  {
   "cell_type": "markdown",
   "metadata": {},
   "source": [
    "P值 = 0.006 < α = 0.05<br>\n",
    "結果傾向拒絕 $p_a - p_b \\geq 0$，說明右邊客製化的開信率優於統一式的開信率"
   ]
  },
  {
   "cell_type": "markdown",
   "metadata": {},
   "source": [
    "* 比例檢定單樣本語法，網站：[statsmodels.stats.proportion](https://www.statsmodels.org/0.8.0/generated/statsmodels.stats.proportion.proportions_ztest.html)\n",
    "* 雙樣本平均數檢定，網站：[scipy.stats.ttest_ind](https://docs.scipy.org/doc/scipy/reference/generated/scipy.stats.ttest_ind.html)\n",
    "* 相依樣本雙樣本 python 語法，網站：[scipy.stats.ttest_rel](https://docs.scipy.org/doc/scipy/reference/generated/scipy.stats.ttest_rel.html)"
   ]
  },
  {
   "cell_type": "code",
   "execution_count": null,
   "metadata": {},
   "outputs": [],
   "source": []
  }
 ],
 "metadata": {
  "colab": {
   "name": "Day33.YOLO 細節理解 - 網路輸出的後處理_HW.ipynb",
   "provenance": []
  },
  "kernelspec": {
   "display_name": "Python 3",
   "language": "python",
   "name": "python3"
  },
  "language_info": {
   "codemirror_mode": {
    "name": "ipython",
    "version": 3
   },
   "file_extension": ".py",
   "mimetype": "text/x-python",
   "name": "python",
   "nbconvert_exporter": "python",
   "pygments_lexer": "ipython3",
   "version": "3.8.5"
  }
 },
 "nbformat": 4,
 "nbformat_minor": 1
}
